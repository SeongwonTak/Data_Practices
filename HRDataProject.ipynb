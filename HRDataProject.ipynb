{
  "nbformat": 4,
  "nbformat_minor": 0,
  "metadata": {
    "colab": {
      "name": "HRDataProject.ipynb",
      "provenance": [],
      "toc_visible": true,
      "mount_file_id": "1p0IYBynZEgdIBxsLM52nt0-MrddUqglg",
      "authorship_tag": "ABX9TyN3rUKsT7VeQKsprirYufLK",
      "include_colab_link": true
    },
    "kernelspec": {
      "name": "python3",
      "display_name": "Python 3"
    }
  },
  "cells": [
    {
      "cell_type": "markdown",
      "metadata": {
        "id": "view-in-github",
        "colab_type": "text"
      },
      "source": [
        "<a href=\"https://colab.research.google.com/github/SeongwonTak/Data_Practices/blob/master/HRDataProject.ipynb\" target=\"_parent\"><img src=\"https://colab.research.google.com/assets/colab-badge.svg\" alt=\"Open In Colab\"/></a>"
      ]
    },
    {
      "cell_type": "markdown",
      "metadata": {
        "id": "_-sBQhg4sfum"
      },
      "source": [
        "# 퇴사자 예측 Project\r\n",
        "\r\n",
        "구글 colab에서 HR 관련 Data라는 흥미로운 Dataset을 발견하여 분석에 도전해보기로 한다. 마침 분류 문제이자 범주형 데이터가 많아 연습이 필요한 부분이 잘 반영되어 있는 데이터셋이라 도전하기에 좋은 데이터로 판단되었다.\r\n",
        "\r\n",
        "출처> https://www.kaggle.com/arashnic/hr-analytics-job-change-of-data-scientists\r\n",
        "\r\n"
      ]
    },
    {
      "cell_type": "markdown",
      "metadata": {
        "id": "21aPOb6gsuKO"
      },
      "source": [
        "## 1. 문제와 변수들의 의미\r\n",
        "\r\n",
        "### 문제\r\n",
        "주어진 데이터셋을 바탕으로 퇴사가 예측되는 직원을 분류해라.\r\n",
        "\r\n",
        "### 독립변수\r\n",
        "- enrollee id : 변수\r\n",
        "- City Code : 회사가 있는 도시, City_(숫자) 형식으로 표기\r\n",
        "- City development : 도시의 발전 정도.\r\n",
        "- Gender : 성별\r\n",
        "- Relevent experience : 업무 관련 경력/경험이 있는가?\r\n",
        "- enrolled university : 대학에 등록되어있는가?, 혹은 그 유형은?\r\n",
        "- major_discipline : 자신의 전공/분야는 무엇인가?\r\n",
        "- experience : 최종 경력은 몇년인가?\r\n",
        "- company_size : 직원 수는 몇명인가?\r\n",
        "- companu_type : 직장 이름/종류\r\n",
        "- last_new_job : 이전 직업과 현 직업간의 년수 차이\r\n",
        "- training_hours : 교육 이수시간.\r\n",
        "\r\n",
        "### 종속변수(Target)\r\n",
        "- 0 : 새 직업/직장을 찾지 않을 것이다.\r\n",
        "- 1 : 새 직업/직장을 찾으려고 할 것이다.\r\n"
      ]
    },
    {
      "cell_type": "markdown",
      "metadata": {
        "id": "CzJ0s7w6wOdi"
      },
      "source": [
        "## 2. 가설 및 분석모델 선택\r\n",
        "\r\n",
        "### 가설\r\n",
        "- 도시의 발전 정도가 이직에 영향을 줄까? 발전정도가 낮을수록 이직결심율이 높다.\r\n",
        "- 성별에 따라 이직결심율이 다를 수 있을까? 성별은 영향을 주지 않을 것 같다.\r\n",
        "- 현재 대학 교육을 받고 있으면, 이직결심율에 영향을 줄 것이다.\r\n",
        "- 업무 관련 경험이 맞지 않다면 이직결심율이 높을 것이다.\r\n",
        "- 직원수가 작은 기업일수록 이직결심율이 높을 것이다.\r\n",
        "- 교육 이수 시간이 영향을 줄까? 교육을 많이 받았으면 능력이 있어 이직결심율이 높을 것이다.\r\n",
        "\r\n",
        "### 분석모델\r\n",
        "- 이직을 한다/안한다 이진 분류의 상황이므로 로지스틱 회귀 모델을 사용할려고 한다.\r\n",
        "- 주어진 Train set을 Train Set + Validation Set으로 나눠 Train Set 학습 결과를 Validation Set으로 나눌려고 한다. Validation Set에서 F1-Score을 확인하고자 한다."
      ]
    },
    {
      "cell_type": "markdown",
      "metadata": {
        "id": "kMfcV-5lxY0E"
      },
      "source": [
        "## 3. 데이터 탐색 과정"
      ]
    },
    {
      "cell_type": "code",
      "metadata": {
        "colab": {
          "base_uri": "https://localhost:8080/"
        },
        "id": "4pDlrBQZCQH-",
        "outputId": "bcdb98a9-a3dc-4561-8eaa-6fff959a537c"
      },
      "source": [
        "# 패키지를 먼저 import 한다. 추가로 필요한 패키지는 그때그때.\r\n",
        "import numpy as np\r\n",
        "import pandas as pd\r\n",
        "import seaborn as sns\r\n",
        "import sklearn as sk\r\n",
        "import matplotlib.pyplot as plt\r\n",
        "import statsmodels.api as sm"
      ],
      "execution_count": 2,
      "outputs": [
        {
          "output_type": "stream",
          "text": [
            "/usr/local/lib/python3.6/dist-packages/statsmodels/tools/_testing.py:19: FutureWarning: pandas.util.testing is deprecated. Use the functions in the public API at pandas.testing instead.\n",
            "  import pandas.util.testing as tm\n"
          ],
          "name": "stderr"
        }
      ]
    },
    {
      "cell_type": "code",
      "metadata": {
        "id": "C5HQJLbBBn0Q"
      },
      "source": [
        "# data_set loading\r\n",
        "train_data = pd.read_csv('/content/drive/MyDrive/Colab Notebooks/HRDataProject/aug_train.csv')\r\n",
        "test_data = pd.read_csv('/content/drive/MyDrive/Colab Notebooks/HRDataProject/aug_test.csv')"
      ],
      "execution_count": 54,
      "outputs": []
    },
    {
      "cell_type": "code",
      "metadata": {
        "colab": {
          "base_uri": "https://localhost:8080/",
          "height": 215
        },
        "id": "x-HsEYB-CbYO",
        "outputId": "31bb6aa1-53ea-49cc-a5e1-2ff28083dcb2"
      },
      "source": [
        "train_data.tail()"
      ],
      "execution_count": null,
      "outputs": [
        {
          "output_type": "execute_result",
          "data": {
            "text/html": [
              "<div>\n",
              "<style scoped>\n",
              "    .dataframe tbody tr th:only-of-type {\n",
              "        vertical-align: middle;\n",
              "    }\n",
              "\n",
              "    .dataframe tbody tr th {\n",
              "        vertical-align: top;\n",
              "    }\n",
              "\n",
              "    .dataframe thead th {\n",
              "        text-align: right;\n",
              "    }\n",
              "</style>\n",
              "<table border=\"1\" class=\"dataframe\">\n",
              "  <thead>\n",
              "    <tr style=\"text-align: right;\">\n",
              "      <th></th>\n",
              "      <th>enrollee_id</th>\n",
              "      <th>city</th>\n",
              "      <th>city_development_index</th>\n",
              "      <th>gender</th>\n",
              "      <th>relevent_experience</th>\n",
              "      <th>enrolled_university</th>\n",
              "      <th>education_level</th>\n",
              "      <th>major_discipline</th>\n",
              "      <th>experience</th>\n",
              "      <th>company_size</th>\n",
              "      <th>company_type</th>\n",
              "      <th>last_new_job</th>\n",
              "      <th>training_hours</th>\n",
              "      <th>target</th>\n",
              "    </tr>\n",
              "  </thead>\n",
              "  <tbody>\n",
              "    <tr>\n",
              "      <th>19153</th>\n",
              "      <td>7386</td>\n",
              "      <td>city_173</td>\n",
              "      <td>0.878</td>\n",
              "      <td>Male</td>\n",
              "      <td>No relevent experience</td>\n",
              "      <td>no_enrollment</td>\n",
              "      <td>Graduate</td>\n",
              "      <td>Humanities</td>\n",
              "      <td>14</td>\n",
              "      <td>NaN</td>\n",
              "      <td>NaN</td>\n",
              "      <td>1</td>\n",
              "      <td>42</td>\n",
              "      <td>1.0</td>\n",
              "    </tr>\n",
              "    <tr>\n",
              "      <th>19154</th>\n",
              "      <td>31398</td>\n",
              "      <td>city_103</td>\n",
              "      <td>0.920</td>\n",
              "      <td>Male</td>\n",
              "      <td>Has relevent experience</td>\n",
              "      <td>no_enrollment</td>\n",
              "      <td>Graduate</td>\n",
              "      <td>STEM</td>\n",
              "      <td>14</td>\n",
              "      <td>NaN</td>\n",
              "      <td>NaN</td>\n",
              "      <td>4</td>\n",
              "      <td>52</td>\n",
              "      <td>1.0</td>\n",
              "    </tr>\n",
              "    <tr>\n",
              "      <th>19155</th>\n",
              "      <td>24576</td>\n",
              "      <td>city_103</td>\n",
              "      <td>0.920</td>\n",
              "      <td>Male</td>\n",
              "      <td>Has relevent experience</td>\n",
              "      <td>no_enrollment</td>\n",
              "      <td>Graduate</td>\n",
              "      <td>STEM</td>\n",
              "      <td>&gt;20</td>\n",
              "      <td>50-99</td>\n",
              "      <td>Pvt Ltd</td>\n",
              "      <td>4</td>\n",
              "      <td>44</td>\n",
              "      <td>0.0</td>\n",
              "    </tr>\n",
              "    <tr>\n",
              "      <th>19156</th>\n",
              "      <td>5756</td>\n",
              "      <td>city_65</td>\n",
              "      <td>0.802</td>\n",
              "      <td>Male</td>\n",
              "      <td>Has relevent experience</td>\n",
              "      <td>no_enrollment</td>\n",
              "      <td>High School</td>\n",
              "      <td>NaN</td>\n",
              "      <td>&lt;1</td>\n",
              "      <td>500-999</td>\n",
              "      <td>Pvt Ltd</td>\n",
              "      <td>2</td>\n",
              "      <td>97</td>\n",
              "      <td>0.0</td>\n",
              "    </tr>\n",
              "    <tr>\n",
              "      <th>19157</th>\n",
              "      <td>23834</td>\n",
              "      <td>city_67</td>\n",
              "      <td>0.855</td>\n",
              "      <td>NaN</td>\n",
              "      <td>No relevent experience</td>\n",
              "      <td>no_enrollment</td>\n",
              "      <td>Primary School</td>\n",
              "      <td>NaN</td>\n",
              "      <td>2</td>\n",
              "      <td>NaN</td>\n",
              "      <td>NaN</td>\n",
              "      <td>1</td>\n",
              "      <td>127</td>\n",
              "      <td>0.0</td>\n",
              "    </tr>\n",
              "  </tbody>\n",
              "</table>\n",
              "</div>"
            ],
            "text/plain": [
              "       enrollee_id      city  ...  training_hours target\n",
              "19153         7386  city_173  ...              42    1.0\n",
              "19154        31398  city_103  ...              52    1.0\n",
              "19155        24576  city_103  ...              44    0.0\n",
              "19156         5756   city_65  ...              97    0.0\n",
              "19157        23834   city_67  ...             127    0.0\n",
              "\n",
              "[5 rows x 14 columns]"
            ]
          },
          "metadata": {
            "tags": []
          },
          "execution_count": 6
        }
      ]
    },
    {
      "cell_type": "markdown",
      "metadata": {
        "id": "GP__TL0WEEgO"
      },
      "source": [
        "결측치랑 종류별 변수를 좀 정리하려고 한다.\r\n",
        "\r\n",
        "- enrollee_id. id? 아무리봐도 사원번호다. 없애자.\r\n",
        "- city : 종류별 번호를 보자.\r\n",
        "- city_development_index : 최소가 0, 최대가 1이겠지?\r\n",
        "- gender : 당장 NAN이 보인다. 결측치를 제외하고 퇴사율을 비교하여, 의미가 없는 데이터라면, 성별은 없애도 그만.\r\n",
        "- relevent_experience : 결측치를 찾자. 대신0 또는 1로 분류하여 있으면 1, 없으면 0으로 표기 대비를 해두자.\r\n",
        "- enrolled_university : 같은식으로. 분류.\r\n",
        "- major_discipline : 전공별 분류. \r\n",
        "- company_size : NAN이 생각보다 많아보이는데,?\r\n",
        "- company_type : 역시 NAN이 너무 많아 보인다...\r\n",
        "- last_new_job : 결측치 및 분포 확인\r\n",
        "- traiing_hours : 결측치 및 분포 확인"
      ]
    },
    {
      "cell_type": "code",
      "metadata": {
        "colab": {
          "base_uri": "https://localhost:8080/"
        },
        "id": "AsWM0sx9FocG",
        "outputId": "38800e88-00e0-452d-f902-3e8a6a835157"
      },
      "source": [
        "# 결측치 개수 확인\r\n",
        "train_data.isnull().sum()"
      ],
      "execution_count": null,
      "outputs": [
        {
          "output_type": "execute_result",
          "data": {
            "text/plain": [
              "enrollee_id                  0\n",
              "city                         0\n",
              "city_development_index       0\n",
              "gender                    4508\n",
              "relevent_experience          0\n",
              "enrolled_university        386\n",
              "education_level            460\n",
              "major_discipline          2813\n",
              "experience                  65\n",
              "company_size              5938\n",
              "company_type              6140\n",
              "last_new_job               423\n",
              "training_hours               0\n",
              "target                       0\n",
              "dtype: int64"
            ]
          },
          "metadata": {
            "tags": []
          },
          "execution_count": 7
        }
      ]
    },
    {
      "cell_type": "code",
      "metadata": {
        "colab": {
          "base_uri": "https://localhost:8080/"
        },
        "id": "L-vx55sQGBGC",
        "outputId": "afb3180c-f797-4337-f5d5-f31de166bb73"
      },
      "source": [
        "check_cols = ['gender','enrolled_university', 'education_level', 'major_discipline',\r\n",
        "              'experience', 'company_size', 'company_type']\r\n",
        "for i in check_cols:\r\n",
        "  print(train_data.value_counts(i), sep='\\n')\r\n"
      ],
      "execution_count": null,
      "outputs": [
        {
          "output_type": "stream",
          "text": [
            "gender\n",
            "Male      13221\n",
            "Female     1238\n",
            "Other       191\n",
            "dtype: int64\n",
            "enrolled_university\n",
            "no_enrollment       13817\n",
            "Full time course     3757\n",
            "Part time course     1198\n",
            "dtype: int64\n",
            "education_level\n",
            "Graduate          11598\n",
            "Masters            4361\n",
            "High School        2017\n",
            "Phd                 414\n",
            "Primary School      308\n",
            "dtype: int64\n",
            "major_discipline\n",
            "STEM               14492\n",
            "Humanities           669\n",
            "Other                381\n",
            "Business Degree      327\n",
            "Arts                 253\n",
            "No Major             223\n",
            "dtype: int64\n",
            "experience\n",
            ">20    3286\n",
            "5      1430\n",
            "4      1403\n",
            "3      1354\n",
            "6      1216\n",
            "2      1127\n",
            "7      1028\n",
            "10      985\n",
            "9       980\n",
            "8       802\n",
            "15      686\n",
            "11      664\n",
            "14      586\n",
            "1       549\n",
            "<1      522\n",
            "16      508\n",
            "12      494\n",
            "13      399\n",
            "17      342\n",
            "19      304\n",
            "18      280\n",
            "20      148\n",
            "dtype: int64\n",
            "company_size\n",
            "50-99        3083\n",
            "100-500      2571\n",
            "10000+       2019\n",
            "10/49        1471\n",
            "1000-4999    1328\n",
            "<10          1308\n",
            "500-999       877\n",
            "5000-9999     563\n",
            "dtype: int64\n",
            "company_type\n",
            "Pvt Ltd                9817\n",
            "Funded Startup         1001\n",
            "Public Sector           955\n",
            "Early Stage Startup     603\n",
            "NGO                     521\n",
            "Other                   121\n",
            "dtype: int64\n"
          ],
          "name": "stdout"
        }
      ]
    },
    {
      "cell_type": "code",
      "metadata": {
        "colab": {
          "base_uri": "https://localhost:8080/",
          "height": 284
        },
        "id": "-mPC9gXOJy_D",
        "outputId": "bec5eecd-4d38-4ddc-f185-554ece4bc21c"
      },
      "source": [
        "train_data.describe()"
      ],
      "execution_count": null,
      "outputs": [
        {
          "output_type": "execute_result",
          "data": {
            "text/html": [
              "<div>\n",
              "<style scoped>\n",
              "    .dataframe tbody tr th:only-of-type {\n",
              "        vertical-align: middle;\n",
              "    }\n",
              "\n",
              "    .dataframe tbody tr th {\n",
              "        vertical-align: top;\n",
              "    }\n",
              "\n",
              "    .dataframe thead th {\n",
              "        text-align: right;\n",
              "    }\n",
              "</style>\n",
              "<table border=\"1\" class=\"dataframe\">\n",
              "  <thead>\n",
              "    <tr style=\"text-align: right;\">\n",
              "      <th></th>\n",
              "      <th>enrollee_id</th>\n",
              "      <th>city_development_index</th>\n",
              "      <th>training_hours</th>\n",
              "      <th>target</th>\n",
              "    </tr>\n",
              "  </thead>\n",
              "  <tbody>\n",
              "    <tr>\n",
              "      <th>count</th>\n",
              "      <td>19158.000000</td>\n",
              "      <td>19158.000000</td>\n",
              "      <td>19158.000000</td>\n",
              "      <td>19158.000000</td>\n",
              "    </tr>\n",
              "    <tr>\n",
              "      <th>mean</th>\n",
              "      <td>16875.358179</td>\n",
              "      <td>0.828848</td>\n",
              "      <td>65.366896</td>\n",
              "      <td>0.249348</td>\n",
              "    </tr>\n",
              "    <tr>\n",
              "      <th>std</th>\n",
              "      <td>9616.292592</td>\n",
              "      <td>0.123362</td>\n",
              "      <td>60.058462</td>\n",
              "      <td>0.432647</td>\n",
              "    </tr>\n",
              "    <tr>\n",
              "      <th>min</th>\n",
              "      <td>1.000000</td>\n",
              "      <td>0.448000</td>\n",
              "      <td>1.000000</td>\n",
              "      <td>0.000000</td>\n",
              "    </tr>\n",
              "    <tr>\n",
              "      <th>25%</th>\n",
              "      <td>8554.250000</td>\n",
              "      <td>0.740000</td>\n",
              "      <td>23.000000</td>\n",
              "      <td>0.000000</td>\n",
              "    </tr>\n",
              "    <tr>\n",
              "      <th>50%</th>\n",
              "      <td>16982.500000</td>\n",
              "      <td>0.903000</td>\n",
              "      <td>47.000000</td>\n",
              "      <td>0.000000</td>\n",
              "    </tr>\n",
              "    <tr>\n",
              "      <th>75%</th>\n",
              "      <td>25169.750000</td>\n",
              "      <td>0.920000</td>\n",
              "      <td>88.000000</td>\n",
              "      <td>0.000000</td>\n",
              "    </tr>\n",
              "    <tr>\n",
              "      <th>max</th>\n",
              "      <td>33380.000000</td>\n",
              "      <td>0.949000</td>\n",
              "      <td>336.000000</td>\n",
              "      <td>1.000000</td>\n",
              "    </tr>\n",
              "  </tbody>\n",
              "</table>\n",
              "</div>"
            ],
            "text/plain": [
              "        enrollee_id  city_development_index  training_hours        target\n",
              "count  19158.000000            19158.000000    19158.000000  19158.000000\n",
              "mean   16875.358179                0.828848       65.366896      0.249348\n",
              "std     9616.292592                0.123362       60.058462      0.432647\n",
              "min        1.000000                0.448000        1.000000      0.000000\n",
              "25%     8554.250000                0.740000       23.000000      0.000000\n",
              "50%    16982.500000                0.903000       47.000000      0.000000\n",
              "75%    25169.750000                0.920000       88.000000      0.000000\n",
              "max    33380.000000                0.949000      336.000000      1.000000"
            ]
          },
          "metadata": {
            "tags": []
          },
          "execution_count": 19
        }
      ]
    },
    {
      "cell_type": "markdown",
      "metadata": {
        "id": "XaTFmfjgJ96F"
      },
      "source": [
        "수치형 및 범주형 데이터에 대해서 기본 통계량을 확인해 보았다.\r\n",
        "\r\n",
        "- city_development와 training_hours의 경우는 이미 결측치가 없으므로 분포를 검증하는데 문제가 없다. 분포 확인후 scaling을 실시하기로 한다.\r\n",
        "- sex의 경우는 결측치를 채우기 전, male과 female간의 target 평균을 비교하자. 평균 차이가 의미가 있는지 통계검정을 실시, 의미가 없다면 아예 sex에 대해 고려하지 않을 것이다.\r\n",
        "- education_level이나 univ.에 대해서도 비슷하게 target 평균 비교하자.\r\n",
        "- 전공은? 전공을 다른 데이터랑 연관지어야할지, 독립적으로 고려할지를 결정해야 할 것이다.\r\n"
      ]
    },
    {
      "cell_type": "code",
      "metadata": {
        "colab": {
          "base_uri": "https://localhost:8080/",
          "height": 280
        },
        "id": "ZQb7MxaRNZQc",
        "outputId": "05a47bf2-94ef-49af-b1df-4c013f8ef0e5"
      },
      "source": [
        "# city_development의 분포 검증\r\n",
        "sns.histplot(data = train_data['city_development_index'], bins=10)\r\n",
        "plt.show()\r\n",
        "\r\n",
        "# 역으로 0.9 이상이 몰려있다. 1에서 이 값을 빼서 로그로 하던가\r\n",
        "# 아니면 발전률 자체가 중요해서 min-max를 고려하는 것도 방법이다."
      ],
      "execution_count": null,
      "outputs": [
        {
          "output_type": "display_data",
          "data": {
            "image/png": "[encoded data removed]",
            "text/plain": [
              "<Figure size 432x288 with 1 Axes>"
            ]
          },
          "metadata": {
            "tags": [],
            "needs_background": "light"
          }
        }
      ]
    },
    {
      "cell_type": "code",
      "metadata": {
        "colab": {
          "base_uri": "https://localhost:8080/",
          "height": 281
        },
        "id": "GpQTmp7FL_uK",
        "outputId": "411e7dc6-0ebc-4dea-f677-ccb26246219b"
      },
      "source": [
        "# training의 분포 검증\r\n",
        "sns.histplot(data = train_data['training_hours'], bins=20)\r\n",
        "plt.show()\r\n",
        "\r\n",
        "# 결과는 작은 값에 몰려있으므로 이를 로그 분포로 활용을 해야 할 것이다."
      ],
      "execution_count": null,
      "outputs": [
        {
          "output_type": "display_data",
          "data": {
            "image/png": "[encoded data removed]",
            "text/plain": [
              "<Figure size 432x288 with 1 Axes>"
            ]
          },
          "metadata": {
            "tags": [],
            "needs_background": "light"
          }
        }
      ]
    },
    {
      "cell_type": "code",
      "metadata": {
        "colab": {
          "base_uri": "https://localhost:8080/"
        },
        "id": "lQrMRGvONU2Z",
        "outputId": "bc21c3e9-a33c-413f-9267-76aab03dea97"
      },
      "source": [
        "# Sex 특히 Male/Female에 대해 Target 비율에 차이가 의미있는지부터 확인하자.\r\n",
        "print(train_data.groupby(by=['gender'], as_index=False).sum())\r\n",
        "print(train_data.groupby(by=['gender'], as_index=False).std())\r\n",
        "print(train_data.groupby(by=['gender'], as_index=False).count())"
      ],
      "execution_count": null,
      "outputs": [
        {
          "output_type": "stream",
          "text": [
            "   gender  enrollee_id  city_development_index  training_hours  target\n",
            "0  Female     21606610                1045.788           81258   326.0\n",
            "1    Male    226232599               11093.115          863300  3012.0\n",
            "2   Other      3423457                 165.458           12199    50.0\n",
            "   gender   enrollee_id  city_development_index  training_hours    target\n",
            "0  Female   9371.955930                0.116264       58.493969  0.440617\n",
            "1    Male   9867.976684                0.117396       60.053012  0.419441\n",
            "2   Other  10756.458896                0.096808       59.952513  0.440759\n",
            "   gender  enrollee_id   city  ...  last_new_job  training_hours  target\n",
            "0  Female         1238   1238  ...          1232            1238    1238\n",
            "1    Male        13221  13221  ...         13153           13221   13221\n",
            "2   Other          191    191  ...           191             191     191\n",
            "\n",
            "[3 rows x 14 columns]\n"
          ],
          "name": "stdout"
        }
      ]
    },
    {
      "cell_type": "code",
      "metadata": {
        "colab": {
          "base_uri": "https://localhost:8080/"
        },
        "id": "VV3CnUktQ-cD",
        "outputId": "243f8a46-22db-4bf8-ed41-ef5ec88ec65c"
      },
      "source": [
        "import scipy as sp\r\n",
        "# 통계 검정의 실시\r\n",
        "# 성별에따른 Target의 차이를 확인하는 것이다. 범주형 변수의 분석을 써야 한다.\r\n",
        "# 따라서, 카이제곱 독립성 검정으로 실시해야 한다.\r\n",
        "male = [9319,3012]\r\n",
        "female = [912,326]\r\n",
        "sp.stats.chi2_contingency([male, female])\r\n",
        "\r\n",
        "#p-val : 0.14로 유의수준 이상이므로 성별에 따라 이직결심율이 다르다고 할 수 없다\r\n",
        "# 성별은 DROP으로 결정해도 무방해보일까? 다른 변수랑 숨겨진 영역이 없을 수는 있다."
      ],
      "execution_count": null,
      "outputs": [
        {
          "output_type": "execute_result",
          "data": {
            "text/plain": [
              "(2.103162318724584,\n",
              " 0.14699484686356698,\n",
              " 1,\n",
              " array([[9297.55037217, 3033.44962783],\n",
              "        [ 933.44962783,  304.55037217]]))"
            ]
          },
          "metadata": {
            "tags": []
          },
          "execution_count": 32
        }
      ]
    },
    {
      "cell_type": "code",
      "metadata": {
        "colab": {
          "base_uri": "https://localhost:8080/"
        },
        "id": "qXFhMndnbXZq",
        "outputId": "cc5e0871-30eb-4421-d58a-9fa163254d92"
      },
      "source": [
        "# 같은 과정을 education_level로 보자.\r\n",
        "print(train_data.groupby(by=['education_level'], as_index=False).sum())\r\n",
        "print(train_data.groupby(by=['education_level'], as_index=False).std())\r\n",
        "print(train_data.groupby(by=['education_level'], as_index=False).count())"
      ],
      "execution_count": null,
      "outputs": [
        {
          "output_type": "stream",
          "text": [
            "  education_level  enrollee_id  city_development_index  training_hours  target\n",
            "0        Graduate    197663732                9553.635          762840  3245.0\n",
            "1     High School     34237753                1681.956          134495   394.0\n",
            "2         Masters     72387082                3645.564          275924   935.0\n",
            "3             Phd      6171585                 365.591           27955    58.0\n",
            "4  Primary School      5123775                 261.929           19597    41.0\n",
            "  education_level  enrollee_id  ...  training_hours    target\n",
            "0        Graduate  9739.115384  ...       60.522653  0.448915\n",
            "1     High School  9529.458255  ...       59.307288  0.396560\n",
            "2         Masters  9365.671676  ...       57.955434  0.410453\n",
            "3             Phd  9391.696923  ...       66.743324  0.347507\n",
            "4  Primary School  9721.685741  ...       64.889434  0.340254\n",
            "\n",
            "[5 rows x 5 columns]\n",
            "  education_level  enrollee_id   city  ...  last_new_job  training_hours  target\n",
            "0        Graduate        11598  11598  ...         11368           11598   11598\n",
            "1     High School         2017   2017  ...          1953            2017    2017\n",
            "2         Masters         4361   4361  ...          4285            4361    4361\n",
            "3             Phd          414    414  ...           407             414     414\n",
            "4  Primary School          308    308  ...           299             308     308\n",
            "\n",
            "[5 rows x 14 columns]\n"
          ],
          "name": "stdout"
        }
      ]
    },
    {
      "cell_type": "code",
      "metadata": {
        "colab": {
          "base_uri": "https://localhost:8080/"
        },
        "id": "KVthRqtedz8P",
        "outputId": "7e13424b-fc01-48da-f85b-a7eba09298cf"
      },
      "source": [
        "# enrolled_university\r\n",
        "print(train_data.groupby(by=['enrolled_university'], as_index=False).sum())\r\n",
        "print(train_data.groupby(by=['enrolled_university'], as_index=False).std())\r\n",
        "print(train_data.groupby(by=['enrolled_university'], as_index=False).count())"
      ],
      "execution_count": null,
      "outputs": [
        {
          "output_type": "stream",
          "text": [
            "  enrolled_university  enrollee_id  ...  training_hours  target\n",
            "0    Full time course     65323820  ...          242448  1431.0\n",
            "1    Part time course     21118449  ...           80951   302.0\n",
            "2       no_enrollment    229978469  ...          903107  2921.0\n",
            "\n",
            "[3 rows x 5 columns]\n",
            "  enrolled_university  enrollee_id  ...  training_hours    target\n",
            "0    Full time course  9444.223894  ...       60.069682  0.485670\n",
            "1    Part time course  9644.413270  ...       65.065184  0.434392\n",
            "2       no_enrollment  9674.592803  ...       59.617408  0.408321\n",
            "\n",
            "[3 rows x 5 columns]\n",
            "  enrolled_university  enrollee_id   city  ...  last_new_job  training_hours  target\n",
            "0    Full time course         3757   3757  ...          3591            3757    3757\n",
            "1    Part time course         1198   1198  ...          1167            1198    1198\n",
            "2       no_enrollment        13817  13817  ...         13624           13817   13817\n",
            "\n",
            "[3 rows x 14 columns]\n"
          ],
          "name": "stdout"
        }
      ]
    },
    {
      "cell_type": "code",
      "metadata": {
        "colab": {
          "base_uri": "https://localhost:8080/"
        },
        "id": "8i9Xx8MLeEwl",
        "outputId": "d43afb39-9712-4d23-9ac2-b5e3eaec6951"
      },
      "source": [
        "# company_size는?\r\n",
        "print(train_data.groupby(by=['company_size'], as_index=False).sum())\r\n",
        "print(train_data.groupby(by=['company_size'], as_index=False).std())\r\n",
        "print(train_data.groupby(by=['company_size'], as_index=False).count())"
      ],
      "execution_count": null,
      "outputs": [
        {
          "output_type": "stream",
          "text": [
            "  company_size  enrollee_id  city_development_index  training_hours  target\n",
            "0        10/49     24897353                1197.287           98448   344.0\n",
            "1      100-500     42219012                2147.117          164504   415.0\n",
            "2    1000-4999     22199585                1138.266           85817   200.0\n",
            "3       10000+     34613448                1708.489          130273   385.0\n",
            "4        50-99     51202726                2556.904          210149   545.0\n",
            "5      500-999     14404378                 733.945           56376   152.0\n",
            "6    5000-9999      9642509                 478.023           36338   102.0\n",
            "7          <10     21428502                1078.606           86069   224.0\n",
            "  company_size  enrollee_id  city_development_index  training_hours    target\n",
            "0        10/49  9596.809483                0.131738       62.198513  0.423425\n",
            "1      100-500  9720.880959                0.119351       59.801147  0.367986\n",
            "2    1000-4999  9927.922975                0.104686       57.800064  0.357796\n",
            "3       10000+  9751.111809                0.117820       61.259896  0.392941\n",
            "4        50-99  9557.214089                0.123777       62.676130  0.381541\n",
            "5      500-999  9642.560777                0.119898       60.005326  0.378738\n",
            "6    5000-9999  9521.157633                0.110651       55.762327  0.385503\n",
            "7          <10  9590.183088                0.122790       59.980446  0.376875\n",
            "  company_size  enrollee_id  city  ...  last_new_job  training_hours  target\n",
            "0        10/49         1471  1471  ...          1436            1471    1471\n",
            "1      100-500         2571  2571  ...          2538            2571    2571\n",
            "2    1000-4999         1328  1328  ...          1309            1328    1328\n",
            "3       10000+         2019  2019  ...          1990            2019    2019\n",
            "4        50-99         3083  3083  ...          3034            3083    3083\n",
            "5      500-999          877   877  ...           864             877     877\n",
            "6    5000-9999          563   563  ...           555             563     563\n",
            "7          <10         1308  1308  ...          1277            1308    1308\n",
            "\n",
            "[8 rows x 14 columns]\n"
          ],
          "name": "stdout"
        }
      ]
    },
    {
      "cell_type": "code",
      "metadata": {
        "colab": {
          "base_uri": "https://localhost:8080/"
        },
        "id": "welk0LyBe6xN",
        "outputId": "560ac098-bfaf-498a-98af-80fb42f32f19"
      },
      "source": [
        "# company_type는?\r\n",
        "print(train_data.groupby(by=['company_type'], as_index=False).sum())\r\n",
        "print(train_data.groupby(by=['company_type'], as_index=False).std())\r\n",
        "print(train_data.groupby(by=['company_type'], as_index=False).count())"
      ],
      "execution_count": null,
      "outputs": [
        {
          "output_type": "stream",
          "text": [
            "          company_type  enrollee_id  ...  training_hours  target\n",
            "0  Early Stage Startup     10172517  ...           41902   142.0\n",
            "1       Funded Startup     16231583  ...           67064   140.0\n",
            "2                  NGO      8828674  ...           35353    97.0\n",
            "3                Other      1993724  ...            8349    29.0\n",
            "4        Public Sector     15940585  ...           59258   210.0\n",
            "5              Pvt Ltd    162308307  ...          640827  1775.0\n",
            "\n",
            "[6 rows x 5 columns]\n",
            "          company_type   enrollee_id  ...  training_hours    target\n",
            "0  Early Stage Startup   9749.702053  ...       63.257722  0.424656\n",
            "1       Funded Startup  10006.775774  ...       61.016137  0.347015\n",
            "2                  NGO   9676.580057  ...       64.469137  0.389626\n",
            "3                Other  10349.437336  ...       59.942194  0.428657\n",
            "4        Public Sector   9628.330631  ...       56.681681  0.414393\n",
            "5              Pvt Ltd   9819.175273  ...       60.506644  0.384879\n",
            "\n",
            "[6 rows x 5 columns]\n",
            "          company_type  enrollee_id  city  ...  last_new_job  training_hours  target\n",
            "0  Early Stage Startup          603   603  ...           585             603     603\n",
            "1       Funded Startup         1001  1001  ...           991            1001    1001\n",
            "2                  NGO          521   521  ...           512             521     521\n",
            "3                Other          121   121  ...           116             121     121\n",
            "4        Public Sector          955   955  ...           936             955     955\n",
            "5              Pvt Ltd         9817  9817  ...          9696            9817    9817\n",
            "\n",
            "[6 rows x 14 columns]\n"
          ],
          "name": "stdout"
        }
      ]
    },
    {
      "cell_type": "code",
      "metadata": {
        "colab": {
          "base_uri": "https://localhost:8080/"
        },
        "id": "6WBBiKIPf3sy",
        "outputId": "fa9da1fc-9f16-4257-a476-392a6eef8221"
      },
      "source": [
        "# experience마저도?\r\n",
        "print(train_data.groupby(by=['experience'], as_index=False).sum())\r\n",
        "print(train_data.groupby(by=['experience'], as_index=False).std())\r\n",
        "print(train_data.groupby(by=['experience'], as_index=False).count())\r\n",
        "\r\n",
        "# ! experience가 낮을수록, move할 확률이 높은거 같다는 경향이 보인다."
      ],
      "execution_count": null,
      "outputs": [
        {
          "output_type": "stream",
          "text": [
            "   experience  enrollee_id  city_development_index  training_hours  target\n",
            "0           1      9957720                 423.074           35861   233.0\n",
            "1          10     16341566                 827.552           63710   207.0\n",
            "2          11     11045782                 561.983           42271   151.0\n",
            "3          12      7954619                 414.426           34686    92.0\n",
            "4          13      6671468                 340.929           25330    77.0\n",
            "5          14      9299253                 502.225           41019   107.0\n",
            "6          15     10915167                 594.249           44955   114.0\n",
            "7          16      8960468                 440.444           34991    72.0\n",
            "8          17      5665127                 293.657           20035    57.0\n",
            "9          18      4726565                 242.216           18665    43.0\n",
            "10         19      5086860                 264.715           20809    53.0\n",
            "11          2     19864312                 876.848           71269   374.0\n",
            "12         20      2402446                 129.048            8953    33.0\n",
            "13          3     23669243                1057.917           88930   478.0\n",
            "14          4     23932474                1113.690           91287   457.0\n",
            "15          5     24561810                1146.998           96151   412.0\n",
            "16          6     20681608                 978.354           80995   343.0\n",
            "17          7     17338063                 830.538           66267   303.0\n",
            "18          8     13002052                 655.639           54450   195.0\n",
            "19          9     16457366                 815.939           62472   213.0\n",
            "20         <1      9290184                 386.557           32029   237.0\n",
            "21        >20     54456108                2931.950          212502   503.0\n",
            "   experience   enrollee_id  city_development_index  training_hours    target\n",
            "0           1   8998.781417                0.139958       58.706333  0.494704\n",
            "1          10   9921.585689                0.112426       60.199873  0.407624\n",
            "2          11   9722.864113                0.106785       56.536841  0.419475\n",
            "3          12   9806.448281                0.108726       63.390916  0.389691\n",
            "4          13   9920.902888                0.102114       59.894917  0.395135\n",
            "5          14   9807.408804                0.099372       63.704915  0.386663\n",
            "6          15   9806.260583                0.094282       62.291038  0.372514\n",
            "7          16   9427.961934                0.093942       62.276530  0.349119\n",
            "8          17  10145.884416                0.100127       52.933788  0.373224\n",
            "9          18  10258.498601                0.094903       61.884989  0.361183\n",
            "10         19   9998.315701                0.091793       66.819032  0.380029\n",
            "11          2   9199.081445                0.139869       59.206358  0.471088\n",
            "12         20   9483.925316                0.089385       58.934819  0.417654\n",
            "13          3   9311.331312                0.137510       62.087908  0.478088\n",
            "14          4   9457.591513                0.138114       59.740869  0.468814\n",
            "15          5   9477.629452                0.134997       60.505809  0.453042\n",
            "16          6   9518.797310                0.131774       60.440931  0.450194\n",
            "17          7   9381.037221                0.127944       59.864709  0.456151\n",
            "18          8   9641.691008                0.126395       61.794036  0.429248\n",
            "19          9   9652.572613                0.117344       57.627854  0.412651\n",
            "20         <1   8556.505065                0.139861       58.538470  0.498359\n",
            "21        >20   9955.810056                0.067913       58.602928  0.360113\n",
            "   experience  enrollee_id  city  ...  last_new_job  training_hours  target\n",
            "0           1          549   549  ...           517             549     549\n",
            "1          10          985   985  ...           977             985     985\n",
            "2          11          664   664  ...           659             664     664\n",
            "3          12          494   494  ...           488             494     494\n",
            "4          13          399   399  ...           394             399     399\n",
            "5          14          586   586  ...           582             586     586\n",
            "6          15          686   686  ...           684             686     686\n",
            "7          16          508   508  ...           500             508     508\n",
            "8          17          342   342  ...           340             342     342\n",
            "9          18          280   280  ...           276             280     280\n",
            "10         19          304   304  ...           299             304     304\n",
            "11          2         1127  1127  ...          1090            1127    1127\n",
            "12         20          148   148  ...           147             148     148\n",
            "13          3         1354  1354  ...          1296            1354    1354\n",
            "14          4         1403  1403  ...          1350            1403    1403\n",
            "15          5         1430  1430  ...          1396            1430    1430\n",
            "16          6         1216  1216  ...          1194            1216    1216\n",
            "17          7         1028  1028  ...          1013            1028    1028\n",
            "18          8          802   802  ...           790             802     802\n",
            "19          9          980   980  ...           965             980     980\n",
            "20         <1          522   522  ...           484             522     522\n",
            "21        >20         3286  3286  ...          3253            3286    3286\n",
            "\n",
            "[22 rows x 14 columns]\n"
          ],
          "name": "stdout"
        }
      ]
    },
    {
      "cell_type": "code",
      "metadata": {
        "colab": {
          "base_uri": "https://localhost:8080/"
        },
        "id": "Qmzn58HLkwTu",
        "outputId": "73949ecd-0082-4daf-8655-2ad6f802a918"
      },
      "source": [
        "# relevent_experience\r\n",
        "print(train_data.groupby(by=['relevent_experience'], as_index=False).sum())\r\n",
        "print(train_data.groupby(by=['relevent_experience'], as_index=False).std())\r\n",
        "print(train_data.groupby(by=['relevent_experience'], as_index=False).count())\r\n",
        "\r\n",
        "# 잠깐. 경력자가 relevent experience가 없을 수도 있는데..?\r\n",
        "# 왜냐? 커리어를 바꾼거니까.\r\n",
        "# 새로운 변수를 만들 수 있을 법 하다.\r\n",
        "# 해당 변수들을 대상으로 전처리 후 다시 작업할려고 한다."
      ],
      "execution_count": null,
      "outputs": [
        {
          "output_type": "stream",
          "text": [
            "       relevent_experience  enrollee_id  ...  training_hours  target\n",
            "0  Has relevent experience    229158061  ...          907516  2961.0\n",
            "1   No relevent experience     94140051  ...          344783  1816.0\n",
            "\n",
            "[2 rows x 5 columns]\n",
            "       relevent_experience  enrollee_id  ...  training_hours    target\n",
            "0  Has relevent experience  9672.885244  ...       60.081307  0.410622\n",
            "1   No relevent experience  9437.344103  ...       59.990942  0.473219\n",
            "\n",
            "[2 rows x 5 columns]\n",
            "       relevent_experience  enrollee_id  ...  training_hours  target\n",
            "0  Has relevent experience        13792  ...           13792   13792\n",
            "1   No relevent experience         5366  ...            5366    5366\n",
            "\n",
            "[2 rows x 14 columns]\n"
          ],
          "name": "stdout"
        }
      ]
    },
    {
      "cell_type": "markdown",
      "metadata": {
        "id": "0Zr4oEdSjX4z"
      },
      "source": [
        "이런, 대체적으로는 변수별로 큰 차이를 보여주는 것은 많지 않아보인다.\r\n",
        "다만 다음과 같은 사항들을 발견할 수 있다.\r\n",
        "\r\n",
        "- 총 경력이 길어질수록, 이직결심율이 점점 내려간다. 하지만 정말일까?\r\n",
        "- Company type/size를 묶어서 어떤 회사의 규모를 결정할 수 있지 않을까?\r\n",
        "  하지만 결측치가 너무 많다. 어떻게 처리를 해줘야할까?\r\n",
        "- 위에서 생각한 경력유뮤/경험유무로, 추가 4개 변수를 생성해 주려고 한다.\r\n",
        "- 훈련시간(Training)을 구간별로 끊어서 다루려고 한다. \r\n",
        "- city_development 또한 구간별로 끊어서 다루려고 한다."
      ]
    },
    {
      "cell_type": "code",
      "metadata": {
        "id": "-vQTIL07pHwP"
      },
      "source": [
        "# 성별은 아무리 봐도 DROP\r\n",
        "train_data = train_data.drop('gender', axis=1)\r\n",
        "test_data = test_data.drop('gender', axis=1)"
      ],
      "execution_count": null,
      "outputs": []
    },
    {
      "cell_type": "markdown",
      "metadata": {
        "id": "_NIomzoNxcP_"
      },
      "source": [
        "## 4. 데이터 전처리 과정\r\n",
        "\r\n",
        "우선 쉽게 가능한 작업부터 해보자.\r\n",
        "다시 한번 결측치를 가져오자."
      ]
    },
    {
      "cell_type": "code",
      "metadata": {
        "colab": {
          "base_uri": "https://localhost:8080/"
        },
        "id": "0cZYGoLJnp3l",
        "outputId": "2ffd61e5-178f-4112-87ba-185c0c8b912c"
      },
      "source": [
        "train_data.isnull().sum()"
      ],
      "execution_count": null,
      "outputs": [
        {
          "output_type": "execute_result",
          "data": {
            "text/plain": [
              "enrollee_id                  0\n",
              "city                         0\n",
              "city_development_index       0\n",
              "relevent_experience          0\n",
              "enrolled_university        386\n",
              "education_level            460\n",
              "major_discipline          2813\n",
              "experience                  65\n",
              "company_size              5938\n",
              "company_type              6140\n",
              "last_new_job               423\n",
              "training_hours               0\n",
              "target                       0\n",
              "dtype: int64"
            ]
          },
          "metadata": {
            "tags": []
          },
          "execution_count": 5
        }
      ]
    },
    {
      "cell_type": "code",
      "metadata": {
        "colab": {
          "base_uri": "https://localhost:8080/"
        },
        "id": "VryXTv_hn05C",
        "outputId": "49d5636a-e9b7-43bd-a188-2cdc1b8c6a9a"
      },
      "source": [
        "test_data.isnull().sum()"
      ],
      "execution_count": null,
      "outputs": [
        {
          "output_type": "execute_result",
          "data": {
            "text/plain": [
              "enrollee_id                 0\n",
              "city                        0\n",
              "city_development_index      0\n",
              "relevent_experience         0\n",
              "enrolled_university        31\n",
              "education_level            52\n",
              "major_discipline          312\n",
              "experience                  5\n",
              "company_size              622\n",
              "company_type              634\n",
              "last_new_job               40\n",
              "training_hours              0\n",
              "dtype: int64"
            ]
          },
          "metadata": {
            "tags": []
          },
          "execution_count": 6
        }
      ]
    },
    {
      "cell_type": "markdown",
      "metadata": {
        "id": "Ueey_DtXoIvy"
      },
      "source": [
        "다음과 같은 순서대로 결측치를 처리할 것이다.\r\n",
        "\r\n",
        "1) 너무 많이 비어있는 줄들을 먼저 없애려고 한다.\r\n",
        "아무리 생각해도 company size, company type은 다른 조건으로도 추정이 어려우며 40% 정도 비어있어서 역시 의미가 없어보인다."
      ]
    },
    {
      "cell_type": "code",
      "metadata": {
        "id": "MPDwvCRjF5kV"
      },
      "source": [
        "train_data = train_data.drop(['company_size', 'company_type'], axis=1)\r\n",
        "test_data = test_data.drop(['company_size', 'company_type'], axis=1)"
      ],
      "execution_count": 56,
      "outputs": []
    },
    {
      "cell_type": "markdown",
      "metadata": {
        "id": "x3zEWGPKGGJJ"
      },
      "source": [
        "2) 다음, 앞에서 생각한 대로 새로운 데이터 열을 만들 것이다.\r\n",
        "- relevent_experience 가 있는지 없는지를 정리하고\r\n",
        "- 경력이 있는지 없는지를 정리하자.\r\n",
        "- 허나 문제는 경력 줄에 있는 결측치 데이터인데.\r\n",
        "  Test set을 보니까, last_new_job에 대한 값 자체도 매우 낮기에\r\n",
        "  경력이 매우 작다고 봐도 무방, 경력 없음으로 처리해도 무방해보인다.\r\n",
        "- 다음 4가지 범주로 나뉘어 새 변수를 만들어 처리하려고 한다.\r\n",
        "  0 : 경력도 없고, 경험도 없다.\r\n",
        "  1 : 경력이 없는데 경험은 있다.\r\n",
        "  2 : 경력이 있는데 경험은 없다. (진짜?)\r\n",
        "  3 : 경력도 있고 경험도 있다. \r\n",
        "- 로지스틱 회귀 문제를 사용해야 하기에 One-hot-encoding을 해야한다."
      ]
    },
    {
      "cell_type": "code",
      "metadata": {
        "id": "CjGE6f3v6Ya-"
      },
      "source": [
        "def relexpchange (x):\r\n",
        "    if x == 'Has relevent experience':\r\n",
        "      return 1\r\n",
        "    else:\r\n",
        "      return 0"
      ],
      "execution_count": 6,
      "outputs": []
    },
    {
      "cell_type": "code",
      "metadata": {
        "id": "X7kDe7au67x4"
      },
      "source": [
        "train_copy = train_data.copy()"
      ],
      "execution_count": 58,
      "outputs": []
    },
    {
      "cell_type": "code",
      "metadata": {
        "id": "8dJcwgXD7fh-"
      },
      "source": [
        "train_copy['relevent_experience'] = train_copy['relevent_experience'].apply(relexpchange)"
      ],
      "execution_count": 59,
      "outputs": []
    },
    {
      "cell_type": "code",
      "metadata": {
        "colab": {
          "base_uri": "https://localhost:8080/",
          "height": 274
        },
        "id": "AfaQJZUr7pBX",
        "outputId": "0afc2823-8ee7-465f-ff33-eede72ef877f"
      },
      "source": [
        "train_copy.head(7) # 잘 변경되었다."
      ],
      "execution_count": null,
      "outputs": [
        {
          "output_type": "execute_result",
          "data": {
            "text/html": [
              "<div>\n",
              "<style scoped>\n",
              "    .dataframe tbody tr th:only-of-type {\n",
              "        vertical-align: middle;\n",
              "    }\n",
              "\n",
              "    .dataframe tbody tr th {\n",
              "        vertical-align: top;\n",
              "    }\n",
              "\n",
              "    .dataframe thead th {\n",
              "        text-align: right;\n",
              "    }\n",
              "</style>\n",
              "<table border=\"1\" class=\"dataframe\">\n",
              "  <thead>\n",
              "    <tr style=\"text-align: right;\">\n",
              "      <th></th>\n",
              "      <th>enrollee_id</th>\n",
              "      <th>city</th>\n",
              "      <th>city_development_index</th>\n",
              "      <th>relevent_experience</th>\n",
              "      <th>enrolled_university</th>\n",
              "      <th>education_level</th>\n",
              "      <th>major_discipline</th>\n",
              "      <th>experience</th>\n",
              "      <th>last_new_job</th>\n",
              "      <th>training_hours</th>\n",
              "      <th>target</th>\n",
              "    </tr>\n",
              "  </thead>\n",
              "  <tbody>\n",
              "    <tr>\n",
              "      <th>0</th>\n",
              "      <td>8949</td>\n",
              "      <td>city_103</td>\n",
              "      <td>0.920</td>\n",
              "      <td>1</td>\n",
              "      <td>no_enrollment</td>\n",
              "      <td>Graduate</td>\n",
              "      <td>STEM</td>\n",
              "      <td>&gt;20</td>\n",
              "      <td>1</td>\n",
              "      <td>36</td>\n",
              "      <td>1.0</td>\n",
              "    </tr>\n",
              "    <tr>\n",
              "      <th>1</th>\n",
              "      <td>29725</td>\n",
              "      <td>city_40</td>\n",
              "      <td>0.776</td>\n",
              "      <td>0</td>\n",
              "      <td>no_enrollment</td>\n",
              "      <td>Graduate</td>\n",
              "      <td>STEM</td>\n",
              "      <td>15</td>\n",
              "      <td>&gt;4</td>\n",
              "      <td>47</td>\n",
              "      <td>0.0</td>\n",
              "    </tr>\n",
              "    <tr>\n",
              "      <th>2</th>\n",
              "      <td>11561</td>\n",
              "      <td>city_21</td>\n",
              "      <td>0.624</td>\n",
              "      <td>0</td>\n",
              "      <td>Full time course</td>\n",
              "      <td>Graduate</td>\n",
              "      <td>STEM</td>\n",
              "      <td>5</td>\n",
              "      <td>never</td>\n",
              "      <td>83</td>\n",
              "      <td>0.0</td>\n",
              "    </tr>\n",
              "    <tr>\n",
              "      <th>3</th>\n",
              "      <td>33241</td>\n",
              "      <td>city_115</td>\n",
              "      <td>0.789</td>\n",
              "      <td>0</td>\n",
              "      <td>NaN</td>\n",
              "      <td>Graduate</td>\n",
              "      <td>Business Degree</td>\n",
              "      <td>&lt;1</td>\n",
              "      <td>never</td>\n",
              "      <td>52</td>\n",
              "      <td>1.0</td>\n",
              "    </tr>\n",
              "    <tr>\n",
              "      <th>4</th>\n",
              "      <td>666</td>\n",
              "      <td>city_162</td>\n",
              "      <td>0.767</td>\n",
              "      <td>1</td>\n",
              "      <td>no_enrollment</td>\n",
              "      <td>Masters</td>\n",
              "      <td>STEM</td>\n",
              "      <td>&gt;20</td>\n",
              "      <td>4</td>\n",
              "      <td>8</td>\n",
              "      <td>0.0</td>\n",
              "    </tr>\n",
              "    <tr>\n",
              "      <th>5</th>\n",
              "      <td>21651</td>\n",
              "      <td>city_176</td>\n",
              "      <td>0.764</td>\n",
              "      <td>1</td>\n",
              "      <td>Part time course</td>\n",
              "      <td>Graduate</td>\n",
              "      <td>STEM</td>\n",
              "      <td>11</td>\n",
              "      <td>1</td>\n",
              "      <td>24</td>\n",
              "      <td>1.0</td>\n",
              "    </tr>\n",
              "    <tr>\n",
              "      <th>6</th>\n",
              "      <td>28806</td>\n",
              "      <td>city_160</td>\n",
              "      <td>0.920</td>\n",
              "      <td>1</td>\n",
              "      <td>no_enrollment</td>\n",
              "      <td>High School</td>\n",
              "      <td>NaN</td>\n",
              "      <td>5</td>\n",
              "      <td>1</td>\n",
              "      <td>24</td>\n",
              "      <td>0.0</td>\n",
              "    </tr>\n",
              "  </tbody>\n",
              "</table>\n",
              "</div>"
            ],
            "text/plain": [
              "   enrollee_id      city  ...  training_hours  target\n",
              "0         8949  city_103  ...              36     1.0\n",
              "1        29725   city_40  ...              47     0.0\n",
              "2        11561   city_21  ...              83     0.0\n",
              "3        33241  city_115  ...              52     1.0\n",
              "4          666  city_162  ...               8     0.0\n",
              "5        21651  city_176  ...              24     1.0\n",
              "6        28806  city_160  ...              24     0.0\n",
              "\n",
              "[7 rows x 11 columns]"
            ]
          },
          "metadata": {
            "tags": []
          },
          "execution_count": 9
        }
      ]
    },
    {
      "cell_type": "code",
      "metadata": {
        "id": "ODRguK6981Bb"
      },
      "source": [
        "# 다음은 경험의 결측치를 먼저 채우자.\r\n",
        "train_copy['experience'] = train_copy['experience'].fillna(0)"
      ],
      "execution_count": 60,
      "outputs": []
    },
    {
      "cell_type": "code",
      "metadata": {
        "id": "zdMPiwip8J0k"
      },
      "source": [
        "def expchange(x):\r\n",
        "  if x == '<1':\r\n",
        "    return 0\r\n",
        "  elif x == '>20':\r\n",
        "    return 21\r\n",
        "  else:\r\n",
        "    return int(x)"
      ],
      "execution_count": 10,
      "outputs": []
    },
    {
      "cell_type": "code",
      "metadata": {
        "id": "FyofLCA-8XcZ"
      },
      "source": [
        "train_copy['experience'] = train_copy['experience'].apply(expchange)"
      ],
      "execution_count": 61,
      "outputs": []
    },
    {
      "cell_type": "code",
      "metadata": {
        "colab": {
          "base_uri": "https://localhost:8080/",
          "height": 274
        },
        "id": "6OzTtYE39OAG",
        "outputId": "df5c90de-af6b-4f88-f380-d46c95f17483"
      },
      "source": [
        "train_copy.head(7)"
      ],
      "execution_count": null,
      "outputs": [
        {
          "output_type": "execute_result",
          "data": {
            "text/html": [
              "<div>\n",
              "<style scoped>\n",
              "    .dataframe tbody tr th:only-of-type {\n",
              "        vertical-align: middle;\n",
              "    }\n",
              "\n",
              "    .dataframe tbody tr th {\n",
              "        vertical-align: top;\n",
              "    }\n",
              "\n",
              "    .dataframe thead th {\n",
              "        text-align: right;\n",
              "    }\n",
              "</style>\n",
              "<table border=\"1\" class=\"dataframe\">\n",
              "  <thead>\n",
              "    <tr style=\"text-align: right;\">\n",
              "      <th></th>\n",
              "      <th>enrollee_id</th>\n",
              "      <th>city</th>\n",
              "      <th>city_development_index</th>\n",
              "      <th>relevent_experience</th>\n",
              "      <th>enrolled_university</th>\n",
              "      <th>education_level</th>\n",
              "      <th>major_discipline</th>\n",
              "      <th>experience</th>\n",
              "      <th>last_new_job</th>\n",
              "      <th>training_hours</th>\n",
              "      <th>target</th>\n",
              "    </tr>\n",
              "  </thead>\n",
              "  <tbody>\n",
              "    <tr>\n",
              "      <th>0</th>\n",
              "      <td>8949</td>\n",
              "      <td>city_103</td>\n",
              "      <td>0.920</td>\n",
              "      <td>1</td>\n",
              "      <td>no_enrollment</td>\n",
              "      <td>Graduate</td>\n",
              "      <td>STEM</td>\n",
              "      <td>21</td>\n",
              "      <td>1</td>\n",
              "      <td>36</td>\n",
              "      <td>1.0</td>\n",
              "    </tr>\n",
              "    <tr>\n",
              "      <th>1</th>\n",
              "      <td>29725</td>\n",
              "      <td>city_40</td>\n",
              "      <td>0.776</td>\n",
              "      <td>0</td>\n",
              "      <td>no_enrollment</td>\n",
              "      <td>Graduate</td>\n",
              "      <td>STEM</td>\n",
              "      <td>15</td>\n",
              "      <td>&gt;4</td>\n",
              "      <td>47</td>\n",
              "      <td>0.0</td>\n",
              "    </tr>\n",
              "    <tr>\n",
              "      <th>2</th>\n",
              "      <td>11561</td>\n",
              "      <td>city_21</td>\n",
              "      <td>0.624</td>\n",
              "      <td>0</td>\n",
              "      <td>Full time course</td>\n",
              "      <td>Graduate</td>\n",
              "      <td>STEM</td>\n",
              "      <td>5</td>\n",
              "      <td>never</td>\n",
              "      <td>83</td>\n",
              "      <td>0.0</td>\n",
              "    </tr>\n",
              "    <tr>\n",
              "      <th>3</th>\n",
              "      <td>33241</td>\n",
              "      <td>city_115</td>\n",
              "      <td>0.789</td>\n",
              "      <td>0</td>\n",
              "      <td>NaN</td>\n",
              "      <td>Graduate</td>\n",
              "      <td>Business Degree</td>\n",
              "      <td>0</td>\n",
              "      <td>never</td>\n",
              "      <td>52</td>\n",
              "      <td>1.0</td>\n",
              "    </tr>\n",
              "    <tr>\n",
              "      <th>4</th>\n",
              "      <td>666</td>\n",
              "      <td>city_162</td>\n",
              "      <td>0.767</td>\n",
              "      <td>1</td>\n",
              "      <td>no_enrollment</td>\n",
              "      <td>Masters</td>\n",
              "      <td>STEM</td>\n",
              "      <td>21</td>\n",
              "      <td>4</td>\n",
              "      <td>8</td>\n",
              "      <td>0.0</td>\n",
              "    </tr>\n",
              "    <tr>\n",
              "      <th>5</th>\n",
              "      <td>21651</td>\n",
              "      <td>city_176</td>\n",
              "      <td>0.764</td>\n",
              "      <td>1</td>\n",
              "      <td>Part time course</td>\n",
              "      <td>Graduate</td>\n",
              "      <td>STEM</td>\n",
              "      <td>11</td>\n",
              "      <td>1</td>\n",
              "      <td>24</td>\n",
              "      <td>1.0</td>\n",
              "    </tr>\n",
              "    <tr>\n",
              "      <th>6</th>\n",
              "      <td>28806</td>\n",
              "      <td>city_160</td>\n",
              "      <td>0.920</td>\n",
              "      <td>1</td>\n",
              "      <td>no_enrollment</td>\n",
              "      <td>High School</td>\n",
              "      <td>NaN</td>\n",
              "      <td>5</td>\n",
              "      <td>1</td>\n",
              "      <td>24</td>\n",
              "      <td>0.0</td>\n",
              "    </tr>\n",
              "  </tbody>\n",
              "</table>\n",
              "</div>"
            ],
            "text/plain": [
              "   enrollee_id      city  ...  training_hours  target\n",
              "0         8949  city_103  ...              36     1.0\n",
              "1        29725   city_40  ...              47     0.0\n",
              "2        11561   city_21  ...              83     0.0\n",
              "3        33241  city_115  ...              52     1.0\n",
              "4          666  city_162  ...               8     0.0\n",
              "5        21651  city_176  ...              24     1.0\n",
              "6        28806  city_160  ...              24     0.0\n",
              "\n",
              "[7 rows x 11 columns]"
            ]
          },
          "metadata": {
            "tags": []
          },
          "execution_count": 13
        }
      ]
    },
    {
      "cell_type": "code",
      "metadata": {
        "id": "fooRiWedB4nl"
      },
      "source": [
        "train_copy['rel_exp_val'] = 0"
      ],
      "execution_count": 62,
      "outputs": []
    },
    {
      "cell_type": "code",
      "metadata": {
        "id": "03akDNEO9g8d"
      },
      "source": [
        "for i in range(0, train_copy.shape[0]):\r\n",
        "  if train_copy.iloc[i,3] == 0 and train_copy.iloc[i,7] == 0:\r\n",
        "    train_copy.iloc[i,11] = 0\r\n",
        "  elif train_copy.iloc[i,3] == 1 and train_copy.iloc[i,7] == 0:\r\n",
        "    train_copy.iloc[i,11] = 1\r\n",
        "  elif train_copy.iloc[i,3] == 0 and train_copy.iloc[i,7] > 0:\r\n",
        "    train_copy.iloc[i,11] = 2\r\n",
        "  elif train_copy.iloc[i,3] == 1 and train_copy.iloc[i,7] > 0:\r\n",
        "    train_copy.iloc[i,11] = 3"
      ],
      "execution_count": 63,
      "outputs": []
    },
    {
      "cell_type": "code",
      "metadata": {
        "colab": {
          "base_uri": "https://localhost:8080/"
        },
        "id": "ObZ8Luva_IaG",
        "outputId": "22e69d98-c3f0-4220-ba91-9fd58cfe8efc"
      },
      "source": [
        "train_copy.dtypes"
      ],
      "execution_count": null,
      "outputs": [
        {
          "output_type": "execute_result",
          "data": {
            "text/plain": [
              "enrollee_id                 int64\n",
              "city                       object\n",
              "city_development_index    float64\n",
              "relevent_experience         int64\n",
              "enrolled_university        object\n",
              "education_level            object\n",
              "major_discipline           object\n",
              "experience                  int64\n",
              "last_new_job               object\n",
              "training_hours              int64\n",
              "target                    float64\n",
              "rel_exp_val                 int64\n",
              "dtype: object"
            ]
          },
          "metadata": {
            "tags": []
          },
          "execution_count": 58
        }
      ]
    },
    {
      "cell_type": "code",
      "metadata": {
        "colab": {
          "base_uri": "https://localhost:8080/"
        },
        "id": "ni1SJWudCKd8",
        "outputId": "857fdaaf-56f2-45b6-e4b0-5fd7d3be1c73"
      },
      "source": [
        "train_copy.iloc[19157, 7]"
      ],
      "execution_count": null,
      "outputs": [
        {
          "output_type": "execute_result",
          "data": {
            "text/plain": [
              "2"
            ]
          },
          "metadata": {
            "tags": []
          },
          "execution_count": 62
        }
      ]
    },
    {
      "cell_type": "code",
      "metadata": {
        "colab": {
          "base_uri": "https://localhost:8080/",
          "height": 215
        },
        "id": "aC9LVw4CAJWq",
        "outputId": "7903462c-68b5-4baa-ee5d-328e8447ede5"
      },
      "source": [
        "train_copy.tail()"
      ],
      "execution_count": null,
      "outputs": [
        {
          "output_type": "execute_result",
          "data": {
            "text/html": [
              "<div>\n",
              "<style scoped>\n",
              "    .dataframe tbody tr th:only-of-type {\n",
              "        vertical-align: middle;\n",
              "    }\n",
              "\n",
              "    .dataframe tbody tr th {\n",
              "        vertical-align: top;\n",
              "    }\n",
              "\n",
              "    .dataframe thead th {\n",
              "        text-align: right;\n",
              "    }\n",
              "</style>\n",
              "<table border=\"1\" class=\"dataframe\">\n",
              "  <thead>\n",
              "    <tr style=\"text-align: right;\">\n",
              "      <th></th>\n",
              "      <th>enrollee_id</th>\n",
              "      <th>city</th>\n",
              "      <th>city_development_index</th>\n",
              "      <th>relevent_experience</th>\n",
              "      <th>enrolled_university</th>\n",
              "      <th>education_level</th>\n",
              "      <th>major_discipline</th>\n",
              "      <th>experience</th>\n",
              "      <th>last_new_job</th>\n",
              "      <th>training_hours</th>\n",
              "      <th>target</th>\n",
              "      <th>rel_exp_val</th>\n",
              "    </tr>\n",
              "  </thead>\n",
              "  <tbody>\n",
              "    <tr>\n",
              "      <th>19153</th>\n",
              "      <td>7386</td>\n",
              "      <td>city_173</td>\n",
              "      <td>0.878</td>\n",
              "      <td>0</td>\n",
              "      <td>no_enrollment</td>\n",
              "      <td>Graduate</td>\n",
              "      <td>Humanities</td>\n",
              "      <td>14</td>\n",
              "      <td>1</td>\n",
              "      <td>42</td>\n",
              "      <td>1.0</td>\n",
              "      <td>2</td>\n",
              "    </tr>\n",
              "    <tr>\n",
              "      <th>19154</th>\n",
              "      <td>31398</td>\n",
              "      <td>city_103</td>\n",
              "      <td>0.920</td>\n",
              "      <td>1</td>\n",
              "      <td>no_enrollment</td>\n",
              "      <td>Graduate</td>\n",
              "      <td>STEM</td>\n",
              "      <td>14</td>\n",
              "      <td>4</td>\n",
              "      <td>52</td>\n",
              "      <td>1.0</td>\n",
              "      <td>3</td>\n",
              "    </tr>\n",
              "    <tr>\n",
              "      <th>19155</th>\n",
              "      <td>24576</td>\n",
              "      <td>city_103</td>\n",
              "      <td>0.920</td>\n",
              "      <td>1</td>\n",
              "      <td>no_enrollment</td>\n",
              "      <td>Graduate</td>\n",
              "      <td>STEM</td>\n",
              "      <td>21</td>\n",
              "      <td>4</td>\n",
              "      <td>44</td>\n",
              "      <td>0.0</td>\n",
              "      <td>3</td>\n",
              "    </tr>\n",
              "    <tr>\n",
              "      <th>19156</th>\n",
              "      <td>5756</td>\n",
              "      <td>city_65</td>\n",
              "      <td>0.802</td>\n",
              "      <td>1</td>\n",
              "      <td>no_enrollment</td>\n",
              "      <td>High School</td>\n",
              "      <td>NaN</td>\n",
              "      <td>0</td>\n",
              "      <td>2</td>\n",
              "      <td>97</td>\n",
              "      <td>0.0</td>\n",
              "      <td>1</td>\n",
              "    </tr>\n",
              "    <tr>\n",
              "      <th>19157</th>\n",
              "      <td>23834</td>\n",
              "      <td>city_67</td>\n",
              "      <td>0.855</td>\n",
              "      <td>0</td>\n",
              "      <td>no_enrollment</td>\n",
              "      <td>Primary School</td>\n",
              "      <td>NaN</td>\n",
              "      <td>2</td>\n",
              "      <td>1</td>\n",
              "      <td>127</td>\n",
              "      <td>0.0</td>\n",
              "      <td>2</td>\n",
              "    </tr>\n",
              "  </tbody>\n",
              "</table>\n",
              "</div>"
            ],
            "text/plain": [
              "       enrollee_id      city  ...  target  rel_exp_val\n",
              "19153         7386  city_173  ...     1.0            2\n",
              "19154        31398  city_103  ...     1.0            3\n",
              "19155        24576  city_103  ...     0.0            3\n",
              "19156         5756   city_65  ...     0.0            1\n",
              "19157        23834   city_67  ...     0.0            2\n",
              "\n",
              "[5 rows x 12 columns]"
            ]
          },
          "metadata": {
            "tags": []
          },
          "execution_count": 16
        }
      ]
    },
    {
      "cell_type": "markdown",
      "metadata": {
        "id": "1f9Kr5lV9f-l"
      },
      "source": [
        "잘 적용된거 같다. 테스트 셋에다가 지금까지 한 거를 적용해주자."
      ]
    },
    {
      "cell_type": "code",
      "metadata": {
        "id": "I3SlXg8wFWoN"
      },
      "source": [
        "train_data = train_copy\r\n",
        "test_copy = test_data.copy()"
      ],
      "execution_count": 64,
      "outputs": []
    },
    {
      "cell_type": "code",
      "metadata": {
        "id": "OUI5gI0-FxHb"
      },
      "source": [
        "test_copy['relevent_experience'] = test_copy['relevent_experience'].apply(relexpchange)\r\n",
        "test_copy['experience'] = test_copy['experience'].fillna(0)\r\n",
        "test_copy['experience'] = test_copy['experience'].apply(expchange)"
      ],
      "execution_count": 65,
      "outputs": []
    },
    {
      "cell_type": "code",
      "metadata": {
        "id": "oqNKl6L7GuAX"
      },
      "source": [
        "test_copy['rel_exp_val'] = 0"
      ],
      "execution_count": 66,
      "outputs": []
    },
    {
      "cell_type": "code",
      "metadata": {
        "id": "8bLPrrX2Gzsn"
      },
      "source": [
        "for i in range(0, test_copy.shape[0]):\r\n",
        "  if test_copy.iloc[i,3] == 0 and test_copy.iloc[i,7] == 0:\r\n",
        "    test_copy.iloc[i,10] = 0\r\n",
        "  elif test_copy.iloc[i,3] == 1 and test_copy.iloc[i,7] == 0:\r\n",
        "    test_copy.iloc[i,10] = 1\r\n",
        "  elif test_copy.iloc[i,3] == 0 and test_copy.iloc[i,7] > 0:\r\n",
        "    test_copy.iloc[i,10] = 2\r\n",
        "  elif test_copy.iloc[i,3] == 1 and test_copy.iloc[i,7] > 0:\r\n",
        "    test_copy.iloc[i,10] = 3"
      ],
      "execution_count": 67,
      "outputs": []
    },
    {
      "cell_type": "code",
      "metadata": {
        "colab": {
          "base_uri": "https://localhost:8080/",
          "height": 363
        },
        "id": "N3596qeVHIj_",
        "outputId": "9c3dbaa1-0a3e-4bb4-f5ee-e5f7ba79a5fc"
      },
      "source": [
        "test_copy.head(10)"
      ],
      "execution_count": 25,
      "outputs": [
        {
          "output_type": "execute_result",
          "data": {
            "text/html": [
              "<div>\n",
              "<style scoped>\n",
              "    .dataframe tbody tr th:only-of-type {\n",
              "        vertical-align: middle;\n",
              "    }\n",
              "\n",
              "    .dataframe tbody tr th {\n",
              "        vertical-align: top;\n",
              "    }\n",
              "\n",
              "    .dataframe thead th {\n",
              "        text-align: right;\n",
              "    }\n",
              "</style>\n",
              "<table border=\"1\" class=\"dataframe\">\n",
              "  <thead>\n",
              "    <tr style=\"text-align: right;\">\n",
              "      <th></th>\n",
              "      <th>enrollee_id</th>\n",
              "      <th>city</th>\n",
              "      <th>city_development_index</th>\n",
              "      <th>relevent_experience</th>\n",
              "      <th>enrolled_university</th>\n",
              "      <th>education_level</th>\n",
              "      <th>major_discipline</th>\n",
              "      <th>experience</th>\n",
              "      <th>last_new_job</th>\n",
              "      <th>training_hours</th>\n",
              "      <th>rel_exp_val</th>\n",
              "    </tr>\n",
              "  </thead>\n",
              "  <tbody>\n",
              "    <tr>\n",
              "      <th>0</th>\n",
              "      <td>32403</td>\n",
              "      <td>city_41</td>\n",
              "      <td>0.827</td>\n",
              "      <td>1</td>\n",
              "      <td>Full time course</td>\n",
              "      <td>Graduate</td>\n",
              "      <td>STEM</td>\n",
              "      <td>9</td>\n",
              "      <td>1</td>\n",
              "      <td>21</td>\n",
              "      <td>3</td>\n",
              "    </tr>\n",
              "    <tr>\n",
              "      <th>1</th>\n",
              "      <td>9858</td>\n",
              "      <td>city_103</td>\n",
              "      <td>0.920</td>\n",
              "      <td>1</td>\n",
              "      <td>no_enrollment</td>\n",
              "      <td>Graduate</td>\n",
              "      <td>STEM</td>\n",
              "      <td>5</td>\n",
              "      <td>1</td>\n",
              "      <td>98</td>\n",
              "      <td>3</td>\n",
              "    </tr>\n",
              "    <tr>\n",
              "      <th>2</th>\n",
              "      <td>31806</td>\n",
              "      <td>city_21</td>\n",
              "      <td>0.624</td>\n",
              "      <td>0</td>\n",
              "      <td>no_enrollment</td>\n",
              "      <td>High School</td>\n",
              "      <td>NaN</td>\n",
              "      <td>0</td>\n",
              "      <td>never</td>\n",
              "      <td>15</td>\n",
              "      <td>0</td>\n",
              "    </tr>\n",
              "    <tr>\n",
              "      <th>3</th>\n",
              "      <td>27385</td>\n",
              "      <td>city_13</td>\n",
              "      <td>0.827</td>\n",
              "      <td>1</td>\n",
              "      <td>no_enrollment</td>\n",
              "      <td>Masters</td>\n",
              "      <td>STEM</td>\n",
              "      <td>11</td>\n",
              "      <td>1</td>\n",
              "      <td>39</td>\n",
              "      <td>3</td>\n",
              "    </tr>\n",
              "    <tr>\n",
              "      <th>4</th>\n",
              "      <td>27724</td>\n",
              "      <td>city_103</td>\n",
              "      <td>0.920</td>\n",
              "      <td>1</td>\n",
              "      <td>no_enrollment</td>\n",
              "      <td>Graduate</td>\n",
              "      <td>STEM</td>\n",
              "      <td>21</td>\n",
              "      <td>&gt;4</td>\n",
              "      <td>72</td>\n",
              "      <td>3</td>\n",
              "    </tr>\n",
              "    <tr>\n",
              "      <th>5</th>\n",
              "      <td>217</td>\n",
              "      <td>city_23</td>\n",
              "      <td>0.899</td>\n",
              "      <td>0</td>\n",
              "      <td>Part time course</td>\n",
              "      <td>Masters</td>\n",
              "      <td>STEM</td>\n",
              "      <td>10</td>\n",
              "      <td>2</td>\n",
              "      <td>12</td>\n",
              "      <td>2</td>\n",
              "    </tr>\n",
              "    <tr>\n",
              "      <th>6</th>\n",
              "      <td>21465</td>\n",
              "      <td>city_21</td>\n",
              "      <td>0.624</td>\n",
              "      <td>1</td>\n",
              "      <td>no_enrollment</td>\n",
              "      <td>Graduate</td>\n",
              "      <td>STEM</td>\n",
              "      <td>0</td>\n",
              "      <td>1</td>\n",
              "      <td>11</td>\n",
              "      <td>1</td>\n",
              "    </tr>\n",
              "    <tr>\n",
              "      <th>7</th>\n",
              "      <td>27302</td>\n",
              "      <td>city_160</td>\n",
              "      <td>0.920</td>\n",
              "      <td>1</td>\n",
              "      <td>no_enrollment</td>\n",
              "      <td>Graduate</td>\n",
              "      <td>STEM</td>\n",
              "      <td>21</td>\n",
              "      <td>&gt;4</td>\n",
              "      <td>81</td>\n",
              "      <td>3</td>\n",
              "    </tr>\n",
              "    <tr>\n",
              "      <th>8</th>\n",
              "      <td>12994</td>\n",
              "      <td>city_173</td>\n",
              "      <td>0.878</td>\n",
              "      <td>1</td>\n",
              "      <td>no_enrollment</td>\n",
              "      <td>Graduate</td>\n",
              "      <td>STEM</td>\n",
              "      <td>14</td>\n",
              "      <td>4</td>\n",
              "      <td>2</td>\n",
              "      <td>3</td>\n",
              "    </tr>\n",
              "    <tr>\n",
              "      <th>9</th>\n",
              "      <td>16287</td>\n",
              "      <td>city_21</td>\n",
              "      <td>0.624</td>\n",
              "      <td>1</td>\n",
              "      <td>Full time course</td>\n",
              "      <td>Graduate</td>\n",
              "      <td>NaN</td>\n",
              "      <td>3</td>\n",
              "      <td>1</td>\n",
              "      <td>4</td>\n",
              "      <td>3</td>\n",
              "    </tr>\n",
              "  </tbody>\n",
              "</table>\n",
              "</div>"
            ],
            "text/plain": [
              "   enrollee_id      city  ...  training_hours  rel_exp_val\n",
              "0        32403   city_41  ...              21            3\n",
              "1         9858  city_103  ...              98            3\n",
              "2        31806   city_21  ...              15            0\n",
              "3        27385   city_13  ...              39            3\n",
              "4        27724  city_103  ...              72            3\n",
              "5          217   city_23  ...              12            2\n",
              "6        21465   city_21  ...              11            1\n",
              "7        27302  city_160  ...              81            3\n",
              "8        12994  city_173  ...               2            3\n",
              "9        16287   city_21  ...               4            3\n",
              "\n",
              "[10 rows x 11 columns]"
            ]
          },
          "metadata": {
            "tags": []
          },
          "execution_count": 25
        }
      ]
    },
    {
      "cell_type": "markdown",
      "metadata": {
        "id": "3M-GyWvGHkhy"
      },
      "source": [
        "아주 잘 적용된 것으로 보인다. 다시 남은 결측치들을 확인해보자."
      ]
    },
    {
      "cell_type": "code",
      "metadata": {
        "id": "IKP2KlSTHpPr"
      },
      "source": [
        "test_data = test_copy"
      ],
      "execution_count": 68,
      "outputs": []
    },
    {
      "cell_type": "code",
      "metadata": {
        "colab": {
          "base_uri": "https://localhost:8080/"
        },
        "id": "NYanYMZGHs4X",
        "outputId": "b5ed9af9-1332-4b85-f94b-fbe454feb5df"
      },
      "source": [
        "print(train_data.isnull().sum())\r\n",
        "print(test_data.isnull().sum())"
      ],
      "execution_count": 24,
      "outputs": [
        {
          "output_type": "stream",
          "text": [
            "enrollee_id                  0\n",
            "city                         0\n",
            "city_development_index       0\n",
            "relevent_experience          0\n",
            "enrolled_university        386\n",
            "education_level            460\n",
            "major_discipline          2813\n",
            "experience                   0\n",
            "last_new_job               423\n",
            "training_hours               0\n",
            "target                       0\n",
            "rel_exp_val                  0\n",
            "dtype: int64\n",
            "enrollee_id                 0\n",
            "city                        0\n",
            "city_development_index      0\n",
            "relevent_experience         0\n",
            "enrolled_university        31\n",
            "education_level            52\n",
            "major_discipline          312\n",
            "experience                  0\n",
            "last_new_job               40\n",
            "training_hours              0\n",
            "rel_exp_val                 0\n",
            "dtype: int64\n"
          ],
          "name": "stdout"
        }
      ]
    },
    {
      "cell_type": "markdown",
      "metadata": {
        "id": "lirRBLzmKWh4"
      },
      "source": [
        "다음은 last_new_job에 대해 처리를 하자.\r\n",
        "train_data를 직접 확인해 본 결과 이것의 경우는 시각적으로는 어떤 경향성을 주는거 같지는 않다.\r\n",
        "\r\n",
        "또한 experience가 높다고 last new job이 높거나, training hours와도 비례관계를 주지 않는다.\r\n",
        "\r\n",
        "또한 특정 년수 초과일 경우 뭉뚱그려 4년 이상 이렇게만 나온다.\r\n",
        "\r\n",
        "이때, 생각해보면 last_new_job의 변수, 그러니까 지난 직장에 몇년 있는거랑 이번 직장이 몇년인지는 퇴사율에 크게 영향을 줄 리가 상식적으로는 없을 것이다.\r\n",
        "\r\n",
        "다른 변수와도 큰 경향성이 없고, 경력자가 20년 이상인 경우가 많은데 4년 이상 식으로 뭉뜽그려트린걸 보면, 데이터가 크게 의미없어보인다. 날려버렷!"
      ]
    },
    {
      "cell_type": "code",
      "metadata": {
        "id": "b6JAxosW4d0b"
      },
      "source": [
        "train_data = train_data.drop('last_new_job', axis=1)\r\n",
        "test_data = test_data.drop('last_new_job', axis=1)"
      ],
      "execution_count": 69,
      "outputs": []
    },
    {
      "cell_type": "markdown",
      "metadata": {
        "id": "GsRj9WL86Vdp"
      },
      "source": [
        "마지막으로 학교/전공 데이터를 채우기 전에 데이터 탐색 과정을 다시 거치고 전처리를 마저 진행할려고 한다.."
      ]
    },
    {
      "cell_type": "markdown",
      "metadata": {
        "id": "SGQlTRbcmwp5"
      },
      "source": [
        "## 5. 데이터 2차 탐색 및 전처리(후속)"
      ]
    },
    {
      "cell_type": "markdown",
      "metadata": {
        "id": "BnbSrajeycbB"
      },
      "source": [
        "앞에서 만든 train_data 변수 중 하나인 'rel_exp_val'에 따라 실제로 target의 비율에 차이가 있는지 보고 싶다."
      ]
    },
    {
      "cell_type": "code",
      "metadata": {
        "colab": {
          "base_uri": "https://localhost:8080/"
        },
        "id": "KPy9Wgtu7Kr5",
        "outputId": "288964ed-c896-43b6-f6c5-5ec7d072ee74"
      },
      "source": [
        "# company_type는?\r\n",
        "print(train_data.groupby(by=['rel_exp_val'], as_index=False).sum())\r\n",
        "print(train_data.groupby(by=['rel_exp_val'], as_index=False).std())\r\n",
        "print(train_data.groupby(by=['rel_exp_val'], as_index=False).count())"
      ],
      "execution_count": 27,
      "outputs": [
        {
          "output_type": "stream",
          "text": [
            "   rel_exp_val  enrollee_id  ...  training_hours  target\n",
            "0            0      6690324  ...           24042   162.0\n",
            "1            1      3617711  ...           12649    98.0\n",
            "2            2     87449727  ...          320741  1654.0\n",
            "3            3    225540350  ...          894867  2863.0\n",
            "\n",
            "[4 rows x 7 columns]\n",
            "   rel_exp_val  enrollee_id  ...  training_hours    target\n",
            "0            0  8396.870487  ...       59.401449  0.495361\n",
            "1            1  8756.245507  ...       58.308678  0.500371\n",
            "2            2  9512.472532  ...       60.040952  0.470858\n",
            "3            3  9686.053820  ...       60.106910  0.407865\n",
            "\n",
            "[4 rows x 7 columns]\n",
            "   rel_exp_val  enrollee_id   city  ...  experience  training_hours  target\n",
            "0            0          379    379  ...         379             379     379\n",
            "1            1          208    208  ...         208             208     208\n",
            "2            2         4987   4987  ...        4987            4987    4987\n",
            "3            3        13584  13584  ...       13584           13584   13584\n",
            "\n",
            "[4 rows x 11 columns]\n"
          ],
          "name": "stdout"
        }
      ]
    },
    {
      "cell_type": "markdown",
      "metadata": {
        "id": "0CyLjs-pyo1w"
      },
      "source": [
        "실제로 확인해 본 결과 유의미한 차이를 (값만으로도) 느낄 수 있는 부분은\r\n",
        "경력도 없고, 경험도 없는 사람이 이직을 생각할 확률이 경험과 경력이 없는 사람이 이직을 생각할 확률보다는 높다는 것이다.\r\n",
        "\r\n",
        "또한, 유의미하게 Test Set에서는 1의 이직결심율이 높았는데, 이는 상식적으로 생각해봐도. 경험은 있지만, 실제로 일을 들어오니, 아 난 이건 아닌거 같아! 이렇게 생각하고 있는 사람들의 비율이라는 것을 추측해 볼 수 있다.\r\n",
        "\r\n",
        "이를 고려해보면, 전공과 상관없이, 관련된 경험/경력의 요소가 크다는 것을 알 수 있다. 따라서 전공이나 학력에 대해서도 크게 고려하지 않아도 될 것 같다."
      ]
    },
    {
      "cell_type": "code",
      "metadata": {
        "id": "zAYpovfKz59A"
      },
      "source": [
        "train_data = train_data.drop(['enrolled_university', 'education_level', 'major_discipline'], axis=1)\r\n",
        "test_data = test_data.drop(['enrolled_university', 'education_level', 'major_discipline'], axis=1)"
      ],
      "execution_count": 70,
      "outputs": []
    },
    {
      "cell_type": "code",
      "metadata": {
        "colab": {
          "base_uri": "https://localhost:8080/",
          "height": 195
        },
        "id": "ZuyrWS5g0xbD",
        "outputId": "65cdb3e3-6dcb-4fb3-d30f-14435123743c"
      },
      "source": [
        "train_data.head()"
      ],
      "execution_count": 21,
      "outputs": [
        {
          "output_type": "execute_result",
          "data": {
            "text/html": [
              "<div>\n",
              "<style scoped>\n",
              "    .dataframe tbody tr th:only-of-type {\n",
              "        vertical-align: middle;\n",
              "    }\n",
              "\n",
              "    .dataframe tbody tr th {\n",
              "        vertical-align: top;\n",
              "    }\n",
              "\n",
              "    .dataframe thead th {\n",
              "        text-align: right;\n",
              "    }\n",
              "</style>\n",
              "<table border=\"1\" class=\"dataframe\">\n",
              "  <thead>\n",
              "    <tr style=\"text-align: right;\">\n",
              "      <th></th>\n",
              "      <th>enrollee_id</th>\n",
              "      <th>city</th>\n",
              "      <th>city_development_index</th>\n",
              "      <th>relevent_experience</th>\n",
              "      <th>experience</th>\n",
              "      <th>training_hours</th>\n",
              "      <th>target</th>\n",
              "      <th>rel_exp_val</th>\n",
              "    </tr>\n",
              "  </thead>\n",
              "  <tbody>\n",
              "    <tr>\n",
              "      <th>0</th>\n",
              "      <td>8949</td>\n",
              "      <td>city_103</td>\n",
              "      <td>0.920</td>\n",
              "      <td>1</td>\n",
              "      <td>21</td>\n",
              "      <td>36</td>\n",
              "      <td>1.0</td>\n",
              "      <td>3</td>\n",
              "    </tr>\n",
              "    <tr>\n",
              "      <th>1</th>\n",
              "      <td>29725</td>\n",
              "      <td>city_40</td>\n",
              "      <td>0.776</td>\n",
              "      <td>0</td>\n",
              "      <td>15</td>\n",
              "      <td>47</td>\n",
              "      <td>0.0</td>\n",
              "      <td>2</td>\n",
              "    </tr>\n",
              "    <tr>\n",
              "      <th>2</th>\n",
              "      <td>11561</td>\n",
              "      <td>city_21</td>\n",
              "      <td>0.624</td>\n",
              "      <td>0</td>\n",
              "      <td>5</td>\n",
              "      <td>83</td>\n",
              "      <td>0.0</td>\n",
              "      <td>2</td>\n",
              "    </tr>\n",
              "    <tr>\n",
              "      <th>3</th>\n",
              "      <td>33241</td>\n",
              "      <td>city_115</td>\n",
              "      <td>0.789</td>\n",
              "      <td>0</td>\n",
              "      <td>0</td>\n",
              "      <td>52</td>\n",
              "      <td>1.0</td>\n",
              "      <td>0</td>\n",
              "    </tr>\n",
              "    <tr>\n",
              "      <th>4</th>\n",
              "      <td>666</td>\n",
              "      <td>city_162</td>\n",
              "      <td>0.767</td>\n",
              "      <td>1</td>\n",
              "      <td>21</td>\n",
              "      <td>8</td>\n",
              "      <td>0.0</td>\n",
              "      <td>3</td>\n",
              "    </tr>\n",
              "  </tbody>\n",
              "</table>\n",
              "</div>"
            ],
            "text/plain": [
              "   enrollee_id      city  ...  target  rel_exp_val\n",
              "0         8949  city_103  ...     1.0            3\n",
              "1        29725   city_40  ...     0.0            2\n",
              "2        11561   city_21  ...     0.0            2\n",
              "3        33241  city_115  ...     1.0            0\n",
              "4          666  city_162  ...     0.0            3\n",
              "\n",
              "[5 rows x 8 columns]"
            ]
          },
          "metadata": {
            "tags": []
          },
          "execution_count": 21
        }
      ]
    },
    {
      "cell_type": "markdown",
      "metadata": {
        "id": "R8kT6Alk09kE"
      },
      "source": [
        "이제, city_development_index와 training_hours에 대한 scaling 및 분포정리를 할 것이다.\r\n",
        "먼저 city의 경우는 0~1 사이의 값을 그래도 지녔기에, 그대로 사용할 것이다.\r\n",
        "\r\n",
        "training_hours의 경우는 log변환을 실시하자."
      ]
    },
    {
      "cell_type": "code",
      "metadata": {
        "id": "mVvXH5XV08Zz"
      },
      "source": [
        "train_data['training_hours'] = train_data['training_hours'].apply(lambda x: np.log(x+1e-04))"
      ],
      "execution_count": 71,
      "outputs": []
    },
    {
      "cell_type": "code",
      "metadata": {
        "colab": {
          "base_uri": "https://localhost:8080/",
          "height": 280
        },
        "id": "okufYMco1nXI",
        "outputId": "85c04813-f6b6-4a68-aae4-f7ef698d895f"
      },
      "source": [
        "sns.histplot(data = train_data['training_hours'], bins=20)\r\n",
        "plt.show()"
      ],
      "execution_count": 25,
      "outputs": [
        {
          "output_type": "display_data",
          "data": {
            "image/png": "[encoded data removed]",
            "text/plain": [
              "<Figure size 432x288 with 1 Axes>"
            ]
          },
          "metadata": {
            "tags": [],
            "needs_background": "light"
          }
        }
      ]
    },
    {
      "cell_type": "markdown",
      "metadata": {
        "id": "fbD0ebnk2B34"
      },
      "source": [
        "잘 적용되었다. 이제 이 값의 평균과 분산을 구해, 표준화를 실시할 것이다.\r\n",
        "그리고 이 평균과 분산 데이터를 바탕으로, test set에도 변환을 시킬 것이다."
      ]
    },
    {
      "cell_type": "code",
      "metadata": {
        "colab": {
          "base_uri": "https://localhost:8080/",
          "height": 284
        },
        "id": "1OMiJE_Q2Pyh",
        "outputId": "cb8eaa3b-9b69-483a-8396-80d8c2ef5739"
      },
      "source": [
        "train_data.describe()\r\n",
        "# 평균 : 3.76203,  분산 : 0.986975"
      ],
      "execution_count": 26,
      "outputs": [
        {
          "output_type": "execute_result",
          "data": {
            "text/html": [
              "<div>\n",
              "<style scoped>\n",
              "    .dataframe tbody tr th:only-of-type {\n",
              "        vertical-align: middle;\n",
              "    }\n",
              "\n",
              "    .dataframe tbody tr th {\n",
              "        vertical-align: top;\n",
              "    }\n",
              "\n",
              "    .dataframe thead th {\n",
              "        text-align: right;\n",
              "    }\n",
              "</style>\n",
              "<table border=\"1\" class=\"dataframe\">\n",
              "  <thead>\n",
              "    <tr style=\"text-align: right;\">\n",
              "      <th></th>\n",
              "      <th>enrollee_id</th>\n",
              "      <th>city_development_index</th>\n",
              "      <th>relevent_experience</th>\n",
              "      <th>experience</th>\n",
              "      <th>training_hours</th>\n",
              "      <th>target</th>\n",
              "      <th>rel_exp_val</th>\n",
              "    </tr>\n",
              "  </thead>\n",
              "  <tbody>\n",
              "    <tr>\n",
              "      <th>count</th>\n",
              "      <td>19158.000000</td>\n",
              "      <td>19158.000000</td>\n",
              "      <td>19158.000000</td>\n",
              "      <td>19158.000000</td>\n",
              "      <td>19158.000000</td>\n",
              "      <td>19158.000000</td>\n",
              "      <td>19158.000000</td>\n",
              "    </tr>\n",
              "    <tr>\n",
              "      <th>mean</th>\n",
              "      <td>16875.358179</td>\n",
              "      <td>0.828848</td>\n",
              "      <td>0.719908</td>\n",
              "      <td>10.065873</td>\n",
              "      <td>3.762030</td>\n",
              "      <td>0.249348</td>\n",
              "      <td>2.658628</td>\n",
              "    </tr>\n",
              "    <tr>\n",
              "      <th>std</th>\n",
              "      <td>9616.292592</td>\n",
              "      <td>0.123362</td>\n",
              "      <td>0.449056</td>\n",
              "      <td>6.790963</td>\n",
              "      <td>0.986975</td>\n",
              "      <td>0.432647</td>\n",
              "      <td>0.604374</td>\n",
              "    </tr>\n",
              "    <tr>\n",
              "      <th>min</th>\n",
              "      <td>1.000000</td>\n",
              "      <td>0.448000</td>\n",
              "      <td>0.000000</td>\n",
              "      <td>0.000000</td>\n",
              "      <td>0.000100</td>\n",
              "      <td>0.000000</td>\n",
              "      <td>0.000000</td>\n",
              "    </tr>\n",
              "    <tr>\n",
              "      <th>25%</th>\n",
              "      <td>8554.250000</td>\n",
              "      <td>0.740000</td>\n",
              "      <td>0.000000</td>\n",
              "      <td>4.000000</td>\n",
              "      <td>3.135499</td>\n",
              "      <td>0.000000</td>\n",
              "      <td>2.000000</td>\n",
              "    </tr>\n",
              "    <tr>\n",
              "      <th>50%</th>\n",
              "      <td>16982.500000</td>\n",
              "      <td>0.903000</td>\n",
              "      <td>1.000000</td>\n",
              "      <td>9.000000</td>\n",
              "      <td>3.850150</td>\n",
              "      <td>0.000000</td>\n",
              "      <td>3.000000</td>\n",
              "    </tr>\n",
              "    <tr>\n",
              "      <th>75%</th>\n",
              "      <td>25169.750000</td>\n",
              "      <td>0.920000</td>\n",
              "      <td>1.000000</td>\n",
              "      <td>16.000000</td>\n",
              "      <td>4.477338</td>\n",
              "      <td>0.000000</td>\n",
              "      <td>3.000000</td>\n",
              "    </tr>\n",
              "    <tr>\n",
              "      <th>max</th>\n",
              "      <td>33380.000000</td>\n",
              "      <td>0.949000</td>\n",
              "      <td>1.000000</td>\n",
              "      <td>21.000000</td>\n",
              "      <td>5.817111</td>\n",
              "      <td>1.000000</td>\n",
              "      <td>3.000000</td>\n",
              "    </tr>\n",
              "  </tbody>\n",
              "</table>\n",
              "</div>"
            ],
            "text/plain": [
              "        enrollee_id  city_development_index  ...        target   rel_exp_val\n",
              "count  19158.000000            19158.000000  ...  19158.000000  19158.000000\n",
              "mean   16875.358179                0.828848  ...      0.249348      2.658628\n",
              "std     9616.292592                0.123362  ...      0.432647      0.604374\n",
              "min        1.000000                0.448000  ...      0.000000      0.000000\n",
              "25%     8554.250000                0.740000  ...      0.000000      2.000000\n",
              "50%    16982.500000                0.903000  ...      0.000000      3.000000\n",
              "75%    25169.750000                0.920000  ...      0.000000      3.000000\n",
              "max    33380.000000                0.949000  ...      1.000000      3.000000\n",
              "\n",
              "[8 rows x 7 columns]"
            ]
          },
          "metadata": {
            "tags": []
          },
          "execution_count": 26
        }
      ]
    },
    {
      "cell_type": "code",
      "metadata": {
        "id": "HvNJabli2aSi"
      },
      "source": [
        "def training_hour_scaler(x):\r\n",
        "  return (x-3.76203)/0.986975"
      ],
      "execution_count": 28,
      "outputs": []
    },
    {
      "cell_type": "code",
      "metadata": {
        "id": "v5PBRxJ52hXT"
      },
      "source": [
        "train_data['training_hours'] = train_data['training_hours'].apply(training_hour_scaler)"
      ],
      "execution_count": 72,
      "outputs": []
    },
    {
      "cell_type": "code",
      "metadata": {
        "id": "QJXWRudL2uy2"
      },
      "source": [
        "test_data['training_hours'] = test_data['training_hours'].apply(lambda x: np.log(x+1e-04))\r\n",
        "test_data['training_hours'] = test_data['training_hours'].apply(training_hour_scaler)"
      ],
      "execution_count": 73,
      "outputs": []
    },
    {
      "cell_type": "code",
      "metadata": {
        "id": "GTiTFJuo3Dy-"
      },
      "source": [
        "test_data.describe()"
      ],
      "execution_count": null,
      "outputs": []
    },
    {
      "cell_type": "markdown",
      "metadata": {
        "id": "WlEnSvIQ3s2X"
      },
      "source": [
        "마지막으로 rel_exp_val 에 대해서 get_dummies를 적용하자.\r\n"
      ]
    },
    {
      "cell_type": "code",
      "metadata": {
        "id": "e6DdEE-J4Lq5"
      },
      "source": [
        "train_df = pd.get_dummies(train_data['rel_exp_val'], prefix='rel_exp_val')\r\n",
        "train_data = pd.concat([train_data, train_df], axis=1)"
      ],
      "execution_count": 74,
      "outputs": []
    },
    {
      "cell_type": "code",
      "metadata": {
        "colab": {
          "base_uri": "https://localhost:8080/",
          "height": 215
        },
        "id": "C0kA23g_5hMf",
        "outputId": "e4d79a80-ed57-4f36-e150-421657b0795a"
      },
      "source": [
        "train_data.head(5)"
      ],
      "execution_count": 75,
      "outputs": [
        {
          "output_type": "execute_result",
          "data": {
            "text/html": [
              "<div>\n",
              "<style scoped>\n",
              "    .dataframe tbody tr th:only-of-type {\n",
              "        vertical-align: middle;\n",
              "    }\n",
              "\n",
              "    .dataframe tbody tr th {\n",
              "        vertical-align: top;\n",
              "    }\n",
              "\n",
              "    .dataframe thead th {\n",
              "        text-align: right;\n",
              "    }\n",
              "</style>\n",
              "<table border=\"1\" class=\"dataframe\">\n",
              "  <thead>\n",
              "    <tr style=\"text-align: right;\">\n",
              "      <th></th>\n",
              "      <th>enrollee_id</th>\n",
              "      <th>city</th>\n",
              "      <th>city_development_index</th>\n",
              "      <th>relevent_experience</th>\n",
              "      <th>experience</th>\n",
              "      <th>training_hours</th>\n",
              "      <th>target</th>\n",
              "      <th>rel_exp_val</th>\n",
              "      <th>rel_exp_val_0</th>\n",
              "      <th>rel_exp_val_1</th>\n",
              "      <th>rel_exp_val_2</th>\n",
              "      <th>rel_exp_val_3</th>\n",
              "    </tr>\n",
              "  </thead>\n",
              "  <tbody>\n",
              "    <tr>\n",
              "      <th>0</th>\n",
              "      <td>8949</td>\n",
              "      <td>city_103</td>\n",
              "      <td>0.920</td>\n",
              "      <td>1</td>\n",
              "      <td>21</td>\n",
              "      <td>-0.180864</td>\n",
              "      <td>1.0</td>\n",
              "      <td>3</td>\n",
              "      <td>0</td>\n",
              "      <td>0</td>\n",
              "      <td>0</td>\n",
              "      <td>1</td>\n",
              "    </tr>\n",
              "    <tr>\n",
              "      <th>1</th>\n",
              "      <td>29725</td>\n",
              "      <td>city_40</td>\n",
              "      <td>0.776</td>\n",
              "      <td>0</td>\n",
              "      <td>15</td>\n",
              "      <td>0.089283</td>\n",
              "      <td>0.0</td>\n",
              "      <td>2</td>\n",
              "      <td>0</td>\n",
              "      <td>0</td>\n",
              "      <td>1</td>\n",
              "      <td>0</td>\n",
              "    </tr>\n",
              "    <tr>\n",
              "      <th>2</th>\n",
              "      <td>11561</td>\n",
              "      <td>city_21</td>\n",
              "      <td>0.624</td>\n",
              "      <td>0</td>\n",
              "      <td>5</td>\n",
              "      <td>0.665480</td>\n",
              "      <td>0.0</td>\n",
              "      <td>2</td>\n",
              "      <td>0</td>\n",
              "      <td>0</td>\n",
              "      <td>1</td>\n",
              "      <td>0</td>\n",
              "    </tr>\n",
              "    <tr>\n",
              "      <th>3</th>\n",
              "      <td>33241</td>\n",
              "      <td>city_115</td>\n",
              "      <td>0.789</td>\n",
              "      <td>0</td>\n",
              "      <td>0</td>\n",
              "      <td>0.191713</td>\n",
              "      <td>1.0</td>\n",
              "      <td>0</td>\n",
              "      <td>1</td>\n",
              "      <td>0</td>\n",
              "      <td>0</td>\n",
              "      <td>0</td>\n",
              "    </tr>\n",
              "    <tr>\n",
              "      <th>4</th>\n",
              "      <td>666</td>\n",
              "      <td>city_162</td>\n",
              "      <td>0.767</td>\n",
              "      <td>1</td>\n",
              "      <td>21</td>\n",
              "      <td>-1.704781</td>\n",
              "      <td>0.0</td>\n",
              "      <td>3</td>\n",
              "      <td>0</td>\n",
              "      <td>0</td>\n",
              "      <td>0</td>\n",
              "      <td>1</td>\n",
              "    </tr>\n",
              "  </tbody>\n",
              "</table>\n",
              "</div>"
            ],
            "text/plain": [
              "   enrollee_id      city  ...  rel_exp_val_2  rel_exp_val_3\n",
              "0         8949  city_103  ...              0              1\n",
              "1        29725   city_40  ...              1              0\n",
              "2        11561   city_21  ...              1              0\n",
              "3        33241  city_115  ...              0              0\n",
              "4          666  city_162  ...              0              1\n",
              "\n",
              "[5 rows x 12 columns]"
            ]
          },
          "metadata": {
            "tags": []
          },
          "execution_count": 75
        }
      ]
    },
    {
      "cell_type": "code",
      "metadata": {
        "id": "4ikuKU315v1J"
      },
      "source": [
        "test_df = pd.get_dummies(test_data['rel_exp_val'], prefix='rel_exp_val')\r\n",
        "test_data = pd.concat([test_data, test_df], axis=1)"
      ],
      "execution_count": 76,
      "outputs": []
    },
    {
      "cell_type": "markdown",
      "metadata": {
        "id": "4pkHMwmgxd2_"
      },
      "source": [
        "##6. 모델 적용 및 평가 과정"
      ]
    },
    {
      "cell_type": "markdown",
      "metadata": {
        "id": "drKrTs0u56oO"
      },
      "source": [
        "자, 준비는 다 되었다. 이제 마지막으로 해볼 사항을 정리하자.\r\n",
        "- train set을 나눠야 한다. train set : validation set을 나눌 것이다. \r\n",
        "- 로지스틱 회귀분석 모델을 적용해보자.\r\n",
        "- 회고 및 Kaggle에 평가 데이터를 올린 후 정확도를 높이기 좋은 방법들에 대해 고민해보자."
      ]
    },
    {
      "cell_type": "code",
      "metadata": {
        "id": "E8Q3hLEl3MCc"
      },
      "source": [
        "from sklearn.model_selection import train_test_split\r\n",
        "\r\n",
        "train_data_x = train_data[['city_development_index', 'training_hours','rel_exp_val_0', 'rel_exp_val_1', 'rel_exp_val_2', 'rel_exp_val_3']]\r\n",
        "train_data_y = train_data['target']\r\n",
        "\r\n",
        "train_x, valid_x, train_y, valid_y = train_test_split(train_data_x, train_data_y)"
      ],
      "execution_count": 77,
      "outputs": []
    },
    {
      "cell_type": "markdown",
      "metadata": {
        "id": "QfWDDVUy8I3R"
      },
      "source": [
        "잘 분리되었는지를 확인해 보자."
      ]
    },
    {
      "cell_type": "code",
      "metadata": {
        "colab": {
          "base_uri": "https://localhost:8080/"
        },
        "id": "KHPrz3S68Kr9",
        "outputId": "d18e7d7d-a236-4772-f204-c4bc3d4c2be4"
      },
      "source": [
        "print(train_x.shape, valid_x.shape)"
      ],
      "execution_count": 78,
      "outputs": [
        {
          "output_type": "stream",
          "text": [
            "(14368, 6) (4790, 6)\n"
          ],
          "name": "stdout"
        }
      ]
    },
    {
      "cell_type": "markdown",
      "metadata": {
        "id": "yAhrFeFZ8YoU"
      },
      "source": [
        "이제, 마지막이다. 분석할 feature를 선정하여 해당 feature를 바탕으로 로지스틱 회귀분석을 실시하기만 하면 된다. scikit-learn에 이미 있으니까."
      ]
    },
    {
      "cell_type": "code",
      "metadata": {
        "colab": {
          "base_uri": "https://localhost:8080/"
        },
        "id": "dbrZPP51-9dI",
        "outputId": "fdb06619-39ba-4fb2-ec66-25d6a0934791"
      },
      "source": [
        "from sklearn.linear_model import LogisticRegression\r\n",
        "\r\n",
        "model = LogisticRegression(C=10, max_iter=10000)\r\n",
        "model.fit(train_x, train_y)\r\n",
        "\r\n",
        "print(model.score(train_x, train_y))\r\n",
        "print(model.score(valid_x, valid_y))"
      ],
      "execution_count": 79,
      "outputs": [
        {
          "output_type": "stream",
          "text": [
            "0.764337416481069\n",
            "0.7659707724425887\n"
          ],
          "name": "stdout"
        }
      ]
    },
    {
      "cell_type": "markdown",
      "metadata": {
        "id": "S6uXw9j4_f01"
      },
      "source": [
        "약 76% 정도의 결과율을 보인다.\r\n",
        "아쉽기는 한데, 사람 데이터를 다룬 상황에서 생각보다는 괜찮은 결과를 보여준 것으로 보인다. 최종 결과를 확인해보러 가자."
      ]
    },
    {
      "cell_type": "markdown",
      "metadata": {
        "id": "p19hUD2rxf96"
      },
      "source": [
        "##7. 최종 결과 확인 및 회고\r\n",
        "\r\n",
        "test_set에 적용을 할 차례이다."
      ]
    },
    {
      "cell_type": "code",
      "metadata": {
        "id": "ttG2ikXVAAQZ"
      },
      "source": [
        "X = test_data[['city_development_index', 'training_hours','rel_exp_val_0', 'rel_exp_val_1', 'rel_exp_val_2', 'rel_exp_val_3']]\r\n",
        "result = model.predict(X)"
      ],
      "execution_count": 80,
      "outputs": []
    },
    {
      "cell_type": "code",
      "metadata": {
        "id": "ZN44VD-7AbWd"
      },
      "source": [
        "test_data['target'] = result"
      ],
      "execution_count": 81,
      "outputs": []
    },
    {
      "cell_type": "code",
      "metadata": {
        "colab": {
          "base_uri": "https://localhost:8080/",
          "height": 511
        },
        "id": "wUACykatAhIl",
        "outputId": "bc4b13a7-5c7a-4c9d-dd07-13b98f5f6ee5"
      },
      "source": [
        "test_data.tail(15)"
      ],
      "execution_count": 82,
      "outputs": [
        {
          "output_type": "execute_result",
          "data": {
            "text/html": [
              "<div>\n",
              "<style scoped>\n",
              "    .dataframe tbody tr th:only-of-type {\n",
              "        vertical-align: middle;\n",
              "    }\n",
              "\n",
              "    .dataframe tbody tr th {\n",
              "        vertical-align: top;\n",
              "    }\n",
              "\n",
              "    .dataframe thead th {\n",
              "        text-align: right;\n",
              "    }\n",
              "</style>\n",
              "<table border=\"1\" class=\"dataframe\">\n",
              "  <thead>\n",
              "    <tr style=\"text-align: right;\">\n",
              "      <th></th>\n",
              "      <th>enrollee_id</th>\n",
              "      <th>city</th>\n",
              "      <th>city_development_index</th>\n",
              "      <th>relevent_experience</th>\n",
              "      <th>experience</th>\n",
              "      <th>training_hours</th>\n",
              "      <th>rel_exp_val</th>\n",
              "      <th>rel_exp_val_0</th>\n",
              "      <th>rel_exp_val_1</th>\n",
              "      <th>rel_exp_val_2</th>\n",
              "      <th>rel_exp_val_3</th>\n",
              "      <th>target</th>\n",
              "    </tr>\n",
              "  </thead>\n",
              "  <tbody>\n",
              "    <tr>\n",
              "      <th>2114</th>\n",
              "      <td>6294</td>\n",
              "      <td>city_73</td>\n",
              "      <td>0.754</td>\n",
              "      <td>1</td>\n",
              "      <td>21</td>\n",
              "      <td>-0.332369</td>\n",
              "      <td>3</td>\n",
              "      <td>0</td>\n",
              "      <td>0</td>\n",
              "      <td>0</td>\n",
              "      <td>1</td>\n",
              "      <td>0.0</td>\n",
              "    </tr>\n",
              "    <tr>\n",
              "      <th>2115</th>\n",
              "      <td>13833</td>\n",
              "      <td>city_21</td>\n",
              "      <td>0.624</td>\n",
              "      <td>1</td>\n",
              "      <td>10</td>\n",
              "      <td>-1.704781</td>\n",
              "      <td>3</td>\n",
              "      <td>0</td>\n",
              "      <td>0</td>\n",
              "      <td>0</td>\n",
              "      <td>1</td>\n",
              "      <td>0.0</td>\n",
              "    </tr>\n",
              "    <tr>\n",
              "      <th>2116</th>\n",
              "      <td>31643</td>\n",
              "      <td>city_75</td>\n",
              "      <td>0.939</td>\n",
              "      <td>1</td>\n",
              "      <td>21</td>\n",
              "      <td>0.302353</td>\n",
              "      <td>3</td>\n",
              "      <td>0</td>\n",
              "      <td>0</td>\n",
              "      <td>0</td>\n",
              "      <td>1</td>\n",
              "      <td>0.0</td>\n",
              "    </tr>\n",
              "    <tr>\n",
              "      <th>2117</th>\n",
              "      <td>21500</td>\n",
              "      <td>city_44</td>\n",
              "      <td>0.725</td>\n",
              "      <td>0</td>\n",
              "      <td>7</td>\n",
              "      <td>1.330474</td>\n",
              "      <td>2</td>\n",
              "      <td>0</td>\n",
              "      <td>0</td>\n",
              "      <td>1</td>\n",
              "      <td>0</td>\n",
              "      <td>0.0</td>\n",
              "    </tr>\n",
              "    <tr>\n",
              "      <th>2118</th>\n",
              "      <td>33225</td>\n",
              "      <td>city_138</td>\n",
              "      <td>0.836</td>\n",
              "      <td>1</td>\n",
              "      <td>14</td>\n",
              "      <td>-0.024679</td>\n",
              "      <td>3</td>\n",
              "      <td>0</td>\n",
              "      <td>0</td>\n",
              "      <td>0</td>\n",
              "      <td>1</td>\n",
              "      <td>0.0</td>\n",
              "    </tr>\n",
              "    <tr>\n",
              "      <th>2119</th>\n",
              "      <td>8905</td>\n",
              "      <td>city_70</td>\n",
              "      <td>0.698</td>\n",
              "      <td>0</td>\n",
              "      <td>8</td>\n",
              "      <td>0.248542</td>\n",
              "      <td>2</td>\n",
              "      <td>0</td>\n",
              "      <td>0</td>\n",
              "      <td>1</td>\n",
              "      <td>0</td>\n",
              "      <td>0.0</td>\n",
              "    </tr>\n",
              "    <tr>\n",
              "      <th>2120</th>\n",
              "      <td>9772</td>\n",
              "      <td>city_114</td>\n",
              "      <td>0.926</td>\n",
              "      <td>0</td>\n",
              "      <td>5</td>\n",
              "      <td>-0.300201</td>\n",
              "      <td>2</td>\n",
              "      <td>0</td>\n",
              "      <td>0</td>\n",
              "      <td>1</td>\n",
              "      <td>0</td>\n",
              "      <td>0.0</td>\n",
              "    </tr>\n",
              "    <tr>\n",
              "      <th>2121</th>\n",
              "      <td>27163</td>\n",
              "      <td>city_173</td>\n",
              "      <td>0.878</td>\n",
              "      <td>0</td>\n",
              "      <td>16</td>\n",
              "      <td>0.302353</td>\n",
              "      <td>2</td>\n",
              "      <td>0</td>\n",
              "      <td>0</td>\n",
              "      <td>1</td>\n",
              "      <td>0</td>\n",
              "      <td>0.0</td>\n",
              "    </tr>\n",
              "    <tr>\n",
              "      <th>2122</th>\n",
              "      <td>24507</td>\n",
              "      <td>city_90</td>\n",
              "      <td>0.698</td>\n",
              "      <td>0</td>\n",
              "      <td>20</td>\n",
              "      <td>1.143210</td>\n",
              "      <td>2</td>\n",
              "      <td>0</td>\n",
              "      <td>0</td>\n",
              "      <td>1</td>\n",
              "      <td>0</td>\n",
              "      <td>0.0</td>\n",
              "    </tr>\n",
              "    <tr>\n",
              "      <th>2123</th>\n",
              "      <td>21339</td>\n",
              "      <td>city_21</td>\n",
              "      <td>0.624</td>\n",
              "      <td>0</td>\n",
              "      <td>3</td>\n",
              "      <td>0.266799</td>\n",
              "      <td>2</td>\n",
              "      <td>0</td>\n",
              "      <td>0</td>\n",
              "      <td>1</td>\n",
              "      <td>0</td>\n",
              "      <td>1.0</td>\n",
              "    </tr>\n",
              "    <tr>\n",
              "      <th>2124</th>\n",
              "      <td>1289</td>\n",
              "      <td>city_103</td>\n",
              "      <td>0.920</td>\n",
              "      <td>0</td>\n",
              "      <td>16</td>\n",
              "      <td>-1.067882</td>\n",
              "      <td>2</td>\n",
              "      <td>0</td>\n",
              "      <td>0</td>\n",
              "      <td>1</td>\n",
              "      <td>0</td>\n",
              "      <td>0.0</td>\n",
              "    </tr>\n",
              "    <tr>\n",
              "      <th>2125</th>\n",
              "      <td>195</td>\n",
              "      <td>city_136</td>\n",
              "      <td>0.897</td>\n",
              "      <td>1</td>\n",
              "      <td>18</td>\n",
              "      <td>-0.365591</td>\n",
              "      <td>3</td>\n",
              "      <td>0</td>\n",
              "      <td>0</td>\n",
              "      <td>0</td>\n",
              "      <td>1</td>\n",
              "      <td>0.0</td>\n",
              "    </tr>\n",
              "    <tr>\n",
              "      <th>2126</th>\n",
              "      <td>31762</td>\n",
              "      <td>city_100</td>\n",
              "      <td>0.887</td>\n",
              "      <td>0</td>\n",
              "      <td>3</td>\n",
              "      <td>-0.883156</td>\n",
              "      <td>2</td>\n",
              "      <td>0</td>\n",
              "      <td>0</td>\n",
              "      <td>1</td>\n",
              "      <td>0</td>\n",
              "      <td>0.0</td>\n",
              "    </tr>\n",
              "    <tr>\n",
              "      <th>2127</th>\n",
              "      <td>7873</td>\n",
              "      <td>city_102</td>\n",
              "      <td>0.804</td>\n",
              "      <td>1</td>\n",
              "      <td>7</td>\n",
              "      <td>0.677614</td>\n",
              "      <td>3</td>\n",
              "      <td>0</td>\n",
              "      <td>0</td>\n",
              "      <td>0</td>\n",
              "      <td>1</td>\n",
              "      <td>0.0</td>\n",
              "    </tr>\n",
              "    <tr>\n",
              "      <th>2128</th>\n",
              "      <td>12215</td>\n",
              "      <td>city_102</td>\n",
              "      <td>0.804</td>\n",
              "      <td>1</td>\n",
              "      <td>15</td>\n",
              "      <td>-1.382128</td>\n",
              "      <td>3</td>\n",
              "      <td>0</td>\n",
              "      <td>0</td>\n",
              "      <td>0</td>\n",
              "      <td>1</td>\n",
              "      <td>0.0</td>\n",
              "    </tr>\n",
              "  </tbody>\n",
              "</table>\n",
              "</div>"
            ],
            "text/plain": [
              "      enrollee_id      city  ...  rel_exp_val_3  target\n",
              "2114         6294   city_73  ...              1     0.0\n",
              "2115        13833   city_21  ...              1     0.0\n",
              "2116        31643   city_75  ...              1     0.0\n",
              "2117        21500   city_44  ...              0     0.0\n",
              "2118        33225  city_138  ...              1     0.0\n",
              "2119         8905   city_70  ...              0     0.0\n",
              "2120         9772  city_114  ...              0     0.0\n",
              "2121        27163  city_173  ...              0     0.0\n",
              "2122        24507   city_90  ...              0     0.0\n",
              "2123        21339   city_21  ...              0     1.0\n",
              "2124         1289  city_103  ...              0     0.0\n",
              "2125          195  city_136  ...              1     0.0\n",
              "2126        31762  city_100  ...              0     0.0\n",
              "2127         7873  city_102  ...              1     0.0\n",
              "2128        12215  city_102  ...              1     0.0\n",
              "\n",
              "[15 rows x 12 columns]"
            ]
          },
          "metadata": {
            "tags": []
          },
          "execution_count": 82
        }
      ]
    },
    {
      "cell_type": "code",
      "metadata": {
        "id": "WGnUB1wuBsnq"
      },
      "source": [
        "test_data.to_csv('result.csv')"
      ],
      "execution_count": 85,
      "outputs": []
    },
    {
      "cell_type": "code",
      "metadata": {
        "colab": {
          "base_uri": "https://localhost:8080/",
          "height": 17
        },
        "id": "NpzNzqYcCxH4",
        "outputId": "c6c034dc-ae12-443f-b35f-86435f86e328"
      },
      "source": [
        "from google.colab import files\r\n",
        "files.download('result.csv')"
      ],
      "execution_count": 86,
      "outputs": [
        {
          "output_type": "display_data",
          "data": {
            "application/javascript": [
              "\n",
              "    async function download(id, filename, size) {\n",
              "      if (!google.colab.kernel.accessAllowed) {\n",
              "        return;\n",
              "      }\n",
              "      const div = document.createElement('div');\n",
              "      const label = document.createElement('label');\n",
              "      label.textContent = `Downloading \"${filename}\": `;\n",
              "      div.appendChild(label);\n",
              "      const progress = document.createElement('progress');\n",
              "      progress.max = size;\n",
              "      div.appendChild(progress);\n",
              "      document.body.appendChild(div);\n",
              "\n",
              "      const buffers = [];\n",
              "      let downloaded = 0;\n",
              "\n",
              "      const channel = await google.colab.kernel.comms.open(id);\n",
              "      // Send a message to notify the kernel that we're ready.\n",
              "      channel.send({})\n",
              "\n",
              "      for await (const message of channel.messages) {\n",
              "        // Send a message to notify the kernel that we're ready.\n",
              "        channel.send({})\n",
              "        if (message.buffers) {\n",
              "          for (const buffer of message.buffers) {\n",
              "            buffers.push(buffer);\n",
              "            downloaded += buffer.byteLength;\n",
              "            progress.value = downloaded;\n",
              "          }\n",
              "        }\n",
              "      }\n",
              "      const blob = new Blob(buffers, {type: 'application/binary'});\n",
              "      const a = document.createElement('a');\n",
              "      a.href = window.URL.createObjectURL(blob);\n",
              "      a.download = filename;\n",
              "      div.appendChild(a);\n",
              "      a.click();\n",
              "      div.remove();\n",
              "    }\n",
              "  "
            ],
            "text/plain": [
              "<IPython.core.display.Javascript object>"
            ]
          },
          "metadata": {
            "tags": []
          }
        },
        {
          "output_type": "display_data",
          "data": {
            "application/javascript": [
              "download(\"download_47749fee-0f86-4d4e-9f1e-386c6f4a40b6\", \"result.csv\", 134168)"
            ],
            "text/plain": [
              "<IPython.core.display.Javascript object>"
            ]
          },
          "metadata": {
            "tags": []
          }
        }
      ]
    },
    {
      "cell_type": "markdown",
      "metadata": {
        "id": "YP403TNZDvj0"
      },
      "source": [
        "( Kaggle에 별도로 노트북을 또 만들어야하나보다. 사용법을 익혀 결과를 업로드 할 예정이다)"
      ]
    },
    {
      "cell_type": "markdown",
      "metadata": {
        "id": "88dfK6PjD1l6"
      },
      "source": [
        "점수를 유의미하기 올리기 위해서 다음 방법들이 사용 가능할 것 같다.\r\n",
        "- 경력이나 훈련시간에 대해 유의미한 값을 주지 못했다. 이것에 대해서 XGBoost 나 RandomForest를 통해 결과를 향상시킬 수 있을지도 모르겠다.\r\n",
        "- 그냥 버려버린 학교나 회사 종류의 데이터에서 다른 유의미한 변수를 새로 뽑아낼 수 있을지도 모르겠다."
      ]
    },
    {
      "cell_type": "markdown",
      "metadata": {
        "id": "JHM3WcfpEO4T"
      },
      "source": [
        "(Tree 모델과의 비교는 업로드 예정)"
      ]
    }
  ]
}