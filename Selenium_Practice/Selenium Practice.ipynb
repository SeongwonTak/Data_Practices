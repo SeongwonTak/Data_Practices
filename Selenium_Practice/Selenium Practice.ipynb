{
 "cells": [
  {
   "cell_type": "markdown",
   "id": "83200a9b",
   "metadata": {},
   "source": [
    "# Selenium Practice"
   ]
  },
  {
   "cell_type": "markdown",
   "id": "50955053",
   "metadata": {},
   "source": [
    "동적 크롤링"
   ]
  },
  {
   "cell_type": "code",
   "execution_count": 1,
   "id": "66edb892",
   "metadata": {
    "scrolled": true
   },
   "outputs": [
    {
     "name": "stdout",
     "output_type": "stream",
     "text": [
      "Requirement already satisfied: selenium in c:\\users\\user\\anaconda3\\lib\\site-packages (3.141.0)\n",
      "Requirement already satisfied: urllib3 in c:\\users\\user\\anaconda3\\lib\\site-packages (from selenium) (1.26.4)\n",
      "Note: you may need to restart the kernel to use updated packages.\n"
     ]
    }
   ],
   "source": [
    "# pip install selenium"
   ]
  },
  {
   "cell_type": "code",
   "execution_count": 6,
   "id": "7a14fd7f",
   "metadata": {},
   "outputs": [],
   "source": [
    "from selenium import webdriver\n",
    "\n",
    "driver = webdriver.Chrome('./chromedriver')\n",
    "driver.get('https://www.google.com')"
   ]
  },
  {
   "cell_type": "markdown",
   "id": "7d05e002",
   "metadata": {},
   "source": [
    "크롤링을 위해서는 원하는 부분을 찾는다."
   ]
  },
  {
   "cell_type": "markdown",
   "id": "6d213bbe",
   "metadata": {},
   "source": [
    "driver.get(...) -> 원하는 링크를 가져오는 구조\n",
    "driver.find_elements_by_class_name -> 원하는 정보(태그)를 가져온다.  div class name을 따라간다."
   ]
  },
  {
   "cell_type": "code",
   "execution_count": null,
   "id": "f8a40220",
   "metadata": {},
   "outputs": [],
   "source": [
    "# 99.4844.84가 아니다.그 버전이 들어와야 가능하다.\n",
    "driver.get('https://play.google.com/store/apps/collection/topselling_free')\n",
    "top_app_details = driver.find_elements_by_class_name('details')\n",
    "\n",
    "for app in top_app_details:\n",
    "    print(app.text)"
   ]
  },
  {
   "cell_type": "code",
   "execution_count": null,
   "id": "94033cc3",
   "metadata": {},
   "outputs": [],
   "source": []
  }
 ],
 "metadata": {
  "kernelspec": {
   "display_name": "Python 3",
   "language": "python",
   "name": "python3"
  },
  "language_info": {
   "codemirror_mode": {
    "name": "ipython",
    "version": 3
   },
   "file_extension": ".py",
   "mimetype": "text/x-python",
   "name": "python",
   "nbconvert_exporter": "python",
   "pygments_lexer": "ipython3",
   "version": "3.8.8"
  }
 },
 "nbformat": 4,
 "nbformat_minor": 5
}
