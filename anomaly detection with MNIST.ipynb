{
 "cells": [
  {
   "cell_type": "markdown",
   "id": "a2797456",
   "metadata": {},
   "source": [
    "# MNIST + AutoEncoder 를 활용한 anomaly detection 실습"
   ]
  },
  {
   "cell_type": "code",
   "execution_count": null,
   "id": "34abbfa7",
   "metadata": {},
   "outputs": [],
   "source": []
  }
 ],
 "metadata": {
  "kernelspec": {
   "display_name": "Python 3",
   "language": "python",
   "name": "python3"
  },
  "language_info": {
   "codemirror_mode": {
    "name": "ipython",
    "version": 3
   },
   "file_extension": ".py",
   "mimetype": "text/x-python",
   "name": "python",
   "nbconvert_exporter": "python",
   "pygments_lexer": "ipython3",
   "version": "3.8.8"
  }
 },
 "nbformat": 4,
 "nbformat_minor": 5
}
