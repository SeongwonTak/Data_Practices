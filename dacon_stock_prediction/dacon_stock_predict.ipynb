{
 "cells": [
  {
   "cell_type": "code",
   "execution_count": 1,
   "id": "87129ab1",
   "metadata": {
    "scrolled": true
   },
   "outputs": [],
   "source": [
    "# pip install finance-datareader"
   ]
  },
  {
   "cell_type": "code",
   "execution_count": 9,
   "id": "485f9e9c",
   "metadata": {},
   "outputs": [],
   "source": [
    "import pandas as pd\n",
    "import numpy as np\n",
    "import os\n",
    "import FinanceDataReader as fdr\n",
    "\n",
    "from sklearn.linear_model import LinearRegression\n",
    "from tqdm import tqdm"
   ]
  },
  {
   "cell_type": "markdown",
   "id": "ea5a3508",
   "metadata": {},
   "source": [
    "# 주식 종료 가격 예측 경진대회"
   ]
  },
  {
   "cell_type": "markdown",
   "id": "41ac7932",
   "metadata": {},
   "source": [
    "## 문제 정의\n",
    "주식 종료 가격 예측 경진대회는 다음 두가지에 대해 실시합니다.  \n",
    "(1) 2021년 11월 1일 ~ 2021년 11월 5일 : public 점수     \n",
    "(2) 2021년 11월 29일 ~ 2021년 12월 3일 : private 점수  \n",
    "따라서 2021년 12월 3일까지를 유효하게 생각해줘야 하겠습니다.  "
   ]
  },
  {
   "cell_type": "markdown",
   "id": "b41392d6",
   "metadata": {},
   "source": [
    "## 데이터 로딩을 통한 구체적 문제 파악"
   ]
  },
  {
   "cell_type": "code",
   "execution_count": 4,
   "id": "750fa537",
   "metadata": {},
   "outputs": [],
   "source": [
    "stock_list = pd.read_csv('C:/Users/USER/Desktop/Data_Practices/dacon_stock_prediction/stock_list.csv')"
   ]
  },
  {
   "cell_type": "code",
   "execution_count": 5,
   "id": "4503b5ff",
   "metadata": {},
   "outputs": [
    {
     "data": {
      "text/html": [
       "<div>\n",
       "<style scoped>\n",
       "    .dataframe tbody tr th:only-of-type {\n",
       "        vertical-align: middle;\n",
       "    }\n",
       "\n",
       "    .dataframe tbody tr th {\n",
       "        vertical-align: top;\n",
       "    }\n",
       "\n",
       "    .dataframe thead th {\n",
       "        text-align: right;\n",
       "    }\n",
       "</style>\n",
       "<table border=\"1\" class=\"dataframe\">\n",
       "  <thead>\n",
       "    <tr style=\"text-align: right;\">\n",
       "      <th></th>\n",
       "      <th>종목명</th>\n",
       "      <th>종목코드</th>\n",
       "      <th>상장시장</th>\n",
       "    </tr>\n",
       "  </thead>\n",
       "  <tbody>\n",
       "    <tr>\n",
       "      <th>0</th>\n",
       "      <td>삼성전자</td>\n",
       "      <td>5930</td>\n",
       "      <td>KOSPI</td>\n",
       "    </tr>\n",
       "    <tr>\n",
       "      <th>1</th>\n",
       "      <td>SK하이닉스</td>\n",
       "      <td>660</td>\n",
       "      <td>KOSPI</td>\n",
       "    </tr>\n",
       "    <tr>\n",
       "      <th>2</th>\n",
       "      <td>NAVER</td>\n",
       "      <td>35420</td>\n",
       "      <td>KOSPI</td>\n",
       "    </tr>\n",
       "    <tr>\n",
       "      <th>3</th>\n",
       "      <td>카카오</td>\n",
       "      <td>35720</td>\n",
       "      <td>KOSPI</td>\n",
       "    </tr>\n",
       "    <tr>\n",
       "      <th>4</th>\n",
       "      <td>삼성바이오로직스</td>\n",
       "      <td>207940</td>\n",
       "      <td>KOSPI</td>\n",
       "    </tr>\n",
       "    <tr>\n",
       "      <th>...</th>\n",
       "      <td>...</td>\n",
       "      <td>...</td>\n",
       "      <td>...</td>\n",
       "    </tr>\n",
       "    <tr>\n",
       "      <th>365</th>\n",
       "      <td>맘스터치</td>\n",
       "      <td>220630</td>\n",
       "      <td>KOSDAQ</td>\n",
       "    </tr>\n",
       "    <tr>\n",
       "      <th>366</th>\n",
       "      <td>다날</td>\n",
       "      <td>64260</td>\n",
       "      <td>KOSDAQ</td>\n",
       "    </tr>\n",
       "    <tr>\n",
       "      <th>367</th>\n",
       "      <td>제이시스메디칼</td>\n",
       "      <td>287410</td>\n",
       "      <td>KOSDAQ</td>\n",
       "    </tr>\n",
       "    <tr>\n",
       "      <th>368</th>\n",
       "      <td>크리스에프앤씨</td>\n",
       "      <td>110790</td>\n",
       "      <td>KOSDAQ</td>\n",
       "    </tr>\n",
       "    <tr>\n",
       "      <th>369</th>\n",
       "      <td>쎄트렉아이</td>\n",
       "      <td>99320</td>\n",
       "      <td>KOSDAQ</td>\n",
       "    </tr>\n",
       "  </tbody>\n",
       "</table>\n",
       "<p>370 rows × 3 columns</p>\n",
       "</div>"
      ],
      "text/plain": [
       "          종목명    종목코드    상장시장\n",
       "0        삼성전자    5930   KOSPI\n",
       "1      SK하이닉스     660   KOSPI\n",
       "2       NAVER   35420   KOSPI\n",
       "3         카카오   35720   KOSPI\n",
       "4    삼성바이오로직스  207940   KOSPI\n",
       "..        ...     ...     ...\n",
       "365      맘스터치  220630  KOSDAQ\n",
       "366        다날   64260  KOSDAQ\n",
       "367   제이시스메디칼  287410  KOSDAQ\n",
       "368   크리스에프앤씨  110790  KOSDAQ\n",
       "369     쎄트렉아이   99320  KOSDAQ\n",
       "\n",
       "[370 rows x 3 columns]"
      ]
     },
     "execution_count": 5,
     "metadata": {},
     "output_type": "execute_result"
    }
   ],
   "source": [
    "stock_list"
   ]
  },
  {
   "cell_type": "markdown",
   "id": "50d591a9",
   "metadata": {},
   "source": [
    "우선 코스피, 코스탁 각각 몇개인지를 확인해보자."
   ]
  },
  {
   "cell_type": "code",
   "execution_count": 6,
   "id": "f27d4aa3",
   "metadata": {},
   "outputs": [
    {
     "data": {
      "text/plain": [
       "KOSPI     185\n",
       "KOSDAQ    185\n",
       "Name: 상장시장, dtype: int64"
      ]
     },
     "execution_count": 6,
     "metadata": {},
     "output_type": "execute_result"
    }
   ],
   "source": [
    "stock_list['상장시장'].value_counts()"
   ]
  },
  {
   "cell_type": "markdown",
   "id": "7e251576",
   "metadata": {},
   "source": [
    "코스피 185개, 코스닥 185개에 대해서 분석할 것이다."
   ]
  },
  {
   "cell_type": "markdown",
   "id": "697c7665",
   "metadata": {},
   "source": [
    "종목코드에 대해서 6자리로 채울 것이다."
   ]
  },
  {
   "cell_type": "code",
   "execution_count": 7,
   "id": "0a7cba59",
   "metadata": {},
   "outputs": [],
   "source": [
    "stock_list['종목코드'] = stock_list['종목코드'].apply(lambda x : str(x).zfill(6))"
   ]
  },
  {
   "cell_type": "markdown",
   "id": "26223e8b",
   "metadata": {},
   "source": [
    "가령 예시로, 삼성전자를 바탕으로 한번 진행해보자."
   ]
  },
  {
   "cell_type": "code",
   "execution_count": 8,
   "id": "111280fa",
   "metadata": {},
   "outputs": [
    {
     "data": {
      "text/html": [
       "<div>\n",
       "<style scoped>\n",
       "    .dataframe tbody tr th:only-of-type {\n",
       "        vertical-align: middle;\n",
       "    }\n",
       "\n",
       "    .dataframe tbody tr th {\n",
       "        vertical-align: top;\n",
       "    }\n",
       "\n",
       "    .dataframe thead th {\n",
       "        text-align: right;\n",
       "    }\n",
       "</style>\n",
       "<table border=\"1\" class=\"dataframe\">\n",
       "  <thead>\n",
       "    <tr style=\"text-align: right;\">\n",
       "      <th></th>\n",
       "      <th>Open</th>\n",
       "      <th>High</th>\n",
       "      <th>Low</th>\n",
       "      <th>Close</th>\n",
       "      <th>Volume</th>\n",
       "      <th>Change</th>\n",
       "    </tr>\n",
       "    <tr>\n",
       "      <th>Date</th>\n",
       "      <th></th>\n",
       "      <th></th>\n",
       "      <th></th>\n",
       "      <th></th>\n",
       "      <th></th>\n",
       "      <th></th>\n",
       "    </tr>\n",
       "  </thead>\n",
       "  <tbody>\n",
       "    <tr>\n",
       "      <th>2021-06-01</th>\n",
       "      <td>80500</td>\n",
       "      <td>81300</td>\n",
       "      <td>80100</td>\n",
       "      <td>80600</td>\n",
       "      <td>14058401</td>\n",
       "      <td>0.001242</td>\n",
       "    </tr>\n",
       "    <tr>\n",
       "      <th>2021-06-02</th>\n",
       "      <td>80400</td>\n",
       "      <td>81400</td>\n",
       "      <td>80300</td>\n",
       "      <td>80800</td>\n",
       "      <td>16414644</td>\n",
       "      <td>0.002481</td>\n",
       "    </tr>\n",
       "    <tr>\n",
       "      <th>2021-06-03</th>\n",
       "      <td>81300</td>\n",
       "      <td>83000</td>\n",
       "      <td>81100</td>\n",
       "      <td>82800</td>\n",
       "      <td>29546007</td>\n",
       "      <td>0.024752</td>\n",
       "    </tr>\n",
       "    <tr>\n",
       "      <th>2021-06-04</th>\n",
       "      <td>82700</td>\n",
       "      <td>82700</td>\n",
       "      <td>81500</td>\n",
       "      <td>82200</td>\n",
       "      <td>18112259</td>\n",
       "      <td>-0.007246</td>\n",
       "    </tr>\n",
       "    <tr>\n",
       "      <th>2021-06-07</th>\n",
       "      <td>82700</td>\n",
       "      <td>82800</td>\n",
       "      <td>81600</td>\n",
       "      <td>81900</td>\n",
       "      <td>16496197</td>\n",
       "      <td>-0.003650</td>\n",
       "    </tr>\n",
       "    <tr>\n",
       "      <th>...</th>\n",
       "      <td>...</td>\n",
       "      <td>...</td>\n",
       "      <td>...</td>\n",
       "      <td>...</td>\n",
       "      <td>...</td>\n",
       "      <td>...</td>\n",
       "    </tr>\n",
       "    <tr>\n",
       "      <th>2021-10-25</th>\n",
       "      <td>69900</td>\n",
       "      <td>70600</td>\n",
       "      <td>69500</td>\n",
       "      <td>70200</td>\n",
       "      <td>10029621</td>\n",
       "      <td>-0.002841</td>\n",
       "    </tr>\n",
       "    <tr>\n",
       "      <th>2021-10-26</th>\n",
       "      <td>70600</td>\n",
       "      <td>71500</td>\n",
       "      <td>70400</td>\n",
       "      <td>71100</td>\n",
       "      <td>10528252</td>\n",
       "      <td>0.012821</td>\n",
       "    </tr>\n",
       "    <tr>\n",
       "      <th>2021-10-27</th>\n",
       "      <td>71000</td>\n",
       "      <td>71000</td>\n",
       "      <td>70000</td>\n",
       "      <td>70100</td>\n",
       "      <td>10295316</td>\n",
       "      <td>-0.014065</td>\n",
       "    </tr>\n",
       "    <tr>\n",
       "      <th>2021-10-28</th>\n",
       "      <td>69500</td>\n",
       "      <td>72200</td>\n",
       "      <td>69500</td>\n",
       "      <td>70700</td>\n",
       "      <td>20644902</td>\n",
       "      <td>0.008559</td>\n",
       "    </tr>\n",
       "    <tr>\n",
       "      <th>2021-10-29</th>\n",
       "      <td>71200</td>\n",
       "      <td>71600</td>\n",
       "      <td>69700</td>\n",
       "      <td>69800</td>\n",
       "      <td>17016151</td>\n",
       "      <td>-0.012730</td>\n",
       "    </tr>\n",
       "  </tbody>\n",
       "</table>\n",
       "<p>103 rows × 6 columns</p>\n",
       "</div>"
      ],
      "text/plain": [
       "             Open   High    Low  Close    Volume    Change\n",
       "Date                                                      \n",
       "2021-06-01  80500  81300  80100  80600  14058401  0.001242\n",
       "2021-06-02  80400  81400  80300  80800  16414644  0.002481\n",
       "2021-06-03  81300  83000  81100  82800  29546007  0.024752\n",
       "2021-06-04  82700  82700  81500  82200  18112259 -0.007246\n",
       "2021-06-07  82700  82800  81600  81900  16496197 -0.003650\n",
       "...           ...    ...    ...    ...       ...       ...\n",
       "2021-10-25  69900  70600  69500  70200  10029621 -0.002841\n",
       "2021-10-26  70600  71500  70400  71100  10528252  0.012821\n",
       "2021-10-27  71000  71000  70000  70100  10295316 -0.014065\n",
       "2021-10-28  69500  72200  69500  70700  20644902  0.008559\n",
       "2021-10-29  71200  71600  69700  69800  17016151 -0.012730\n",
       "\n",
       "[103 rows x 6 columns]"
      ]
     },
     "execution_count": 8,
     "metadata": {},
     "output_type": "execute_result"
    }
   ],
   "source": [
    "start_date = '20210601'\n",
    "end_date = '20211031'\n",
    "sample_code = '005930'\n",
    "stock = fdr.DataReader(sample_code, start = start_date, end = end_date)\n",
    "stock"
   ]
  },
  {
   "cell_type": "markdown",
   "id": "9ba781d2",
   "metadata": {},
   "source": [
    "다음과 같이, 시가, 최고치, 최저치, 종가 데이터를 얻을 수 있다.\n",
    "문제에서 물어보는 것은 종가에 대한 예측이나, 전체적인 흐름에 대해서는 고려해야 할 것이다."
   ]
  },
  {
   "cell_type": "markdown",
   "id": "8efb9f5a",
   "metadata": {},
   "source": [
    "## Baseline _ (Dacon) : 선형회귀 모델"
   ]
  },
  {
   "cell_type": "markdown",
   "id": "e52b2399",
   "metadata": {},
   "source": [
    "우선 Dacon에서 제공한 선형회귀 모델을 적용해보자."
   ]
  },
  {
   "cell_type": "code",
   "execution_count": 10,
   "id": "704b9911",
   "metadata": {},
   "outputs": [
    {
     "name": "stdout",
     "output_type": "stream",
     "text": [
      "WEEKDAY of \"start_date\" : 0\n",
      "NUM of WEEKS to \"end_date\" : 44\n",
      "HOW MANY \"Business_days\" : (220, 1)\n"
     ]
    },
    {
     "data": {
      "text/html": [
       "<div>\n",
       "<style scoped>\n",
       "    .dataframe tbody tr th:only-of-type {\n",
       "        vertical-align: middle;\n",
       "    }\n",
       "\n",
       "    .dataframe tbody tr th {\n",
       "        vertical-align: top;\n",
       "    }\n",
       "\n",
       "    .dataframe thead th {\n",
       "        text-align: right;\n",
       "    }\n",
       "</style>\n",
       "<table border=\"1\" class=\"dataframe\">\n",
       "  <thead>\n",
       "    <tr style=\"text-align: right;\">\n",
       "      <th></th>\n",
       "      <th>Date</th>\n",
       "    </tr>\n",
       "  </thead>\n",
       "  <tbody>\n",
       "    <tr>\n",
       "      <th>0</th>\n",
       "      <td>2021-01-04</td>\n",
       "    </tr>\n",
       "    <tr>\n",
       "      <th>1</th>\n",
       "      <td>2021-01-05</td>\n",
       "    </tr>\n",
       "    <tr>\n",
       "      <th>2</th>\n",
       "      <td>2021-01-06</td>\n",
       "    </tr>\n",
       "    <tr>\n",
       "      <th>3</th>\n",
       "      <td>2021-01-07</td>\n",
       "    </tr>\n",
       "    <tr>\n",
       "      <th>4</th>\n",
       "      <td>2021-01-08</td>\n",
       "    </tr>\n",
       "  </tbody>\n",
       "</table>\n",
       "</div>"
      ],
      "text/plain": [
       "        Date\n",
       "0 2021-01-04\n",
       "1 2021-01-05\n",
       "2 2021-01-06\n",
       "3 2021-01-07\n",
       "4 2021-01-08"
      ]
     },
     "metadata": {},
     "output_type": "display_data"
    }
   ],
   "source": [
    "start_date = '20210104'\n",
    "end_date = '20211105'\n",
    "\n",
    "start_weekday = pd.to_datetime(start_date).weekday()\n",
    "max_weeknum = pd.to_datetime(end_date).strftime('%V')\n",
    "Business_days = pd.DataFrame(pd.date_range(start_date,end_date,freq='B'), columns = ['Date'])\n",
    "\n",
    "print(f'WEEKDAY of \"start_date\" : {start_weekday}')\n",
    "print(f'NUM of WEEKS to \"end_date\" : {max_weeknum}')\n",
    "print(f'HOW MANY \"Business_days\" : {Business_days.shape}', )\n",
    "display(Business_days.head())"
   ]
  },
  {
   "cell_type": "code",
   "execution_count": 13,
   "id": "d670cb55",
   "metadata": {},
   "outputs": [],
   "source": [
    "sample_submission = pd.read_csv('C:/Users/USER/Desktop/Data_Practices/dacon_stock_prediction/sample_submission.csv')"
   ]
  },
  {
   "cell_type": "code",
   "execution_count": 14,
   "id": "7619a634",
   "metadata": {},
   "outputs": [
    {
     "name": "stderr",
     "output_type": "stream",
     "text": [
      "100%|██████████| 370/370 [00:46<00:00,  8.02it/s]\n"
     ]
    },
    {
     "data": {
      "text/plain": [
       "0"
      ]
     },
     "execution_count": 14,
     "metadata": {},
     "output_type": "execute_result"
    }
   ],
   "source": [
    "model = LinearRegression()\n",
    "for code in tqdm(stock_list['종목코드'].values):\n",
    "    data = fdr.DataReader(code, start = start_date, end = end_date)[['Close']].reset_index()\n",
    "    data = pd.merge(Business_days, data, how = 'outer')\n",
    "    data['weekday'] = data.Date.apply(lambda x : x.weekday())\n",
    "    data['weeknum'] = data.Date.apply(lambda x : x.strftime('%V'))\n",
    "    data.Close = data.Close.ffill()\n",
    "    #  종가에 대해서만 예측한다.\n",
    "    data = pd.pivot_table(data = data, values = 'Close', columns = 'weekday', index = 'weeknum')\n",
    "    \n",
    "    x = data.iloc[0:-2].to_numpy() # 2021년 1월 04일 ~ 2021년 10월 22일까지의 데이터로\n",
    "    y = data.iloc[1:-1].to_numpy() # 2021년 1월 11일 ~ 2021년 10월 29일까지의 데이터를 학습한다.\n",
    "    y_0 = y[:,0]\n",
    "    y_1 = y[:,1]\n",
    "    y_2 = y[:,2]\n",
    "    y_3 = y[:,3]\n",
    "    y_4 = y[:,4]\n",
    "\n",
    "    y_values = [y_0, y_1, y_2, y_3, y_4]\n",
    "    x_public = data.iloc[-2].to_numpy() # 2021년 11월 1일부터 11월 5일까지의 데이터를 예측할 것이다.\n",
    "    \n",
    "    predictions = []\n",
    "    for y_value in y_values :\n",
    "        model.fit(x,y_value)\n",
    "        prediction = model.predict(np.expand_dims(x_public,0))\n",
    "        predictions.append(prediction[0])\n",
    "    sample_submission.loc[:,code] = predictions * 2\n",
    "sample_submission.isna().sum().sum()"
   ]
  },
  {
   "cell_type": "code",
   "execution_count": 15,
   "id": "9246329a",
   "metadata": {},
   "outputs": [],
   "source": [
    "columns = list(sample_submission.columns[1:])\n",
    "\n",
    "columns = ['Day'] + [str(x).zfill(6) for x in columns]\n",
    "\n",
    "sample_submission.columns = columns\n",
    "\n",
    "sample_submission.to_csv('BASELINE_Linear.csv',index=False)"
   ]
  },
  {
   "cell_type": "markdown",
   "id": "b9f8a63b",
   "metadata": {},
   "source": [
    "## Arima의 적용"
   ]
  },
  {
   "cell_type": "code",
   "execution_count": null,
   "id": "84b4f573",
   "metadata": {},
   "outputs": [],
   "source": []
  }
 ],
 "metadata": {
  "kernelspec": {
   "display_name": "Python 3",
   "language": "python",
   "name": "python3"
  },
  "language_info": {
   "codemirror_mode": {
    "name": "ipython",
    "version": 3
   },
   "file_extension": ".py",
   "mimetype": "text/x-python",
   "name": "python",
   "nbconvert_exporter": "python",
   "pygments_lexer": "ipython3",
   "version": "3.8.8"
  }
 },
 "nbformat": 4,
 "nbformat_minor": 5
}
