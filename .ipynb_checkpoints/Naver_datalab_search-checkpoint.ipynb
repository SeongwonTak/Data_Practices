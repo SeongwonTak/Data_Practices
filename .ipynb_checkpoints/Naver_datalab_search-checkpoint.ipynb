{
 "cells": [
  {
   "cell_type": "markdown",
   "id": "29b8be3e",
   "metadata": {},
   "source": [
    "# 네이버 뉴스 검색 api"
   ]
  },
  {
   "cell_type": "markdown",
   "id": "65532b52",
   "metadata": {},
   "source": [
    "공식 문서를 참고해보면, datalab의 경우는, 비로그인 방식 오픈 API를 쓴다.  \n",
    "header에 \n",
    "- client_id\n",
    "- cliend_secret을 전송해서 사용한다."
   ]
  },
  {
   "cell_type": "markdown",
   "id": "bfbcad46",
   "metadata": {},
   "source": [
    "## 검색 예시"
   ]
  },
  {
   "cell_type": "code",
   "execution_count": 9,
   "id": "22c87fda",
   "metadata": {},
   "outputs": [],
   "source": [
    "# 검색 조건 주는 body\n",
    "body = \"{\\\"startDate\\\":\\\"2017-01-01\\\",\\\"endDate\\\":\\\"2017-04-30\\\",\\\"timeUnit\\\":\\\"month\\\",\\\"keywordGroups\\\":[{\\\"groupName\\\":\\\"한글\\\",\\\"keywords\\\":[\\\"한글\\\",\\\"korean\\\"]},{\\\"groupName\\\":\\\"영어\\\",\\\"keywords\\\":[\\\"영어\\\",\\\"english\\\"]}],\\\"device\\\":\\\"pc\\\",\\\"ages\\\":[\\\"1\\\",\\\"2\\\"],\\\"gender\\\":\\\"f\\\"}\""
   ]
  },
  {
   "cell_type": "markdown",
   "id": "123f879a",
   "metadata": {},
   "source": [
    "조금 다른 방식으로 한번 request를 해보려고 한다."
   ]
  },
  {
   "cell_type": "code",
   "execution_count": 18,
   "id": "8727794a",
   "metadata": {
    "scrolled": true
   },
   "outputs": [],
   "source": [
    "import os\n",
    "import sys\n",
    "import urllib.request\n",
    "\n",
    "url = \"https://openapi.naver.com/v1/datalab/search\"\n",
    "\n",
    "request = urllib.request.Request(url)\n",
    "request.add_header(\"X-Naver-Client-Id\",client_id)\n",
    "request.add_header(\"X-Naver-Client-Secret\",client_secret)\n",
    "request.add_header(\"Content-Type\",\"application/json\")\n",
    "\n",
    "response = urllib.request.urlopen(request, data = body.encode(\"utf-8\"))"
   ]
  },
  {
   "cell_type": "code",
   "execution_count": 20,
   "id": "7e89961c",
   "metadata": {
    "scrolled": true
   },
   "outputs": [
    {
     "data": {
      "text/plain": [
       "'{\"startDate\":\"2017-01-01\",\"endDate\":\"2017-04-30\",\"timeUnit\":\"month\",\"results\":[{\"title\":\"한글\",\"keywords\":[\"한글\",\"korean\"],\"data\":[{\"period\":\"2017-01-01\",\"ratio\":47.00101},{\"period\":\"2017-02-01\",\"ratio\":53.23619},{\"period\":\"2017-03-01\",\"ratio\":100},{\"period\":\"2017-04-01\",\"ratio\":85.327}]},{\"title\":\"영어\",\"keywords\":[\"영어\",\"english\"],\"data\":[{\"period\":\"2017-01-01\",\"ratio\":40.0881},{\"period\":\"2017-02-01\",\"ratio\":36.69942},{\"period\":\"2017-03-01\",\"ratio\":52.11792},{\"period\":\"2017-04-01\",\"ratio\":44.4595}]}]}'"
      ]
     },
     "execution_count": 20,
     "metadata": {},
     "output_type": "execute_result"
    }
   ],
   "source": [
    "response.read().decode('utf_8')"
   ]
  },
  {
   "cell_type": "markdown",
   "id": "26634571",
   "metadata": {},
   "source": [
    "무난하게 데이터가 들어오고 있지만, 조금 더 정리해보려고 하다."
   ]
  },
  {
   "cell_type": "markdown",
   "id": "aea6830a",
   "metadata": {},
   "source": [
    "## 원하는 데이터를 바탕으로, body 수정"
   ]
  },
  {
   "cell_type": "code",
   "execution_count": 26,
   "id": "ba4055a0",
   "metadata": {},
   "outputs": [],
   "source": [
    "body = \"{\\\"startDate\\\":\\\"2019-01-01\\\",\\\"endDate\\\":\\\"2022-02-28\\\",\\\"timeUnit\\\":\\\"month\\\",\\\"keywordGroups\\\":[{\\\"groupName\\\":\\\"코로나\\\",\\\"keywords\\\":[\\\"코로나\\\"]}]}\""
   ]
  },
  {
   "cell_type": "code",
   "execution_count": 31,
   "id": "4f5fb064",
   "metadata": {},
   "outputs": [],
   "source": [
    "url = \"https://openapi.naver.com/v1/datalab/search\"\n",
    "\n",
    "request = urllib.request.Request(url)\n",
    "request.add_header(\"X-Naver-Client-Id\",client_id)\n",
    "request.add_header(\"X-Naver-Client-Secret\",client_secret)\n",
    "request.add_header(\"Content-Type\",\"application/json\")\n",
    "\n",
    "response = urllib.request.urlopen(request, data = body.encode(\"utf-8\"))"
   ]
  },
  {
   "cell_type": "code",
   "execution_count": 32,
   "id": "733ab7c1",
   "metadata": {
    "scrolled": true
   },
   "outputs": [],
   "source": [
    "result = response.read().decode('utf_8')"
   ]
  },
  {
   "cell_type": "code",
   "execution_count": 33,
   "id": "9ec40457",
   "metadata": {},
   "outputs": [
    {
     "data": {
      "text/plain": [
       "'{\"startDate\":\"2019-01-01\",\"endDate\":\"2022-02-28\",\"timeUnit\":\"month\",\"results\":[{\"title\":\"코로나\",\"keywords\":[\"코로나\"],\"data\":[{\"period\":\"2019-01-01\",\"ratio\":0.02654},{\"period\":\"2019-02-01\",\"ratio\":0.02146},{\"period\":\"2019-03-01\",\"ratio\":0.02302},{\"period\":\"2019-04-01\",\"ratio\":0.02953},{\"period\":\"2019-05-01\",\"ratio\":0.02615},{\"period\":\"2019-06-01\",\"ratio\":0.03197},{\"period\":\"2019-07-01\",\"ratio\":0.03305},{\"period\":\"2019-08-01\",\"ratio\":0.03023},{\"period\":\"2019-09-01\",\"ratio\":0.03079},{\"period\":\"2019-10-01\",\"ratio\":0.02642},{\"period\":\"2019-11-01\",\"ratio\":0.02381},{\"period\":\"2019-12-01\",\"ratio\":0.02353},{\"period\":\"2020-01-01\",\"ratio\":2.20883},{\"period\":\"2020-02-01\",\"ratio\":84.25142},{\"period\":\"2020-03-01\",\"ratio\":100},{\"period\":\"2020-04-01\",\"ratio\":40.21097},{\"period\":\"2020-05-01\",\"ratio\":35.67645},{\"period\":\"2020-06-01\",\"ratio\":21.38294},{\"period\":\"2020-07-01\",\"ratio\":15.14822},{\"period\":\"2020-08-01\",\"ratio\":52.73999},{\"period\":\"2020-09-01\",\"ratio\":35.57399},{\"period\":\"2020-10-01\",\"ratio\":23.42356},{\"period\":\"2020-11-01\",\"ratio\":47.62387},{\"period\":\"2020-12-01\",\"ratio\":81.61528},{\"period\":\"2021-01-01\",\"ratio\":37.07733},{\"period\":\"2021-02-01\",\"ratio\":20.45728},{\"period\":\"2021-03-01\",\"ratio\":14.39755},{\"period\":\"2021-04-01\",\"ratio\":19.2138},{\"period\":\"2021-05-01\",\"ratio\":9.99805},{\"period\":\"2021-06-01\",\"ratio\":8.71788},{\"period\":\"2021-07-01\",\"ratio\":36.83456},{\"period\":\"2021-08-01\",\"ratio\":20.62177},{\"period\":\"2021-09-01\",\"ratio\":13.09661},{\"period\":\"2021-10-01\",\"ratio\":9.05697},{\"period\":\"2021-11-01\",\"ratio\":12.63116},{\"period\":\"2021-12-01\",\"ratio\":22.38508},{\"period\":\"2022-01-01\",\"ratio\":13.51088},{\"period\":\"2022-02-01\",\"ratio\":26.84879}]}]}'"
      ]
     },
     "execution_count": 33,
     "metadata": {},
     "output_type": "execute_result"
    }
   ],
   "source": [
    "result"
   ]
  },
  {
   "cell_type": "markdown",
   "id": "078b2549",
   "metadata": {},
   "source": [
    "return해주는 값은 ration의 의미로. 구간별로 검색량의 상대적 비율을 보여준다.\n",
    "이를 dataframe으로 정리하거나, 시각화로 정리하려고 한다."
   ]
  },
  {
   "cell_type": "code",
   "execution_count": 35,
   "id": "e937ff7d",
   "metadata": {},
   "outputs": [],
   "source": [
    "# json으로 다루어서 편하게 보려고 한다.\n",
    "import json \n",
    "\n",
    "result_json = json.loads(result)"
   ]
  },
  {
   "cell_type": "code",
   "execution_count": 36,
   "id": "e118a1c5",
   "metadata": {},
   "outputs": [
    {
     "data": {
      "text/plain": [
       "{'startDate': '2019-01-01',\n",
       " 'endDate': '2022-02-28',\n",
       " 'timeUnit': 'month',\n",
       " 'results': [{'title': '코로나',\n",
       "   'keywords': ['코로나'],\n",
       "   'data': [{'period': '2019-01-01', 'ratio': 0.02654},\n",
       "    {'period': '2019-02-01', 'ratio': 0.02146},\n",
       "    {'period': '2019-03-01', 'ratio': 0.02302},\n",
       "    {'period': '2019-04-01', 'ratio': 0.02953},\n",
       "    {'period': '2019-05-01', 'ratio': 0.02615},\n",
       "    {'period': '2019-06-01', 'ratio': 0.03197},\n",
       "    {'period': '2019-07-01', 'ratio': 0.03305},\n",
       "    {'period': '2019-08-01', 'ratio': 0.03023},\n",
       "    {'period': '2019-09-01', 'ratio': 0.03079},\n",
       "    {'period': '2019-10-01', 'ratio': 0.02642},\n",
       "    {'period': '2019-11-01', 'ratio': 0.02381},\n",
       "    {'period': '2019-12-01', 'ratio': 0.02353},\n",
       "    {'period': '2020-01-01', 'ratio': 2.20883},\n",
       "    {'period': '2020-02-01', 'ratio': 84.25142},\n",
       "    {'period': '2020-03-01', 'ratio': 100},\n",
       "    {'period': '2020-04-01', 'ratio': 40.21097},\n",
       "    {'period': '2020-05-01', 'ratio': 35.67645},\n",
       "    {'period': '2020-06-01', 'ratio': 21.38294},\n",
       "    {'period': '2020-07-01', 'ratio': 15.14822},\n",
       "    {'period': '2020-08-01', 'ratio': 52.73999},\n",
       "    {'period': '2020-09-01', 'ratio': 35.57399},\n",
       "    {'period': '2020-10-01', 'ratio': 23.42356},\n",
       "    {'period': '2020-11-01', 'ratio': 47.62387},\n",
       "    {'period': '2020-12-01', 'ratio': 81.61528},\n",
       "    {'period': '2021-01-01', 'ratio': 37.07733},\n",
       "    {'period': '2021-02-01', 'ratio': 20.45728},\n",
       "    {'period': '2021-03-01', 'ratio': 14.39755},\n",
       "    {'period': '2021-04-01', 'ratio': 19.2138},\n",
       "    {'period': '2021-05-01', 'ratio': 9.99805},\n",
       "    {'period': '2021-06-01', 'ratio': 8.71788},\n",
       "    {'period': '2021-07-01', 'ratio': 36.83456},\n",
       "    {'period': '2021-08-01', 'ratio': 20.62177},\n",
       "    {'period': '2021-09-01', 'ratio': 13.09661},\n",
       "    {'period': '2021-10-01', 'ratio': 9.05697},\n",
       "    {'period': '2021-11-01', 'ratio': 12.63116},\n",
       "    {'period': '2021-12-01', 'ratio': 22.38508},\n",
       "    {'period': '2022-01-01', 'ratio': 13.51088},\n",
       "    {'period': '2022-02-01', 'ratio': 26.84879}]}]}"
      ]
     },
     "execution_count": 36,
     "metadata": {},
     "output_type": "execute_result"
    }
   ],
   "source": [
    "result_json"
   ]
  },
  {
   "cell_type": "markdown",
   "id": "f4a9dc6e",
   "metadata": {},
   "source": [
    "json_normalize를 활용하면 다음과 같이 만들 수 있다."
   ]
  },
  {
   "cell_type": "code",
   "execution_count": 43,
   "id": "683d82b3",
   "metadata": {
    "scrolled": true
   },
   "outputs": [
    {
     "data": {
      "text/html": [
       "<div>\n",
       "<style scoped>\n",
       "    .dataframe tbody tr th:only-of-type {\n",
       "        vertical-align: middle;\n",
       "    }\n",
       "\n",
       "    .dataframe tbody tr th {\n",
       "        vertical-align: top;\n",
       "    }\n",
       "\n",
       "    .dataframe thead th {\n",
       "        text-align: right;\n",
       "    }\n",
       "</style>\n",
       "<table border=\"1\" class=\"dataframe\">\n",
       "  <thead>\n",
       "    <tr style=\"text-align: right;\">\n",
       "      <th></th>\n",
       "      <th>period</th>\n",
       "      <th>ratio</th>\n",
       "    </tr>\n",
       "  </thead>\n",
       "  <tbody>\n",
       "    <tr>\n",
       "      <th>0</th>\n",
       "      <td>2019-01-01</td>\n",
       "      <td>0.02654</td>\n",
       "    </tr>\n",
       "    <tr>\n",
       "      <th>1</th>\n",
       "      <td>2019-02-01</td>\n",
       "      <td>0.02146</td>\n",
       "    </tr>\n",
       "    <tr>\n",
       "      <th>2</th>\n",
       "      <td>2019-03-01</td>\n",
       "      <td>0.02302</td>\n",
       "    </tr>\n",
       "    <tr>\n",
       "      <th>3</th>\n",
       "      <td>2019-04-01</td>\n",
       "      <td>0.02953</td>\n",
       "    </tr>\n",
       "    <tr>\n",
       "      <th>4</th>\n",
       "      <td>2019-05-01</td>\n",
       "      <td>0.02615</td>\n",
       "    </tr>\n",
       "    <tr>\n",
       "      <th>5</th>\n",
       "      <td>2019-06-01</td>\n",
       "      <td>0.03197</td>\n",
       "    </tr>\n",
       "    <tr>\n",
       "      <th>6</th>\n",
       "      <td>2019-07-01</td>\n",
       "      <td>0.03305</td>\n",
       "    </tr>\n",
       "    <tr>\n",
       "      <th>7</th>\n",
       "      <td>2019-08-01</td>\n",
       "      <td>0.03023</td>\n",
       "    </tr>\n",
       "    <tr>\n",
       "      <th>8</th>\n",
       "      <td>2019-09-01</td>\n",
       "      <td>0.03079</td>\n",
       "    </tr>\n",
       "    <tr>\n",
       "      <th>9</th>\n",
       "      <td>2019-10-01</td>\n",
       "      <td>0.02642</td>\n",
       "    </tr>\n",
       "    <tr>\n",
       "      <th>10</th>\n",
       "      <td>2019-11-01</td>\n",
       "      <td>0.02381</td>\n",
       "    </tr>\n",
       "    <tr>\n",
       "      <th>11</th>\n",
       "      <td>2019-12-01</td>\n",
       "      <td>0.02353</td>\n",
       "    </tr>\n",
       "    <tr>\n",
       "      <th>12</th>\n",
       "      <td>2020-01-01</td>\n",
       "      <td>2.20883</td>\n",
       "    </tr>\n",
       "    <tr>\n",
       "      <th>13</th>\n",
       "      <td>2020-02-01</td>\n",
       "      <td>84.25142</td>\n",
       "    </tr>\n",
       "    <tr>\n",
       "      <th>14</th>\n",
       "      <td>2020-03-01</td>\n",
       "      <td>100.00000</td>\n",
       "    </tr>\n",
       "    <tr>\n",
       "      <th>15</th>\n",
       "      <td>2020-04-01</td>\n",
       "      <td>40.21097</td>\n",
       "    </tr>\n",
       "    <tr>\n",
       "      <th>16</th>\n",
       "      <td>2020-05-01</td>\n",
       "      <td>35.67645</td>\n",
       "    </tr>\n",
       "    <tr>\n",
       "      <th>17</th>\n",
       "      <td>2020-06-01</td>\n",
       "      <td>21.38294</td>\n",
       "    </tr>\n",
       "    <tr>\n",
       "      <th>18</th>\n",
       "      <td>2020-07-01</td>\n",
       "      <td>15.14822</td>\n",
       "    </tr>\n",
       "    <tr>\n",
       "      <th>19</th>\n",
       "      <td>2020-08-01</td>\n",
       "      <td>52.73999</td>\n",
       "    </tr>\n",
       "    <tr>\n",
       "      <th>20</th>\n",
       "      <td>2020-09-01</td>\n",
       "      <td>35.57399</td>\n",
       "    </tr>\n",
       "    <tr>\n",
       "      <th>21</th>\n",
       "      <td>2020-10-01</td>\n",
       "      <td>23.42356</td>\n",
       "    </tr>\n",
       "    <tr>\n",
       "      <th>22</th>\n",
       "      <td>2020-11-01</td>\n",
       "      <td>47.62387</td>\n",
       "    </tr>\n",
       "    <tr>\n",
       "      <th>23</th>\n",
       "      <td>2020-12-01</td>\n",
       "      <td>81.61528</td>\n",
       "    </tr>\n",
       "    <tr>\n",
       "      <th>24</th>\n",
       "      <td>2021-01-01</td>\n",
       "      <td>37.07733</td>\n",
       "    </tr>\n",
       "    <tr>\n",
       "      <th>25</th>\n",
       "      <td>2021-02-01</td>\n",
       "      <td>20.45728</td>\n",
       "    </tr>\n",
       "    <tr>\n",
       "      <th>26</th>\n",
       "      <td>2021-03-01</td>\n",
       "      <td>14.39755</td>\n",
       "    </tr>\n",
       "    <tr>\n",
       "      <th>27</th>\n",
       "      <td>2021-04-01</td>\n",
       "      <td>19.21380</td>\n",
       "    </tr>\n",
       "    <tr>\n",
       "      <th>28</th>\n",
       "      <td>2021-05-01</td>\n",
       "      <td>9.99805</td>\n",
       "    </tr>\n",
       "    <tr>\n",
       "      <th>29</th>\n",
       "      <td>2021-06-01</td>\n",
       "      <td>8.71788</td>\n",
       "    </tr>\n",
       "    <tr>\n",
       "      <th>30</th>\n",
       "      <td>2021-07-01</td>\n",
       "      <td>36.83456</td>\n",
       "    </tr>\n",
       "    <tr>\n",
       "      <th>31</th>\n",
       "      <td>2021-08-01</td>\n",
       "      <td>20.62177</td>\n",
       "    </tr>\n",
       "    <tr>\n",
       "      <th>32</th>\n",
       "      <td>2021-09-01</td>\n",
       "      <td>13.09661</td>\n",
       "    </tr>\n",
       "    <tr>\n",
       "      <th>33</th>\n",
       "      <td>2021-10-01</td>\n",
       "      <td>9.05697</td>\n",
       "    </tr>\n",
       "    <tr>\n",
       "      <th>34</th>\n",
       "      <td>2021-11-01</td>\n",
       "      <td>12.63116</td>\n",
       "    </tr>\n",
       "    <tr>\n",
       "      <th>35</th>\n",
       "      <td>2021-12-01</td>\n",
       "      <td>22.38508</td>\n",
       "    </tr>\n",
       "    <tr>\n",
       "      <th>36</th>\n",
       "      <td>2022-01-01</td>\n",
       "      <td>13.51088</td>\n",
       "    </tr>\n",
       "    <tr>\n",
       "      <th>37</th>\n",
       "      <td>2022-02-01</td>\n",
       "      <td>26.84879</td>\n",
       "    </tr>\n",
       "  </tbody>\n",
       "</table>\n",
       "</div>"
      ],
      "text/plain": [
       "        period      ratio\n",
       "0   2019-01-01    0.02654\n",
       "1   2019-02-01    0.02146\n",
       "2   2019-03-01    0.02302\n",
       "3   2019-04-01    0.02953\n",
       "4   2019-05-01    0.02615\n",
       "5   2019-06-01    0.03197\n",
       "6   2019-07-01    0.03305\n",
       "7   2019-08-01    0.03023\n",
       "8   2019-09-01    0.03079\n",
       "9   2019-10-01    0.02642\n",
       "10  2019-11-01    0.02381\n",
       "11  2019-12-01    0.02353\n",
       "12  2020-01-01    2.20883\n",
       "13  2020-02-01   84.25142\n",
       "14  2020-03-01  100.00000\n",
       "15  2020-04-01   40.21097\n",
       "16  2020-05-01   35.67645\n",
       "17  2020-06-01   21.38294\n",
       "18  2020-07-01   15.14822\n",
       "19  2020-08-01   52.73999\n",
       "20  2020-09-01   35.57399\n",
       "21  2020-10-01   23.42356\n",
       "22  2020-11-01   47.62387\n",
       "23  2020-12-01   81.61528\n",
       "24  2021-01-01   37.07733\n",
       "25  2021-02-01   20.45728\n",
       "26  2021-03-01   14.39755\n",
       "27  2021-04-01   19.21380\n",
       "28  2021-05-01    9.99805\n",
       "29  2021-06-01    8.71788\n",
       "30  2021-07-01   36.83456\n",
       "31  2021-08-01   20.62177\n",
       "32  2021-09-01   13.09661\n",
       "33  2021-10-01    9.05697\n",
       "34  2021-11-01   12.63116\n",
       "35  2021-12-01   22.38508\n",
       "36  2022-01-01   13.51088\n",
       "37  2022-02-01   26.84879"
      ]
     },
     "execution_count": 43,
     "metadata": {},
     "output_type": "execute_result"
    }
   ],
   "source": [
    "import pandas as pd\n",
    "pd.json_normalize(result_json['results'][0]['data'])"
   ]
  }
 ],
 "metadata": {
  "kernelspec": {
   "display_name": "Python 3",
   "language": "python",
   "name": "python3"
  },
  "language_info": {
   "codemirror_mode": {
    "name": "ipython",
    "version": 3
   },
   "file_extension": ".py",
   "mimetype": "text/x-python",
   "name": "python",
   "nbconvert_exporter": "python",
   "pygments_lexer": "ipython3",
   "version": "3.8.8"
  }
 },
 "nbformat": 4,
 "nbformat_minor": 5
}
