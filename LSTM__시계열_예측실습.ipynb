{
  "nbformat": 4,
  "nbformat_minor": 0,
  "metadata": {
    "colab": {
      "name": "LSTM _시계열_예측실습.ipynb",
      "provenance": [],
      "mount_file_id": "1r5cadXPuxIkds9hs_kOxgdQZhAMTjEno",
      "authorship_tag": "ABX9TyMjtQLFE7G/8GWzxShroxmV",
      "include_colab_link": true
    },
    "kernelspec": {
      "name": "python3",
      "display_name": "Python 3"
    },
    "language_info": {
      "name": "python"
    }
  },
  "cells": [
    {
      "cell_type": "markdown",
      "metadata": {
        "id": "view-in-github",
        "colab_type": "text"
      },
      "source": [
        "<a href=\"https://colab.research.google.com/github/SeongwonTak/Data_Practices/blob/master/LSTM__%EC%8B%9C%EA%B3%84%EC%97%B4_%EC%98%88%EC%B8%A1%EC%8B%A4%EC%8A%B5.ipynb\" target=\"_parent\"><img src=\"https://colab.research.google.com/assets/colab-badge.svg\" alt=\"Open In Colab\"/></a>"
      ]
    },
    {
      "cell_type": "markdown",
      "metadata": {
        "id": "fCpFhLO0mfYt"
      },
      "source": [
        "# LSTM을 통한 예측(시계열 예측 실습)\n",
        "LSTM을 통한 시계열 분석을 통한 예측 실습  \n",
        "**서울의 기온 예측하기**  \n",
        "데이처 출처 : https://data.kma.go.kr/stcs/grnd/grndTaList.do?pgmNo=70"
      ]
    },
    {
      "cell_type": "code",
      "metadata": {
        "id": "XS8cD6RG3zEO"
      },
      "source": [
        "import numpy as np\n",
        "import pandas as pd\n",
        "from sklearn.preprocessing import MinMaxScaler\n",
        "from sklearn.metrics import mean_squared_error\n",
        "import seaborn as sns\n",
        "import matplotlib.pyplot as plt\n",
        "from torch import nn, optim"
      ],
      "execution_count": 1,
      "outputs": []
    },
    {
      "cell_type": "code",
      "metadata": {
        "colab": {
          "base_uri": "https://localhost:8080/",
          "height": 419
        },
        "id": "OMXSNwhKtZJh",
        "outputId": "da8cc70b-7949-4250-cb6d-578a18cf07f9"
      },
      "source": [
        "df = pd.read_csv('./drive/MyDrive/Colab Notebooks/seoul_temp_csv.csv')\n",
        "df"
      ],
      "execution_count": 2,
      "outputs": [
        {
          "output_type": "execute_result",
          "data": {
            "text/html": [
              "<div>\n",
              "<style scoped>\n",
              "    .dataframe tbody tr th:only-of-type {\n",
              "        vertical-align: middle;\n",
              "    }\n",
              "\n",
              "    .dataframe tbody tr th {\n",
              "        vertical-align: top;\n",
              "    }\n",
              "\n",
              "    .dataframe thead th {\n",
              "        text-align: right;\n",
              "    }\n",
              "</style>\n",
              "<table border=\"1\" class=\"dataframe\">\n",
              "  <thead>\n",
              "    <tr style=\"text-align: right;\">\n",
              "      <th></th>\n",
              "      <th>Date</th>\n",
              "      <th>avg_temp</th>\n",
              "      <th>min_temp</th>\n",
              "      <th>max_temp</th>\n",
              "    </tr>\n",
              "  </thead>\n",
              "  <tbody>\n",
              "    <tr>\n",
              "      <th>0</th>\n",
              "      <td>2020-01-01</td>\n",
              "      <td>-2.2</td>\n",
              "      <td>-6.5</td>\n",
              "      <td>0.3</td>\n",
              "    </tr>\n",
              "    <tr>\n",
              "      <th>1</th>\n",
              "      <td>2020-01-02</td>\n",
              "      <td>1.0</td>\n",
              "      <td>-0.7</td>\n",
              "      <td>3.8</td>\n",
              "    </tr>\n",
              "    <tr>\n",
              "      <th>2</th>\n",
              "      <td>2020-01-03</td>\n",
              "      <td>-0.1</td>\n",
              "      <td>-3.4</td>\n",
              "      <td>4.6</td>\n",
              "    </tr>\n",
              "    <tr>\n",
              "      <th>3</th>\n",
              "      <td>2020-01-04</td>\n",
              "      <td>1.2</td>\n",
              "      <td>-2.8</td>\n",
              "      <td>6.1</td>\n",
              "    </tr>\n",
              "    <tr>\n",
              "      <th>4</th>\n",
              "      <td>2020-01-05</td>\n",
              "      <td>1.3</td>\n",
              "      <td>-3.2</td>\n",
              "      <td>6.6</td>\n",
              "    </tr>\n",
              "    <tr>\n",
              "      <th>...</th>\n",
              "      <td>...</td>\n",
              "      <td>...</td>\n",
              "      <td>...</td>\n",
              "      <td>...</td>\n",
              "    </tr>\n",
              "    <tr>\n",
              "      <th>594</th>\n",
              "      <td>2021-08-17</td>\n",
              "      <td>25.9</td>\n",
              "      <td>21.9</td>\n",
              "      <td>31.3</td>\n",
              "    </tr>\n",
              "    <tr>\n",
              "      <th>595</th>\n",
              "      <td>2021-08-18</td>\n",
              "      <td>24.3</td>\n",
              "      <td>20.6</td>\n",
              "      <td>31.0</td>\n",
              "    </tr>\n",
              "    <tr>\n",
              "      <th>596</th>\n",
              "      <td>2021-08-19</td>\n",
              "      <td>26.0</td>\n",
              "      <td>21.0</td>\n",
              "      <td>31.5</td>\n",
              "    </tr>\n",
              "    <tr>\n",
              "      <th>597</th>\n",
              "      <td>2021-08-20</td>\n",
              "      <td>26.6</td>\n",
              "      <td>22.6</td>\n",
              "      <td>30.7</td>\n",
              "    </tr>\n",
              "    <tr>\n",
              "      <th>598</th>\n",
              "      <td>2021-08-21</td>\n",
              "      <td>23.8</td>\n",
              "      <td>21.0</td>\n",
              "      <td>25.5</td>\n",
              "    </tr>\n",
              "  </tbody>\n",
              "</table>\n",
              "<p>599 rows × 4 columns</p>\n",
              "</div>"
            ],
            "text/plain": [
              "           Date  avg_temp  min_temp  max_temp\n",
              "0    2020-01-01      -2.2      -6.5       0.3\n",
              "1    2020-01-02       1.0      -0.7       3.8\n",
              "2    2020-01-03      -0.1      -3.4       4.6\n",
              "3    2020-01-04       1.2      -2.8       6.1\n",
              "4    2020-01-05       1.3      -3.2       6.6\n",
              "..          ...       ...       ...       ...\n",
              "594  2021-08-17      25.9      21.9      31.3\n",
              "595  2021-08-18      24.3      20.6      31.0\n",
              "596  2021-08-19      26.0      21.0      31.5\n",
              "597  2021-08-20      26.6      22.6      30.7\n",
              "598  2021-08-21      23.8      21.0      25.5\n",
              "\n",
              "[599 rows x 4 columns]"
            ]
          },
          "metadata": {},
          "execution_count": 2
        }
      ]
    },
    {
      "cell_type": "code",
      "metadata": {
        "colab": {
          "base_uri": "https://localhost:8080/",
          "height": 450
        },
        "id": "RLhzqUwJvZeA",
        "outputId": "28566823-78f2-41a8-e079-bc86885876d1"
      },
      "source": [
        "df = df.set_index('Date', drop = True)\n",
        "df"
      ],
      "execution_count": 3,
      "outputs": [
        {
          "output_type": "execute_result",
          "data": {
            "text/html": [
              "<div>\n",
              "<style scoped>\n",
              "    .dataframe tbody tr th:only-of-type {\n",
              "        vertical-align: middle;\n",
              "    }\n",
              "\n",
              "    .dataframe tbody tr th {\n",
              "        vertical-align: top;\n",
              "    }\n",
              "\n",
              "    .dataframe thead th {\n",
              "        text-align: right;\n",
              "    }\n",
              "</style>\n",
              "<table border=\"1\" class=\"dataframe\">\n",
              "  <thead>\n",
              "    <tr style=\"text-align: right;\">\n",
              "      <th></th>\n",
              "      <th>avg_temp</th>\n",
              "      <th>min_temp</th>\n",
              "      <th>max_temp</th>\n",
              "    </tr>\n",
              "    <tr>\n",
              "      <th>Date</th>\n",
              "      <th></th>\n",
              "      <th></th>\n",
              "      <th></th>\n",
              "    </tr>\n",
              "  </thead>\n",
              "  <tbody>\n",
              "    <tr>\n",
              "      <th>2020-01-01</th>\n",
              "      <td>-2.2</td>\n",
              "      <td>-6.5</td>\n",
              "      <td>0.3</td>\n",
              "    </tr>\n",
              "    <tr>\n",
              "      <th>2020-01-02</th>\n",
              "      <td>1.0</td>\n",
              "      <td>-0.7</td>\n",
              "      <td>3.8</td>\n",
              "    </tr>\n",
              "    <tr>\n",
              "      <th>2020-01-03</th>\n",
              "      <td>-0.1</td>\n",
              "      <td>-3.4</td>\n",
              "      <td>4.6</td>\n",
              "    </tr>\n",
              "    <tr>\n",
              "      <th>2020-01-04</th>\n",
              "      <td>1.2</td>\n",
              "      <td>-2.8</td>\n",
              "      <td>6.1</td>\n",
              "    </tr>\n",
              "    <tr>\n",
              "      <th>2020-01-05</th>\n",
              "      <td>1.3</td>\n",
              "      <td>-3.2</td>\n",
              "      <td>6.6</td>\n",
              "    </tr>\n",
              "    <tr>\n",
              "      <th>...</th>\n",
              "      <td>...</td>\n",
              "      <td>...</td>\n",
              "      <td>...</td>\n",
              "    </tr>\n",
              "    <tr>\n",
              "      <th>2021-08-17</th>\n",
              "      <td>25.9</td>\n",
              "      <td>21.9</td>\n",
              "      <td>31.3</td>\n",
              "    </tr>\n",
              "    <tr>\n",
              "      <th>2021-08-18</th>\n",
              "      <td>24.3</td>\n",
              "      <td>20.6</td>\n",
              "      <td>31.0</td>\n",
              "    </tr>\n",
              "    <tr>\n",
              "      <th>2021-08-19</th>\n",
              "      <td>26.0</td>\n",
              "      <td>21.0</td>\n",
              "      <td>31.5</td>\n",
              "    </tr>\n",
              "    <tr>\n",
              "      <th>2021-08-20</th>\n",
              "      <td>26.6</td>\n",
              "      <td>22.6</td>\n",
              "      <td>30.7</td>\n",
              "    </tr>\n",
              "    <tr>\n",
              "      <th>2021-08-21</th>\n",
              "      <td>23.8</td>\n",
              "      <td>21.0</td>\n",
              "      <td>25.5</td>\n",
              "    </tr>\n",
              "  </tbody>\n",
              "</table>\n",
              "<p>599 rows × 3 columns</p>\n",
              "</div>"
            ],
            "text/plain": [
              "            avg_temp  min_temp  max_temp\n",
              "Date                                    \n",
              "2020-01-01      -2.2      -6.5       0.3\n",
              "2020-01-02       1.0      -0.7       3.8\n",
              "2020-01-03      -0.1      -3.4       4.6\n",
              "2020-01-04       1.2      -2.8       6.1\n",
              "2020-01-05       1.3      -3.2       6.6\n",
              "...              ...       ...       ...\n",
              "2021-08-17      25.9      21.9      31.3\n",
              "2021-08-18      24.3      20.6      31.0\n",
              "2021-08-19      26.0      21.0      31.5\n",
              "2021-08-20      26.6      22.6      30.7\n",
              "2021-08-21      23.8      21.0      25.5\n",
              "\n",
              "[599 rows x 3 columns]"
            ]
          },
          "metadata": {},
          "execution_count": 3
        }
      ]
    },
    {
      "cell_type": "markdown",
      "metadata": {
        "id": "-BHBkgJSunaK"
      },
      "source": [
        "## 데이터 탐색"
      ]
    },
    {
      "cell_type": "code",
      "metadata": {
        "colab": {
          "base_uri": "https://localhost:8080/"
        },
        "id": "Tt42yq3uudLj",
        "outputId": "6c004efb-ed48-4902-f2eb-43e710f2a491"
      },
      "source": [
        "df.isna().sum()"
      ],
      "execution_count": 4,
      "outputs": [
        {
          "output_type": "execute_result",
          "data": {
            "text/plain": [
              "avg_temp    0\n",
              "min_temp    0\n",
              "max_temp    0\n",
              "dtype: int64"
            ]
          },
          "metadata": {},
          "execution_count": 4
        }
      ]
    },
    {
      "cell_type": "code",
      "metadata": {
        "colab": {
          "base_uri": "https://localhost:8080/",
          "height": 279
        },
        "id": "cycAAdxcuwIh",
        "outputId": "4be681a3-5c29-439c-db85-1af2991edbb6"
      },
      "source": [
        "sns.lineplot(x = 'Date', y = 'avg_temp', data = df, label = 'avg_temp')\n",
        "sns.lineplot(x = 'Date', y = 'min_temp', data = df, label = 'min_temp')\n",
        "sns.lineplot(x = 'Date', y = 'max_temp', data = df, label = 'max_temp')\n",
        "plt.legend()\n",
        "plt.xticks([0, 150, 300, 450, 598])\n",
        "plt.show()"
      ],
      "execution_count": 5,
      "outputs": [
        {
          "output_type": "display_data",
          "data": {
            "image/png": "[encoded data removed]",
            "text/plain": [
              "<Figure size 432x288 with 1 Axes>"
            ]
          },
          "metadata": {
            "needs_background": "light"
          }
        }
      ]
    },
    {
      "cell_type": "markdown",
      "metadata": {
        "id": "aISDK9TSxZz6"
      },
      "source": [
        "**목표**\n",
        "\n",
        "2020/01/01 ~ 2021/07/31의 최소 온도와, 최대 온도를 바탕으로 \n",
        "2021/08/01 ~ 2021/08/31의 평균 온도를 예측하는 모델을 만들어보고자 한다."
      ]
    },
    {
      "cell_type": "markdown",
      "metadata": {
        "id": "xvumtr4pxk7w"
      },
      "source": [
        "## LSTM Model"
      ]
    },
    {
      "cell_type": "code",
      "metadata": {
        "id": "-7OK2VuLu4vt"
      },
      "source": [
        "X = df[['min_temp', 'max_temp']]\n",
        "y = df['avg_temp']\n",
        "\n",
        "\n",
        "# 스케일링은 최대와 최소의 범주를 확인할 수 있는, Min-Max를 활용한다.\n",
        "scaler = MinMaxScaler()\n",
        "Xscaler = scaler.fit(X)\n",
        "yscaler = scaler.fit(y.values.reshape(-1, 1))\n",
        "\n",
        "X = Xscaler.transform(X)\n",
        "y = yscaler.transform(y.values.reshape(-1, 1))\n",
        "\n",
        "\n",
        "# 8/1 ~ 8/21 데이터에 대해서 분리해야 한다.\n",
        "test_data_size = 21\n",
        "X_train, X_test = X[:-test_data_size], X[-test_data_size:]\n",
        "y_train, y_test = y[:-test_data_size], y[-test_data_size:]"
      ],
      "execution_count": 6,
      "outputs": []
    },
    {
      "cell_type": "code",
      "metadata": {
        "id": "HiPVBe9pzZ4-"
      },
      "source": [
        "# LSTM을 위해서는 시퀀스 데이터 형태로 바꿔줘야 한다. 이를 위한 작업을 실시.\n",
        "\n",
        "def get_seq(array, seq_length):\n",
        "  seq = []\n",
        "  for i in range(len(array)-(seq_length-1)):\n",
        "    seq.append(array[i:(i+seq_length)])\n",
        "  \n",
        "  return seq"
      ],
      "execution_count": 7,
      "outputs": []
    },
    {
      "cell_type": "code",
      "metadata": {
        "id": "wLoQ0hnL077_"
      },
      "source": [
        "seq_length = 1\n",
        "\n",
        "X_train = get_seq(X_train, seq_length)\n",
        "X_test = get_seq(X_test, seq_length)\n",
        "y_train = get_seq(y_train, seq_length)\n",
        "y_test = get_seq(y_test, seq_length)"
      ],
      "execution_count": 8,
      "outputs": []
    },
    {
      "cell_type": "code",
      "metadata": {
        "id": "qKHXlOjy1LwC"
      },
      "source": [
        "# 현재는 numpy 이므로 torch에서 사용 가능한 tensor 형태로 변환한다.\n",
        "import torch\n",
        "X_train = torch.tensor(X_train).float()\n",
        "X_test = torch.tensor(X_test).float()\n",
        "y_train = torch.tensor(y_train).float()\n",
        "y_test = torch.tensor(y_test).float()"
      ],
      "execution_count": 9,
      "outputs": []
    },
    {
      "cell_type": "code",
      "metadata": {
        "id": "begAXpSm41pb"
      },
      "source": [
        "class TempPredictor(nn.Module):\n",
        "  def __init__(self, num_classes, input_size, hidden_size, num_layers, seq_length):\n",
        "    super(TempPredictor, self).__init__()\n",
        "    self.num_classes = num_classes\n",
        "    self.num_layers = num_layers\n",
        "    self.input_size = input_size\n",
        "    self.hidden_size = hidden_size\n",
        "    self.seq_length = seq_length\n",
        "\n",
        "    self.lstm = nn.LSTM(input_size = input_size, hidden_size = hidden_size,\n",
        "                        num_layers = num_layers, batch_first = True)\n",
        "    self.fc = nn.Linear(hidden_size, num_classes)\n",
        "\n",
        "  def forward(self, x):\n",
        "    h_0 = torch.zeros(self.num_layers, x.size(0), self.hidden_size)\n",
        "    c_0 = torch.zeros(self.num_layers, x.size(0), self.hidden_size)\n",
        "\n",
        "    output, (h_n, c_n) = self.lstm(x, (h_0, c_0))\n",
        "    h_n = h_n.view(-1, self.hidden_size)\n",
        "    out = self.fc(h_n)\n",
        "\n",
        "    return out"
      ],
      "execution_count": 101,
      "outputs": []
    },
    {
      "cell_type": "code",
      "metadata": {
        "id": "vf0khLMa6jPQ"
      },
      "source": [
        "num_epochs = 500\n",
        "learning_rate = 0.001\n",
        "\n",
        "input_size = 2\n",
        "hidden_size = 128\n",
        "num_layers = 1\n",
        "num_classes = 1\n",
        "\n",
        "model = TempPredictor(num_classes, input_size, hidden_size, num_layers, X_train)\n",
        "\n",
        "loss_ftn = torch.nn.MSELoss()\n",
        "optimizer = torch.optim.Adam(model.parameters(), lr = learning_rate)"
      ],
      "execution_count": 106,
      "outputs": []
    },
    {
      "cell_type": "code",
      "metadata": {
        "colab": {
          "base_uri": "https://localhost:8080/"
        },
        "id": "1mvOEvoo7DhN",
        "outputId": "a33b7f6f-2d82-4d93-a1e1-166b24330938"
      },
      "source": [
        "y_train_resize = y_train.view([-1, 1])\n",
        "\n",
        "for epoch in range(num_epochs):\n",
        "  outputs = model.forward(X_train)\n",
        "  optimizer.zero_grad()\n",
        "\n",
        "  loss = loss_ftn(outputs, y_train_resize)\n",
        "  loss.backward()\n",
        "\n",
        "  optimizer.step()\n",
        "  if epoch % 100 == 0:\n",
        "    print('Epoch : %d, loss : %2.5f' % (epoch, loss.item()))"
      ],
      "execution_count": 107,
      "outputs": [
        {
          "output_type": "stream",
          "text": [
            "Epoch : 0, loss : 0.45451\n",
            "Epoch : 100, loss : 0.01453\n",
            "Epoch : 200, loss : 0.00636\n",
            "Epoch : 300, loss : 0.00075\n",
            "Epoch : 400, loss : 0.00024\n"
          ],
          "name": "stdout"
        }
      ]
    },
    {
      "cell_type": "code",
      "metadata": {
        "id": "CSRjxded7gqJ"
      },
      "source": [
        "y_pred = model(X_test)"
      ],
      "execution_count": 108,
      "outputs": []
    },
    {
      "cell_type": "code",
      "metadata": {
        "colab": {
          "base_uri": "https://localhost:8080/"
        },
        "id": "e5TF8akQ9ITq",
        "outputId": "4a150e8d-a39f-44b8-f4be-be2a16ca13dd"
      },
      "source": [
        "y_pred"
      ],
      "execution_count": 109,
      "outputs": [
        {
          "output_type": "execute_result",
          "data": {
            "text/plain": [
              "tensor([[0.9018],\n",
              "        [0.8984],\n",
              "        [0.9173],\n",
              "        [0.9650],\n",
              "        [0.9615],\n",
              "        [0.9502],\n",
              "        [0.9181],\n",
              "        [0.9287],\n",
              "        [0.9310],\n",
              "        [0.9285],\n",
              "        [0.9194],\n",
              "        [0.9193],\n",
              "        [0.8943],\n",
              "        [0.8987],\n",
              "        [0.8976],\n",
              "        [0.9121],\n",
              "        [0.8883],\n",
              "        [0.8687],\n",
              "        [0.8791],\n",
              "        [0.8907],\n",
              "        [0.8151]], grad_fn=<AddmmBackward>)"
            ]
          },
          "metadata": {},
          "execution_count": 109
        }
      ]
    },
    {
      "cell_type": "code",
      "metadata": {
        "id": "dNuKTxg5-Pqb"
      },
      "source": [
        "y_pred = yscaler.inverse_transform(y_pred.data.numpy())"
      ],
      "execution_count": 110,
      "outputs": []
    },
    {
      "cell_type": "code",
      "metadata": {
        "colab": {
          "base_uri": "https://localhost:8080/"
        },
        "id": "wudzTtun_MQx",
        "outputId": "efd68690-1b8f-4a6f-d2aa-27bafcba214c"
      },
      "source": [
        "y_pred"
      ],
      "execution_count": 111,
      "outputs": [
        {
          "output_type": "execute_result",
          "data": {
            "text/plain": [
              "array([[27.124367],\n",
              "       [26.964771],\n",
              "       [27.845081],\n",
              "       [30.067654],\n",
              "       [29.90487 ],\n",
              "       [29.378983],\n",
              "       [27.885399],\n",
              "       [28.37709 ],\n",
              "       [28.48414 ],\n",
              "       [28.368416],\n",
              "       [27.946175],\n",
              "       [27.937502],\n",
              "       [26.77641 ],\n",
              "       [26.977587],\n",
              "       [26.930464],\n",
              "       [27.604994],\n",
              "       [26.495564],\n",
              "       [25.581043],\n",
              "       [26.066166],\n",
              "       [26.606588],\n",
              "       [23.084902]], dtype=float32)"
            ]
          },
          "metadata": {},
          "execution_count": 111
        }
      ]
    },
    {
      "cell_type": "code",
      "metadata": {
        "colab": {
          "base_uri": "https://localhost:8080/",
          "height": 450
        },
        "id": "AiItdIE-_k-N",
        "outputId": "727dc23b-cae2-4097-ab4c-9b1a309ad38e"
      },
      "source": [
        "df"
      ],
      "execution_count": 113,
      "outputs": [
        {
          "output_type": "execute_result",
          "data": {
            "text/html": [
              "<div>\n",
              "<style scoped>\n",
              "    .dataframe tbody tr th:only-of-type {\n",
              "        vertical-align: middle;\n",
              "    }\n",
              "\n",
              "    .dataframe tbody tr th {\n",
              "        vertical-align: top;\n",
              "    }\n",
              "\n",
              "    .dataframe thead th {\n",
              "        text-align: right;\n",
              "    }\n",
              "</style>\n",
              "<table border=\"1\" class=\"dataframe\">\n",
              "  <thead>\n",
              "    <tr style=\"text-align: right;\">\n",
              "      <th></th>\n",
              "      <th>avg_temp</th>\n",
              "      <th>min_temp</th>\n",
              "      <th>max_temp</th>\n",
              "    </tr>\n",
              "    <tr>\n",
              "      <th>Date</th>\n",
              "      <th></th>\n",
              "      <th></th>\n",
              "      <th></th>\n",
              "    </tr>\n",
              "  </thead>\n",
              "  <tbody>\n",
              "    <tr>\n",
              "      <th>2020-01-01</th>\n",
              "      <td>-2.2</td>\n",
              "      <td>-6.5</td>\n",
              "      <td>0.3</td>\n",
              "    </tr>\n",
              "    <tr>\n",
              "      <th>2020-01-02</th>\n",
              "      <td>1.0</td>\n",
              "      <td>-0.7</td>\n",
              "      <td>3.8</td>\n",
              "    </tr>\n",
              "    <tr>\n",
              "      <th>2020-01-03</th>\n",
              "      <td>-0.1</td>\n",
              "      <td>-3.4</td>\n",
              "      <td>4.6</td>\n",
              "    </tr>\n",
              "    <tr>\n",
              "      <th>2020-01-04</th>\n",
              "      <td>1.2</td>\n",
              "      <td>-2.8</td>\n",
              "      <td>6.1</td>\n",
              "    </tr>\n",
              "    <tr>\n",
              "      <th>2020-01-05</th>\n",
              "      <td>1.3</td>\n",
              "      <td>-3.2</td>\n",
              "      <td>6.6</td>\n",
              "    </tr>\n",
              "    <tr>\n",
              "      <th>...</th>\n",
              "      <td>...</td>\n",
              "      <td>...</td>\n",
              "      <td>...</td>\n",
              "    </tr>\n",
              "    <tr>\n",
              "      <th>2021-08-17</th>\n",
              "      <td>25.9</td>\n",
              "      <td>21.9</td>\n",
              "      <td>31.3</td>\n",
              "    </tr>\n",
              "    <tr>\n",
              "      <th>2021-08-18</th>\n",
              "      <td>24.3</td>\n",
              "      <td>20.6</td>\n",
              "      <td>31.0</td>\n",
              "    </tr>\n",
              "    <tr>\n",
              "      <th>2021-08-19</th>\n",
              "      <td>26.0</td>\n",
              "      <td>21.0</td>\n",
              "      <td>31.5</td>\n",
              "    </tr>\n",
              "    <tr>\n",
              "      <th>2021-08-20</th>\n",
              "      <td>26.6</td>\n",
              "      <td>22.6</td>\n",
              "      <td>30.7</td>\n",
              "    </tr>\n",
              "    <tr>\n",
              "      <th>2021-08-21</th>\n",
              "      <td>23.8</td>\n",
              "      <td>21.0</td>\n",
              "      <td>25.5</td>\n",
              "    </tr>\n",
              "  </tbody>\n",
              "</table>\n",
              "<p>599 rows × 3 columns</p>\n",
              "</div>"
            ],
            "text/plain": [
              "            avg_temp  min_temp  max_temp\n",
              "Date                                    \n",
              "2020-01-01      -2.2      -6.5       0.3\n",
              "2020-01-02       1.0      -0.7       3.8\n",
              "2020-01-03      -0.1      -3.4       4.6\n",
              "2020-01-04       1.2      -2.8       6.1\n",
              "2020-01-05       1.3      -3.2       6.6\n",
              "...              ...       ...       ...\n",
              "2021-08-17      25.9      21.9      31.3\n",
              "2021-08-18      24.3      20.6      31.0\n",
              "2021-08-19      26.0      21.0      31.5\n",
              "2021-08-20      26.6      22.6      30.7\n",
              "2021-08-21      23.8      21.0      25.5\n",
              "\n",
              "[599 rows x 3 columns]"
            ]
          },
          "metadata": {},
          "execution_count": 113
        }
      ]
    },
    {
      "cell_type": "code",
      "metadata": {
        "colab": {
          "base_uri": "https://localhost:8080/",
          "height": 731
        },
        "id": "HizIfX4hF5wc",
        "outputId": "90b4bc1a-0139-4c41-d1f3-486db4e6fb26"
      },
      "source": [
        "df_cut = df.iloc[578:599,:]\n",
        "df_cut"
      ],
      "execution_count": 121,
      "outputs": [
        {
          "output_type": "execute_result",
          "data": {
            "text/html": [
              "<div>\n",
              "<style scoped>\n",
              "    .dataframe tbody tr th:only-of-type {\n",
              "        vertical-align: middle;\n",
              "    }\n",
              "\n",
              "    .dataframe tbody tr th {\n",
              "        vertical-align: top;\n",
              "    }\n",
              "\n",
              "    .dataframe thead th {\n",
              "        text-align: right;\n",
              "    }\n",
              "</style>\n",
              "<table border=\"1\" class=\"dataframe\">\n",
              "  <thead>\n",
              "    <tr style=\"text-align: right;\">\n",
              "      <th></th>\n",
              "      <th>avg_temp</th>\n",
              "      <th>min_temp</th>\n",
              "      <th>max_temp</th>\n",
              "    </tr>\n",
              "    <tr>\n",
              "      <th>Date</th>\n",
              "      <th></th>\n",
              "      <th></th>\n",
              "      <th></th>\n",
              "    </tr>\n",
              "  </thead>\n",
              "  <tbody>\n",
              "    <tr>\n",
              "      <th>2021-08-01</th>\n",
              "      <td>27.1</td>\n",
              "      <td>25.1</td>\n",
              "      <td>28.8</td>\n",
              "    </tr>\n",
              "    <tr>\n",
              "      <th>2021-08-02</th>\n",
              "      <td>26.5</td>\n",
              "      <td>25.0</td>\n",
              "      <td>28.6</td>\n",
              "    </tr>\n",
              "    <tr>\n",
              "      <th>2021-08-03</th>\n",
              "      <td>28.0</td>\n",
              "      <td>24.1</td>\n",
              "      <td>31.4</td>\n",
              "    </tr>\n",
              "    <tr>\n",
              "      <th>2021-08-04</th>\n",
              "      <td>28.9</td>\n",
              "      <td>26.3</td>\n",
              "      <td>33.2</td>\n",
              "    </tr>\n",
              "    <tr>\n",
              "      <th>2021-08-05</th>\n",
              "      <td>29.4</td>\n",
              "      <td>25.6</td>\n",
              "      <td>33.7</td>\n",
              "    </tr>\n",
              "    <tr>\n",
              "      <th>2021-08-06</th>\n",
              "      <td>28.1</td>\n",
              "      <td>26.0</td>\n",
              "      <td>32.2</td>\n",
              "    </tr>\n",
              "    <tr>\n",
              "      <th>2021-08-07</th>\n",
              "      <td>28.0</td>\n",
              "      <td>23.4</td>\n",
              "      <td>32.3</td>\n",
              "    </tr>\n",
              "    <tr>\n",
              "      <th>2021-08-08</th>\n",
              "      <td>26.8</td>\n",
              "      <td>24.4</td>\n",
              "      <td>32.1</td>\n",
              "    </tr>\n",
              "    <tr>\n",
              "      <th>2021-08-09</th>\n",
              "      <td>28.3</td>\n",
              "      <td>23.3</td>\n",
              "      <td>33.6</td>\n",
              "    </tr>\n",
              "    <tr>\n",
              "      <th>2021-08-10</th>\n",
              "      <td>27.7</td>\n",
              "      <td>24.3</td>\n",
              "      <td>32.2</td>\n",
              "    </tr>\n",
              "    <tr>\n",
              "      <th>2021-08-11</th>\n",
              "      <td>27.4</td>\n",
              "      <td>24.1</td>\n",
              "      <td>31.6</td>\n",
              "    </tr>\n",
              "    <tr>\n",
              "      <th>2021-08-12</th>\n",
              "      <td>26.8</td>\n",
              "      <td>24.0</td>\n",
              "      <td>31.7</td>\n",
              "    </tr>\n",
              "    <tr>\n",
              "      <th>2021-08-13</th>\n",
              "      <td>26.6</td>\n",
              "      <td>23.4</td>\n",
              "      <td>30.1</td>\n",
              "    </tr>\n",
              "    <tr>\n",
              "      <th>2021-08-14</th>\n",
              "      <td>26.1</td>\n",
              "      <td>23.4</td>\n",
              "      <td>30.5</td>\n",
              "    </tr>\n",
              "    <tr>\n",
              "      <th>2021-08-15</th>\n",
              "      <td>26.9</td>\n",
              "      <td>21.7</td>\n",
              "      <td>32.4</td>\n",
              "    </tr>\n",
              "    <tr>\n",
              "      <th>2021-08-16</th>\n",
              "      <td>27.3</td>\n",
              "      <td>22.5</td>\n",
              "      <td>32.8</td>\n",
              "    </tr>\n",
              "    <tr>\n",
              "      <th>2021-08-17</th>\n",
              "      <td>25.9</td>\n",
              "      <td>21.9</td>\n",
              "      <td>31.3</td>\n",
              "    </tr>\n",
              "    <tr>\n",
              "      <th>2021-08-18</th>\n",
              "      <td>24.3</td>\n",
              "      <td>20.6</td>\n",
              "      <td>31.0</td>\n",
              "    </tr>\n",
              "    <tr>\n",
              "      <th>2021-08-19</th>\n",
              "      <td>26.0</td>\n",
              "      <td>21.0</td>\n",
              "      <td>31.5</td>\n",
              "    </tr>\n",
              "    <tr>\n",
              "      <th>2021-08-20</th>\n",
              "      <td>26.6</td>\n",
              "      <td>22.6</td>\n",
              "      <td>30.7</td>\n",
              "    </tr>\n",
              "    <tr>\n",
              "      <th>2021-08-21</th>\n",
              "      <td>23.8</td>\n",
              "      <td>21.0</td>\n",
              "      <td>25.5</td>\n",
              "    </tr>\n",
              "  </tbody>\n",
              "</table>\n",
              "</div>"
            ],
            "text/plain": [
              "            avg_temp  min_temp  max_temp\n",
              "Date                                    \n",
              "2021-08-01      27.1      25.1      28.8\n",
              "2021-08-02      26.5      25.0      28.6\n",
              "2021-08-03      28.0      24.1      31.4\n",
              "2021-08-04      28.9      26.3      33.2\n",
              "2021-08-05      29.4      25.6      33.7\n",
              "2021-08-06      28.1      26.0      32.2\n",
              "2021-08-07      28.0      23.4      32.3\n",
              "2021-08-08      26.8      24.4      32.1\n",
              "2021-08-09      28.3      23.3      33.6\n",
              "2021-08-10      27.7      24.3      32.2\n",
              "2021-08-11      27.4      24.1      31.6\n",
              "2021-08-12      26.8      24.0      31.7\n",
              "2021-08-13      26.6      23.4      30.1\n",
              "2021-08-14      26.1      23.4      30.5\n",
              "2021-08-15      26.9      21.7      32.4\n",
              "2021-08-16      27.3      22.5      32.8\n",
              "2021-08-17      25.9      21.9      31.3\n",
              "2021-08-18      24.3      20.6      31.0\n",
              "2021-08-19      26.0      21.0      31.5\n",
              "2021-08-20      26.6      22.6      30.7\n",
              "2021-08-21      23.8      21.0      25.5"
            ]
          },
          "metadata": {},
          "execution_count": 121
        }
      ]
    },
    {
      "cell_type": "code",
      "metadata": {
        "colab": {
          "base_uri": "https://localhost:8080/"
        },
        "id": "ZvUDJ6e6GQop",
        "outputId": "85f5a0d9-4d4d-44d2-f57f-9c80cff917e1"
      },
      "source": [
        "df_cut['y_pred'] = y_pred"
      ],
      "execution_count": 122,
      "outputs": [
        {
          "output_type": "stream",
          "text": [
            "/usr/local/lib/python3.7/dist-packages/ipykernel_launcher.py:1: SettingWithCopyWarning: \n",
            "A value is trying to be set on a copy of a slice from a DataFrame.\n",
            "Try using .loc[row_indexer,col_indexer] = value instead\n",
            "\n",
            "See the caveats in the documentation: https://pandas.pydata.org/pandas-docs/stable/user_guide/indexing.html#returning-a-view-versus-a-copy\n",
            "  \"\"\"Entry point for launching an IPython kernel.\n"
          ],
          "name": "stderr"
        }
      ]
    },
    {
      "cell_type": "code",
      "metadata": {
        "colab": {
          "base_uri": "https://localhost:8080/",
          "height": 731
        },
        "id": "xWDZ1GPBGzAi",
        "outputId": "1dc2b2f8-fb55-4991-c062-09da00ecfb9b"
      },
      "source": [
        "df_cut"
      ],
      "execution_count": 123,
      "outputs": [
        {
          "output_type": "execute_result",
          "data": {
            "text/html": [
              "<div>\n",
              "<style scoped>\n",
              "    .dataframe tbody tr th:only-of-type {\n",
              "        vertical-align: middle;\n",
              "    }\n",
              "\n",
              "    .dataframe tbody tr th {\n",
              "        vertical-align: top;\n",
              "    }\n",
              "\n",
              "    .dataframe thead th {\n",
              "        text-align: right;\n",
              "    }\n",
              "</style>\n",
              "<table border=\"1\" class=\"dataframe\">\n",
              "  <thead>\n",
              "    <tr style=\"text-align: right;\">\n",
              "      <th></th>\n",
              "      <th>avg_temp</th>\n",
              "      <th>min_temp</th>\n",
              "      <th>max_temp</th>\n",
              "      <th>y_pred</th>\n",
              "    </tr>\n",
              "    <tr>\n",
              "      <th>Date</th>\n",
              "      <th></th>\n",
              "      <th></th>\n",
              "      <th></th>\n",
              "      <th></th>\n",
              "    </tr>\n",
              "  </thead>\n",
              "  <tbody>\n",
              "    <tr>\n",
              "      <th>2021-08-01</th>\n",
              "      <td>27.1</td>\n",
              "      <td>25.1</td>\n",
              "      <td>28.8</td>\n",
              "      <td>27.124367</td>\n",
              "    </tr>\n",
              "    <tr>\n",
              "      <th>2021-08-02</th>\n",
              "      <td>26.5</td>\n",
              "      <td>25.0</td>\n",
              "      <td>28.6</td>\n",
              "      <td>26.964771</td>\n",
              "    </tr>\n",
              "    <tr>\n",
              "      <th>2021-08-03</th>\n",
              "      <td>28.0</td>\n",
              "      <td>24.1</td>\n",
              "      <td>31.4</td>\n",
              "      <td>27.845081</td>\n",
              "    </tr>\n",
              "    <tr>\n",
              "      <th>2021-08-04</th>\n",
              "      <td>28.9</td>\n",
              "      <td>26.3</td>\n",
              "      <td>33.2</td>\n",
              "      <td>30.067654</td>\n",
              "    </tr>\n",
              "    <tr>\n",
              "      <th>2021-08-05</th>\n",
              "      <td>29.4</td>\n",
              "      <td>25.6</td>\n",
              "      <td>33.7</td>\n",
              "      <td>29.904869</td>\n",
              "    </tr>\n",
              "    <tr>\n",
              "      <th>2021-08-06</th>\n",
              "      <td>28.1</td>\n",
              "      <td>26.0</td>\n",
              "      <td>32.2</td>\n",
              "      <td>29.378983</td>\n",
              "    </tr>\n",
              "    <tr>\n",
              "      <th>2021-08-07</th>\n",
              "      <td>28.0</td>\n",
              "      <td>23.4</td>\n",
              "      <td>32.3</td>\n",
              "      <td>27.885399</td>\n",
              "    </tr>\n",
              "    <tr>\n",
              "      <th>2021-08-08</th>\n",
              "      <td>26.8</td>\n",
              "      <td>24.4</td>\n",
              "      <td>32.1</td>\n",
              "      <td>28.377090</td>\n",
              "    </tr>\n",
              "    <tr>\n",
              "      <th>2021-08-09</th>\n",
              "      <td>28.3</td>\n",
              "      <td>23.3</td>\n",
              "      <td>33.6</td>\n",
              "      <td>28.484140</td>\n",
              "    </tr>\n",
              "    <tr>\n",
              "      <th>2021-08-10</th>\n",
              "      <td>27.7</td>\n",
              "      <td>24.3</td>\n",
              "      <td>32.2</td>\n",
              "      <td>28.368416</td>\n",
              "    </tr>\n",
              "    <tr>\n",
              "      <th>2021-08-11</th>\n",
              "      <td>27.4</td>\n",
              "      <td>24.1</td>\n",
              "      <td>31.6</td>\n",
              "      <td>27.946175</td>\n",
              "    </tr>\n",
              "    <tr>\n",
              "      <th>2021-08-12</th>\n",
              "      <td>26.8</td>\n",
              "      <td>24.0</td>\n",
              "      <td>31.7</td>\n",
              "      <td>27.937502</td>\n",
              "    </tr>\n",
              "    <tr>\n",
              "      <th>2021-08-13</th>\n",
              "      <td>26.6</td>\n",
              "      <td>23.4</td>\n",
              "      <td>30.1</td>\n",
              "      <td>26.776409</td>\n",
              "    </tr>\n",
              "    <tr>\n",
              "      <th>2021-08-14</th>\n",
              "      <td>26.1</td>\n",
              "      <td>23.4</td>\n",
              "      <td>30.5</td>\n",
              "      <td>26.977587</td>\n",
              "    </tr>\n",
              "    <tr>\n",
              "      <th>2021-08-15</th>\n",
              "      <td>26.9</td>\n",
              "      <td>21.7</td>\n",
              "      <td>32.4</td>\n",
              "      <td>26.930464</td>\n",
              "    </tr>\n",
              "    <tr>\n",
              "      <th>2021-08-16</th>\n",
              "      <td>27.3</td>\n",
              "      <td>22.5</td>\n",
              "      <td>32.8</td>\n",
              "      <td>27.604994</td>\n",
              "    </tr>\n",
              "    <tr>\n",
              "      <th>2021-08-17</th>\n",
              "      <td>25.9</td>\n",
              "      <td>21.9</td>\n",
              "      <td>31.3</td>\n",
              "      <td>26.495564</td>\n",
              "    </tr>\n",
              "    <tr>\n",
              "      <th>2021-08-18</th>\n",
              "      <td>24.3</td>\n",
              "      <td>20.6</td>\n",
              "      <td>31.0</td>\n",
              "      <td>25.581043</td>\n",
              "    </tr>\n",
              "    <tr>\n",
              "      <th>2021-08-19</th>\n",
              "      <td>26.0</td>\n",
              "      <td>21.0</td>\n",
              "      <td>31.5</td>\n",
              "      <td>26.066166</td>\n",
              "    </tr>\n",
              "    <tr>\n",
              "      <th>2021-08-20</th>\n",
              "      <td>26.6</td>\n",
              "      <td>22.6</td>\n",
              "      <td>30.7</td>\n",
              "      <td>26.606588</td>\n",
              "    </tr>\n",
              "    <tr>\n",
              "      <th>2021-08-21</th>\n",
              "      <td>23.8</td>\n",
              "      <td>21.0</td>\n",
              "      <td>25.5</td>\n",
              "      <td>23.084902</td>\n",
              "    </tr>\n",
              "  </tbody>\n",
              "</table>\n",
              "</div>"
            ],
            "text/plain": [
              "            avg_temp  min_temp  max_temp     y_pred\n",
              "Date                                               \n",
              "2021-08-01      27.1      25.1      28.8  27.124367\n",
              "2021-08-02      26.5      25.0      28.6  26.964771\n",
              "2021-08-03      28.0      24.1      31.4  27.845081\n",
              "2021-08-04      28.9      26.3      33.2  30.067654\n",
              "2021-08-05      29.4      25.6      33.7  29.904869\n",
              "2021-08-06      28.1      26.0      32.2  29.378983\n",
              "2021-08-07      28.0      23.4      32.3  27.885399\n",
              "2021-08-08      26.8      24.4      32.1  28.377090\n",
              "2021-08-09      28.3      23.3      33.6  28.484140\n",
              "2021-08-10      27.7      24.3      32.2  28.368416\n",
              "2021-08-11      27.4      24.1      31.6  27.946175\n",
              "2021-08-12      26.8      24.0      31.7  27.937502\n",
              "2021-08-13      26.6      23.4      30.1  26.776409\n",
              "2021-08-14      26.1      23.4      30.5  26.977587\n",
              "2021-08-15      26.9      21.7      32.4  26.930464\n",
              "2021-08-16      27.3      22.5      32.8  27.604994\n",
              "2021-08-17      25.9      21.9      31.3  26.495564\n",
              "2021-08-18      24.3      20.6      31.0  25.581043\n",
              "2021-08-19      26.0      21.0      31.5  26.066166\n",
              "2021-08-20      26.6      22.6      30.7  26.606588\n",
              "2021-08-21      23.8      21.0      25.5  23.084902"
            ]
          },
          "metadata": {},
          "execution_count": 123
        }
      ]
    },
    {
      "cell_type": "markdown",
      "metadata": {
        "id": "-9J8YkIrG6m-"
      },
      "source": [
        "## 결과 평가"
      ]
    },
    {
      "cell_type": "code",
      "metadata": {
        "colab": {
          "base_uri": "https://localhost:8080/"
        },
        "id": "K9eiAlsjG3Ff",
        "outputId": "dfaefef8-93b8-445a-97a0-622fb6d88db9"
      },
      "source": [
        "from sklearn.metrics import mean_squared_error\n",
        "mean_squared_error(df_cut.avg_temp, df_cut.y_pred)"
      ],
      "execution_count": 124,
      "outputs": [
        {
          "output_type": "execute_result",
          "data": {
            "text/plain": [
              "0.5464164237733138"
            ]
          },
          "metadata": {},
          "execution_count": 124
        }
      ]
    },
    {
      "cell_type": "code",
      "metadata": {
        "colab": {
          "base_uri": "https://localhost:8080/",
          "height": 279
        },
        "id": "o6rQngdzHNem",
        "outputId": "a9d59cce-196b-4713-e4e7-d45d41869542"
      },
      "source": [
        "sns.lineplot(x = 'Date', y = 'avg_temp', data = df_cut, label = 'avg_true')\n",
        "sns.lineplot(x = 'Date', y = 'y_pred', data = df_cut, label = 'avg_pred')\n",
        "plt.legend()\n",
        "plt.xticks([0, 5, 10, 15, 20])\n",
        "plt.show()"
      ],
      "execution_count": 125,
      "outputs": [
        {
          "output_type": "display_data",
          "data": {
            "image/png": "[encoded data removed]",
            "text/plain": [
              "<Figure size 432x288 with 1 Axes>"
            ]
          },
          "metadata": {
            "needs_background": "light"
          }
        }
      ]
    },
    {
      "cell_type": "markdown",
      "metadata": {
        "id": "cUcHnFXDHrLF"
      },
      "source": [
        "시각화를 통해 비교해본 결과, 비슷한 패턴을 보이나 전체적으로 예측 결과가 실제 값에 비해 더 높은 값으로 예측하는 경향을 가지고 있다."
      ]
    },
    {
      "cell_type": "code",
      "metadata": {
        "id": "tBMQjIa7Hlsv"
      },
      "source": [
        ""
      ],
      "execution_count": null,
      "outputs": []
    }
  ]
}